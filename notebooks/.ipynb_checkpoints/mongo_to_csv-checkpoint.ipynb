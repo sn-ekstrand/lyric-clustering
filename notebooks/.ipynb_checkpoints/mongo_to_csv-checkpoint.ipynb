{
 "cells": [
  {
   "cell_type": "code",
   "execution_count": 13,
   "metadata": {},
   "outputs": [],
   "source": [
    "import pandas as pd\n",
    "from pymongo import MongoClient\n",
    "\n",
    "client = MongoClient('localhost', 27017)\n",
    "db = client['songs']\n",
    "collection = db['lyrics']\n",
    "\n",
    "# # method 1 ...doesn't work as well as method 2\n",
    "# df = pd.DataFrame(list(collection.find({},{'_id':0})))\n",
    "# df.to_csv('lyrics_01.csv')\n",
    "\n",
    "# method 2\n",
    "df = pd.DataFrame(list(collection.find({},{'_id':0})))\n",
    "df.to_json('lyrics_01.json')\n"
   ]
  }
 ],
 "metadata": {
  "kernelspec": {
   "display_name": "Python 3",
   "language": "python",
   "name": "python3"
  },
  "language_info": {
   "codemirror_mode": {
    "name": "ipython",
    "version": 3
   },
   "file_extension": ".py",
   "mimetype": "text/x-python",
   "name": "python",
   "nbconvert_exporter": "python",
   "pygments_lexer": "ipython3",
   "version": "3.7.7"
  }
 },
 "nbformat": 4,
 "nbformat_minor": 4
}
