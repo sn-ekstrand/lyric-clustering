{
 "cells": [
  {
   "cell_type": "code",
   "execution_count": 2,
   "metadata": {},
   "outputs": [],
   "source": [
    "import time\n",
    "from pymongo import MongoClient\n",
    "import requests\n",
    "from bs4 import BeautifulSoup\n",
    "import json"
   ]
  },
  {
   "cell_type": "code",
   "execution_count": 1,
   "metadata": {},
   "outputs": [],
   "source": [
    "# client = MongoClient('localhost', 27017)\n",
    "# db = client.songs\n",
    "# collection = db.lyrics"
   ]
  },
  {
   "cell_type": "code",
   "execution_count": 5,
   "metadata": {},
   "outputs": [],
   "source": [
    "## possibly wont work with pymongo\n",
    "# songs = collection.find()\n",
    "# track_features = {}\n",
    "# for s in songs:\n",
    "#     if s['lyrics'] == None:\n",
    "#         continue\n",
    "#     artist = s['artist']\n",
    "#     title = s['title']\n",
    "    \n",
    "    # search Spotify for track id\n",
    "    # error code 429 - wait n number of seconds to try again\n",
    "access_token = None\n",
    "artist_info = requests.get('https://api.spotify.com/v1/search', \n",
    "                           headers={'access_token': access_token }, \n",
    "                           params={'q': 'The Weeknd', \n",
    "                                   'type': 'artist' })\n",
    "\n",
    "    # add id to track_ids\n",
    "    \n",
    "    # add Spotify track id to s\n",
    "    "
   ]
  },
  {
   "cell_type": "code",
   "execution_count": 6,
   "metadata": {},
   "outputs": [
    {
     "data": {
      "text/plain": [
       "'{\\n  \"error\": {\\n    \"status\": 401,\\n    \"message\": \"No token provided\"\\n  }\\n}'"
      ]
     },
     "execution_count": 6,
     "metadata": {},
     "output_type": "execute_result"
    }
   ],
   "source": [
    "artist_info.text"
   ]
  },
  {
   "cell_type": "code",
   "execution_count": null,
   "metadata": {},
   "outputs": [],
   "source": [
    "# use Spotify track ids to search for song features\n",
    "\n",
    "# add song features to mongodb items\n",
    "    "
   ]
  }
 ],
 "metadata": {
  "kernelspec": {
   "display_name": "Python 3",
   "language": "python",
   "name": "python3"
  },
  "language_info": {
   "codemirror_mode": {
    "name": "ipython",
    "version": 3
   },
   "file_extension": ".py",
   "mimetype": "text/x-python",
   "name": "python",
   "nbconvert_exporter": "python",
   "pygments_lexer": "ipython3",
   "version": "3.7.7"
  }
 },
 "nbformat": 4,
 "nbformat_minor": 4
}
