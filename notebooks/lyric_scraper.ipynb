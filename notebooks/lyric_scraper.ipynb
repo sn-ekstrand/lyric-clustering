{
 "cells": [
  {
   "cell_type": "code",
   "execution_count": 16,
   "metadata": {},
   "outputs": [],
   "source": [
    "import time\n",
    "from pymongo import MongoClient\n",
    "import requests\n",
    "from bs4 import BeautifulSoup\n",
    "import json"
   ]
  },
  {
   "cell_type": "code",
   "execution_count": null,
   "metadata": {},
   "outputs": [],
   "source": [
    "# client = MongoClient('localhost', 27017)\n",
    "# db = client.songs\n",
    "# collection = db.lyrics"
   ]
  },
  {
   "cell_type": "code",
   "execution_count": 11,
   "metadata": {},
   "outputs": [],
   "source": [
    "song = (artist, title)"
   ]
  },
  {
   "cell_type": "code",
   "execution_count": 12,
   "metadata": {},
   "outputs": [],
   "source": [
    "\n",
    "# for song in artist_songs:\n",
    "lyrics = requests.get('https://api.lyrics.ovh/v1/{}/{}'.format(song[0], song[1])).text\n",
    "# time.sleep(60)"
   ]
  },
  {
   "cell_type": "code",
   "execution_count": 14,
   "metadata": {},
   "outputs": [
    {
     "name": "stdout",
     "output_type": "stream",
     "text": [
      "{\"lyrics\":\"[Verse 1:]\\r\\nDay n nite...\\r\\nI toss and turn, \\n\\nI keep stressin' my mind, mind.\\r\\nI look for peace, but see I don't attain.\\r\\nWhat I need for keeps \\n\\nthis silly game we play, play.\\n\\n\\n\\nNow look at this...\\n\\nMadness the magnet keeps attracting me, me.\\n\\nI try to run, but see I'm not that fast.\\n\\nI think the first but surely \\n\\nfinish last, last.\\n\\n\\n\\n[Chorus:]\\n\\nCause day n nite.\\n\\nThe lonely loner seems to free his mind at nite\\n\\nHe's all alone through the day n nite.\\n\\nThe lonely loner seems to free his mind at nite, ah ah at nite.\\n\\nDay n nite.\\n\\nThe lonely loner seems to free his mind at nite.\\n\\nHe's all alone, some things will never change.\\n\\nThe lonely loner seems \\n\\nto free his mind at nite, ah ah at nite\\n\\n\\n\\n[Verse 2:]\\n\\nHold the phone...\\n\\nThe lonely stoner missed his solo doe low.\\n\\nHe's on the move, can't seem to shake the shake.\\n\\nWithin his dreams he sees the life he made. Made.\\n\\nThe pain is deep...\\n\\nA silent sleeper, you won't hear a peep, peep.\\n\\nThe girl he wants don't seem to want him too.\\n\\nIt seems the feelings that she had are through. Through.\\n\\n\\n\\n[Chorus:]\\n\\nCause day n nite.\\n\\nThe lonely loner seems to free his mind at nite\\n\\nHe's all alone through the day n nite.\\n\\nThe lonely loner seems \\n\\nto free his mind at nite, ah ah at nite.\\n\\nDay n nite.\\n\\nThe lonely loner seems to free his mind at nite.\\n\\nHe's all alone, some things will never change.\\n\\nThe lonely loner seems \\n\\nto free his mind at nite, ah ah at nite\\n\\n\\n\\n[Verse 3:]\\n\\nSlow mo...\\n\\nWhen the tempo slows up \\n\\nand creates that new, new.\\n\\nHe seems alive, though he is feelin blue.\\n\\nThe sun is shinin man he's super cool. Cool...\\n\\nThe lonely nites, they fade away \\n\\nhe slips into his white Nikes.\\n\\nHe smokes a clip and then he's on the way,\\n\\nTo free his mind in search of...\\n\\nTo free his mind in search of...\\n\\nTo free his mind in search of...\\n\\n\\n\\n[Chorus:]\\n\\nDay n nite.\\n\\nThe lonely loner seems to free his mind at nite\\n\\nHe's all alone through the day n nite.\\n\\nThe lonely loner seems \\n\\nto free his mind at nite, ah ah at nite.\\n\\nDay n nite.\\n\\nThe lonely stoner seems to free his mind at nite.\\n\\nHe's all alone, some things will never change.\\n\\nThe lonely loner seems \\n\\nto free his mind at night, ah ah at night.\"}\n"
     ]
    }
   ],
   "source": [
    "print(lyrics)"
   ]
  },
  {
   "cell_type": "code",
   "execution_count": null,
   "metadata": {},
   "outputs": [],
   "source": []
  }
 ],
 "metadata": {
  "kernelspec": {
   "display_name": "Python 3",
   "language": "python",
   "name": "python3"
  },
  "language_info": {
   "codemirror_mode": {
    "name": "ipython",
    "version": 3
   },
   "file_extension": ".py",
   "mimetype": "text/x-python",
   "name": "python",
   "nbconvert_exporter": "python",
   "pygments_lexer": "ipython3",
   "version": "3.7.7"
  }
 },
 "nbformat": 4,
 "nbformat_minor": 4
}
