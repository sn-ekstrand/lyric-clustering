{
 "cells": [
  {
   "cell_type": "code",
   "execution_count": 1,
   "metadata": {},
   "outputs": [],
   "source": [
    "import pandas as pd\n",
    "import numpy as np\n",
    "import matplotlib.pyplot as plt\n",
    "%matplotlib inline\n",
    "plt.style.use('ggplot')"
   ]
  },
  {
   "cell_type": "code",
   "execution_count": 2,
   "metadata": {},
   "outputs": [],
   "source": [
    "# method 1\n",
    "df = pd.read_csv('../data/lyrics_01.csv')\n",
    "\n",
    "# method 2\n",
    "df = pd.read_csv('../data/lyrics_01.csv')"
   ]
  },
  {
   "cell_type": "code",
   "execution_count": 3,
   "metadata": {},
   "outputs": [],
   "source": [
    "# df.head()\n",
    "\n",
    "# df.tail()\n",
    "\n",
    "# df.describe()\n",
    "\n",
    "# df.info()"
   ]
  },
  {
   "cell_type": "code",
   "execution_count": 4,
   "metadata": {},
   "outputs": [],
   "source": [
    "df = df.dropna()"
   ]
  },
  {
   "cell_type": "code",
   "execution_count": 5,
   "metadata": {},
   "outputs": [
    {
     "name": "stdout",
     "output_type": "stream",
     "text": [
      "<class 'pandas.core.frame.DataFrame'>\n",
      "Int64Index: 9394 entries, 1 to 10219\n",
      "Data columns (total 6 columns):\n",
      " #   Column      Non-Null Count  Dtype  \n",
      "---  ------      --------------  -----  \n",
      " 0   Unnamed: 0  9394 non-null   object \n",
      " 1   week        9394 non-null   object \n",
      " 2   standing    9394 non-null   float64\n",
      " 3   artist      9394 non-null   object \n",
      " 4   title       9394 non-null   object \n",
      " 5   lyrics      9394 non-null   object \n",
      "dtypes: float64(1), object(5)\n",
      "memory usage: 513.7+ KB\n"
     ]
    }
   ],
   "source": [
    "df.info()"
   ]
  },
  {
   "cell_type": "code",
   "execution_count": 6,
   "metadata": {},
   "outputs": [
    {
     "data": {
      "text/html": [
       "<div>\n",
       "<style scoped>\n",
       "    .dataframe tbody tr th:only-of-type {\n",
       "        vertical-align: middle;\n",
       "    }\n",
       "\n",
       "    .dataframe tbody tr th {\n",
       "        vertical-align: top;\n",
       "    }\n",
       "\n",
       "    .dataframe thead th {\n",
       "        text-align: right;\n",
       "    }\n",
       "</style>\n",
       "<table border=\"1\" class=\"dataframe\">\n",
       "  <thead>\n",
       "    <tr style=\"text-align: right;\">\n",
       "      <th></th>\n",
       "      <th>standing</th>\n",
       "    </tr>\n",
       "  </thead>\n",
       "  <tbody>\n",
       "    <tr>\n",
       "      <th>count</th>\n",
       "      <td>9394.000000</td>\n",
       "    </tr>\n",
       "    <tr>\n",
       "      <th>mean</th>\n",
       "      <td>50.076219</td>\n",
       "    </tr>\n",
       "    <tr>\n",
       "      <th>std</th>\n",
       "      <td>28.815325</td>\n",
       "    </tr>\n",
       "    <tr>\n",
       "      <th>min</th>\n",
       "      <td>1.000000</td>\n",
       "    </tr>\n",
       "    <tr>\n",
       "      <th>25%</th>\n",
       "      <td>25.000000</td>\n",
       "    </tr>\n",
       "    <tr>\n",
       "      <th>50%</th>\n",
       "      <td>50.000000</td>\n",
       "    </tr>\n",
       "    <tr>\n",
       "      <th>75%</th>\n",
       "      <td>75.000000</td>\n",
       "    </tr>\n",
       "    <tr>\n",
       "      <th>max</th>\n",
       "      <td>100.000000</td>\n",
       "    </tr>\n",
       "  </tbody>\n",
       "</table>\n",
       "</div>"
      ],
      "text/plain": [
       "          standing\n",
       "count  9394.000000\n",
       "mean     50.076219\n",
       "std      28.815325\n",
       "min       1.000000\n",
       "25%      25.000000\n",
       "50%      50.000000\n",
       "75%      75.000000\n",
       "max     100.000000"
      ]
     },
     "execution_count": 6,
     "metadata": {},
     "output_type": "execute_result"
    }
   ],
   "source": [
    "df.describe()"
   ]
  },
  {
   "cell_type": "code",
   "execution_count": 7,
   "metadata": {},
   "outputs": [],
   "source": [
    "# df.head()\n",
    "\n",
    "# df.tail()\n",
    "\n",
    "df.reset_index(inplace=True)\n",
    "\n",
    "# df.tail()\n",
    "\n",
    "df.drop(['index', 'Unnamed: 0'], axis=1, inplace=True)\n",
    "\n",
    "# df.head()"
   ]
  },
  {
   "cell_type": "code",
   "execution_count": null,
   "metadata": {},
   "outputs": [],
   "source": []
  },
  {
   "cell_type": "code",
   "execution_count": 9,
   "metadata": {},
   "outputs": [
    {
     "data": {
      "text/html": [
       "<div>\n",
       "<style scoped>\n",
       "    .dataframe tbody tr th:only-of-type {\n",
       "        vertical-align: middle;\n",
       "    }\n",
       "\n",
       "    .dataframe tbody tr th {\n",
       "        vertical-align: top;\n",
       "    }\n",
       "\n",
       "    .dataframe thead th {\n",
       "        text-align: right;\n",
       "    }\n",
       "</style>\n",
       "<table border=\"1\" class=\"dataframe\">\n",
       "  <thead>\n",
       "    <tr style=\"text-align: right;\">\n",
       "      <th></th>\n",
       "      <th>week</th>\n",
       "      <th>standing</th>\n",
       "      <th>artist</th>\n",
       "      <th>title</th>\n",
       "      <th>lyrics</th>\n",
       "    </tr>\n",
       "  </thead>\n",
       "  <tbody>\n",
       "    <tr>\n",
       "      <th>0</th>\n",
       "      <td>2020-05-02</td>\n",
       "      <td>2.0</td>\n",
       "      <td>Drake</td>\n",
       "      <td>Toosie Slide</td>\n",
       "      <td>Black leather gloves, no sequins (Yeah, yeah, ...</td>\n",
       "    </tr>\n",
       "    <tr>\n",
       "      <th>1</th>\n",
       "      <td>2020-05-02</td>\n",
       "      <td>3.0</td>\n",
       "      <td>Roddy Ricch</td>\n",
       "      <td>The Box</td>\n",
       "      <td>Pullin' out the coupe at the lot\\r\\nTold 'em f...</td>\n",
       "    </tr>\n",
       "    <tr>\n",
       "      <th>2</th>\n",
       "      <td>2020-05-02</td>\n",
       "      <td>4.0</td>\n",
       "      <td>Dua Lipa</td>\n",
       "      <td>Don't Start Now</td>\n",
       "      <td>If you don't wanna see me\\r\\nDid a full 180, c...</td>\n",
       "    </tr>\n",
       "    <tr>\n",
       "      <th>3</th>\n",
       "      <td>2020-05-02</td>\n",
       "      <td>5.0</td>\n",
       "      <td>Doja Cat</td>\n",
       "      <td>Say So</td>\n",
       "      <td>Day and night til morning, keeping me in the m...</td>\n",
       "    </tr>\n",
       "    <tr>\n",
       "      <th>4</th>\n",
       "      <td>2020-05-02</td>\n",
       "      <td>6.0</td>\n",
       "      <td>Post Malone</td>\n",
       "      <td>Circles</td>\n",
       "      <td>Hey, hey, hey, hey\\r\\nOh, oh, oh-oh\\r\\nOh, oh,...</td>\n",
       "    </tr>\n",
       "    <tr>\n",
       "      <th>...</th>\n",
       "      <td>...</td>\n",
       "      <td>...</td>\n",
       "      <td>...</td>\n",
       "      <td>...</td>\n",
       "      <td>...</td>\n",
       "    </tr>\n",
       "    <tr>\n",
       "      <th>9383</th>\n",
       "      <td>1995-09-02</td>\n",
       "      <td>67.0</td>\n",
       "      <td>Sponge</td>\n",
       "      <td>Molly (Sixteen Candles)</td>\n",
       "      <td>i see you naked in the bath\\r\\ncigarette stain...</td>\n",
       "    </tr>\n",
       "    <tr>\n",
       "      <th>9384</th>\n",
       "      <td>1995-09-02</td>\n",
       "      <td>68.0</td>\n",
       "      <td>Elton John</td>\n",
       "      <td>Made In England</td>\n",
       "      <td>I was made in England out of Cadillac muscle\\r...</td>\n",
       "    </tr>\n",
       "    <tr>\n",
       "      <th>9386</th>\n",
       "      <td>1995-09-02</td>\n",
       "      <td>70.0</td>\n",
       "      <td>Los Del Rio</td>\n",
       "      <td>Macarena (Bayside Boys Mix)</td>\n",
       "      <td>Dale a tu cuerpo alegria Macarena\\r\\nQue tu cu...</td>\n",
       "    </tr>\n",
       "    <tr>\n",
       "      <th>9388</th>\n",
       "      <td>1995-09-02</td>\n",
       "      <td>72.0</td>\n",
       "      <td>Solo</td>\n",
       "      <td>Heaven</td>\n",
       "      <td>[Verse 1:]\\r\\nI never lived my days\\r\\nLike th...</td>\n",
       "    </tr>\n",
       "    <tr>\n",
       "      <th>9389</th>\n",
       "      <td>1995-09-02</td>\n",
       "      <td>74.0</td>\n",
       "      <td>Deep Blue Something</td>\n",
       "      <td>Breakfast At Tiffany's</td>\n",
       "      <td>You'll say we've got nothing in common \\nNo co...</td>\n",
       "    </tr>\n",
       "  </tbody>\n",
       "</table>\n",
       "<p>6970 rows × 5 columns</p>\n",
       "</div>"
      ],
      "text/plain": [
       "            week  standing               artist                        title  \\\n",
       "0     2020-05-02       2.0                Drake                 Toosie Slide   \n",
       "1     2020-05-02       3.0          Roddy Ricch                      The Box   \n",
       "2     2020-05-02       4.0             Dua Lipa              Don't Start Now   \n",
       "3     2020-05-02       5.0             Doja Cat                       Say So   \n",
       "4     2020-05-02       6.0          Post Malone                      Circles   \n",
       "...          ...       ...                  ...                          ...   \n",
       "9383  1995-09-02      67.0               Sponge      Molly (Sixteen Candles)   \n",
       "9384  1995-09-02      68.0           Elton John              Made In England   \n",
       "9386  1995-09-02      70.0          Los Del Rio  Macarena (Bayside Boys Mix)   \n",
       "9388  1995-09-02      72.0                 Solo                       Heaven   \n",
       "9389  1995-09-02      74.0  Deep Blue Something       Breakfast At Tiffany's   \n",
       "\n",
       "                                                 lyrics  \n",
       "0     Black leather gloves, no sequins (Yeah, yeah, ...  \n",
       "1     Pullin' out the coupe at the lot\\r\\nTold 'em f...  \n",
       "2     If you don't wanna see me\\r\\nDid a full 180, c...  \n",
       "3     Day and night til morning, keeping me in the m...  \n",
       "4     Hey, hey, hey, hey\\r\\nOh, oh, oh-oh\\r\\nOh, oh,...  \n",
       "...                                                 ...  \n",
       "9383  i see you naked in the bath\\r\\ncigarette stain...  \n",
       "9384  I was made in England out of Cadillac muscle\\r...  \n",
       "9386  Dale a tu cuerpo alegria Macarena\\r\\nQue tu cu...  \n",
       "9388  [Verse 1:]\\r\\nI never lived my days\\r\\nLike th...  \n",
       "9389  You'll say we've got nothing in common \\nNo co...  \n",
       "\n",
       "[6970 rows x 5 columns]"
      ]
     },
     "execution_count": 9,
     "metadata": {},
     "output_type": "execute_result"
    }
   ],
   "source": [
    "r_list = []\n",
    "for row in df['lyrics']:\n",
    "    r_list.append('\\r' in row)\n",
    "\n",
    "df[r_list]"
   ]
  },
  {
   "cell_type": "code",
   "execution_count": null,
   "metadata": {},
   "outputs": [],
   "source": []
  },
  {
   "cell_type": "code",
   "execution_count": 12,
   "metadata": {},
   "outputs": [
    {
     "data": {
      "text/plain": [
       "185     I'm done hating myself for feeling\\r\\nI'm done...\n",
       "266     I'm done hating myself for feeling\\r\\nI'm done...\n",
       "4172            Once again there's some what's in the pen\n",
       "Name: lyrics, dtype: object"
      ]
     },
     "execution_count": 12,
     "metadata": {},
     "output_type": "execute_result"
    }
   ],
   "source": [
    "# some lyrics are cut off after \\r...\n",
    "df[df['title'] == 'How Do You Sleep?']['lyrics']"
   ]
  },
  {
   "cell_type": "code",
   "execution_count": 14,
   "metadata": {},
   "outputs": [
    {
     "data": {
      "text/plain": [
       "\"Pullin' out the coupe at the lot\\r\\nTold 'em fuck 12, fuck SWAT\\r\\nBustin' all the bales\\u2005out\\u2005the box\\r\\n\\nI just\\u2005hit a lick with the box\\r\\nHad\\u2005to put the stick in a box, mmh\\r\\nPour up the whole damn seal, I'ma get lazy\\n\\nI got the mojo deals, we been trappin' like the '80s\\n\\nShe sucked a nigga soul, got the Cash App\\n\\nTold 'em wipe a nigga nose, say slatt, slatt\\n\\nI won't never sell my soul, and I can back that\\n\\nAnd I really wanna know when you wet wet\\n\\n\\n\\nI was out back where the stash at\\n\\nCruise the city in a bulletproof Cadillac (Skrrt)\\n\\n'Cause I know these niggas after where the bag at (Yeah)\\n\\nGotta move smarter, gotta move harder\\n\\nNigga try to get me for my water\\n\\nI'll lay his ass down, on my son, on my daughter\\n\\nI had the Draco with me, Dwayne Carter\\n\\nLotta niggas out here playin' ain't ballin'\\n\\nI done put my whole arm in the rim, Vince Carter (Yeah)\\n\\nAnd I know probably get a key for the quarter\\n\\nShawty barely seen in double C's, I bought 'em\\n\\nGot a bitch that's looking like Aaliyah, she a model\\n\\nI got the pink slip, all my whips is key-less\\n\\nCompton, I'm about to get the key to the city\\n\\nPatek like the sea, forget it\\n\\n\\n\\nPullin' out the coupe at the lot\\n\\nTold 'em fuck 12, fuck SWAT\\n\\nBustin' all the bales out the box\\n\\nI just hit a lick with the box\\n\\nHad to put the stick in a box, mmh\\n\\nPour up the whole damn seal, I'ma get lazy\\n\\nI got the mojo deals, we been trappin' like the '80s\\n\\nShe sucked a nigga soul, got the Cash App\\n\\nTold 'em wipe a nigga nose, say slatt, slatt\\n\\nI won't never sell my soul, and I can back that\\n\\nAnd I really wanna know when you wet wet, hah\\n\\n\\n\\nHahaha, I been movin' 'em out\\n\\nIt's still up with me then, he got the blues in the pouch (Yeah)\\n\\nTook her to the forest, put the wood in her mouth\\n\\nBitch don't wear no shoes in my house\\n\\nThe private I'm flyin' in, I never wan' fly again\\n\\nI'll take my chances in traffic (Yeah)\\n\\nShe suckin' on dick, no hands with it\\n\\nI just made the Rollie plain like a landing strip\\n\\nI'm a 2020 president candidate\\n\\nI done put a hundred bands on Zimmerman, shit\\n\\nI been movin' real gangster, so that's why she picked a Crip\\n\\nShawty call me Crisco 'cause I pop my shit\\n\\nGot it out the mud, there's nothin' you can tell me, yeah\\n\\nWhen I had the drugs, I was street wealthy, yeah\\n\\n\\n\\nPullin' out the coupe at the lot\\n\\nTold 'em fuck 12, fuck SWAT\\n\\nBustin' all the bales out the box\\n\\nI just hit a lick with the box\\n\\nHad to put the stick in a box, mmh\\n\\nPour up the whole damn seal, I'ma get lazy\\n\\nI got the mojo deals, we been trappin' like the '80s\\n\\nShe sucked a nigga soul, got the Cash App\\n\\nTold 'em wipe a nigga nose, say slatt, slatt\\n\\nI won't never sell my soul, and I can back that\\n\\nAnd I really wanna know when you wet wet\""
      ]
     },
     "execution_count": 14,
     "metadata": {},
     "output_type": "execute_result"
    }
   ],
   "source": [
    "# while some others are not\n",
    "# something apears to be happening with the export\n",
    "# maybe this one works because the \\r is followed by \\n?\n",
    "df['lyrics'][1]"
   ]
  },
  {
   "cell_type": "code",
   "execution_count": null,
   "metadata": {},
   "outputs": [],
   "source": []
  },
  {
   "cell_type": "code",
   "execution_count": null,
   "metadata": {},
   "outputs": [],
   "source": [
    "def remove_specials_in_column(df, col_num):\n",
    "    for idx, entry in enumerate(df.iloc[:,col_num]):\n",
    "        df.iloc[idx, col_num] = remove_specials(df.iloc[idx, col_num])"
   ]
  },
  {
   "cell_type": "code",
   "execution_count": null,
   "metadata": {},
   "outputs": [],
   "source": [
    "def remove_specials(text):\n",
    "    result = text.replace('\\n', ' ')\n",
    "    result = result.replace('\\r', ' ')\n",
    "    result = result.replace('\\t', ' ')\n",
    "    return result"
   ]
  },
  {
   "cell_type": "code",
   "execution_count": null,
   "metadata": {},
   "outputs": [],
   "source": [
    "lyrics_idx = df.columns.get_loc('lyrics')\n",
    "remove_specials_in_column(df, lyrics_idx)"
   ]
  },
  {
   "cell_type": "code",
   "execution_count": null,
   "metadata": {},
   "outputs": [],
   "source": [
    "df['character_count'] = 0\n",
    "for idx, row in enumerate(df['lyrics']):\n",
    "    df.iloc[idx, 5] = len(row)"
   ]
  },
  {
   "cell_type": "code",
   "execution_count": null,
   "metadata": {},
   "outputs": [],
   "source": [
    "df['week'] = pd.to_datetime(df['week'])"
   ]
  },
  {
   "cell_type": "code",
   "execution_count": null,
   "metadata": {},
   "outputs": [],
   "source": [
    "df.head()"
   ]
  },
  {
   "cell_type": "code",
   "execution_count": null,
   "metadata": {},
   "outputs": [],
   "source": [
    "plt.hist(df['character_count'], bins=100);"
   ]
  },
  {
   "cell_type": "code",
   "execution_count": null,
   "metadata": {},
   "outputs": [],
   "source": [
    "min(df['character_count'])"
   ]
  },
  {
   "cell_type": "code",
   "execution_count": null,
   "metadata": {},
   "outputs": [],
   "source": [
    "df[df['character_count'] == 8]"
   ]
  },
  {
   "cell_type": "code",
   "execution_count": null,
   "metadata": {},
   "outputs": [],
   "source": [
    "df['word_count'] = 0\n",
    "for idx, row in enumerate(df['lyrics']):\n",
    "    df.iloc[idx, 6] = len(row.split())"
   ]
  },
  {
   "cell_type": "code",
   "execution_count": null,
   "metadata": {},
   "outputs": [],
   "source": [
    "fig, ax = plt.subplots(figsize=(12,8))\n",
    "ax.hist(df['word_count'], bins=150)\n",
    "ax.set_xlabel('Word Count')\n",
    "ax.set_ylabel('Number of Songs')\n",
    "ax.set_title('Song Word Count Distribution for Hit Songs Going 20 Years Back');"
   ]
  },
  {
   "cell_type": "code",
   "execution_count": null,
   "metadata": {},
   "outputs": [],
   "source": [
    "df[df['word_count'] < 10].head()"
   ]
  },
  {
   "cell_type": "code",
   "execution_count": null,
   "metadata": {},
   "outputs": [],
   "source": []
  },
  {
   "cell_type": "code",
   "execution_count": null,
   "metadata": {},
   "outputs": [],
   "source": [
    "print('Word Count for Standing <  75: ', round(np.mean(df[df['standing'] < 75]['word_count'])), \n",
    "      '\\nWord Count for Standing >= 75: ', round(np.mean(df[df['standing'] >= 75]['word_count'])))"
   ]
  },
  {
   "cell_type": "markdown",
   "metadata": {},
   "source": [
    "<b>Disclaimer: Not every week of the Hot 100 was pulled.  \n",
    "    Charts were pulled for every 13 weeks because of project time constraints.  \n",
    "    Data does not show how long a song stayed in the top 100 or what it's max standing was.</b>"
   ]
  },
  {
   "cell_type": "code",
   "execution_count": null,
   "metadata": {},
   "outputs": [],
   "source": [
    "fig, ax = plt.subplots(figsize=(12, 4))\n",
    "ax.boxplot([df[df['standing'] < 75]['word_count'], \n",
    "            df[df['standing'] >= 75]['word_count']], vert=False)\n",
    "ax.set_yticklabels(labels=['Standing < 75', 'Standing >= 75'])\n",
    "ax.set_title('Standing and Word Count');"
   ]
  },
  {
   "cell_type": "markdown",
   "metadata": {},
   "source": [
    "### What songs have more than 1000 words?"
   ]
  },
  {
   "cell_type": "code",
   "execution_count": null,
   "metadata": {},
   "outputs": [],
   "source": [
    "df[df['word_count'] > 1000].head(10)"
   ]
  },
  {
   "cell_type": "markdown",
   "metadata": {},
   "source": [
    "<b> It apears that rap songs have a lot of words. Who would've thought? </b>"
   ]
  },
  {
   "cell_type": "markdown",
   "metadata": {},
   "source": [
    "### Then what songs have the fewest words?"
   ]
  },
  {
   "cell_type": "markdown",
   "metadata": {},
   "source": [
    "Let's look at the word count histogram again."
   ]
  },
  {
   "cell_type": "code",
   "execution_count": null,
   "metadata": {},
   "outputs": [],
   "source": [
    "fig, ax = plt.subplots(figsize=(12,8))\n",
    "ax.hist(df['word_count'], bins=150)\n",
    "ax.set_xlabel('Word Count')\n",
    "ax.set_ylabel('Number of Songs')\n",
    "ax.set_title('Song Word Count Distribution for Hit Songs Going 20 Years Back');"
   ]
  },
  {
   "cell_type": "markdown",
   "metadata": {},
   "source": [
    "### Which songs have less than 100 words?"
   ]
  },
  {
   "cell_type": "code",
   "execution_count": null,
   "metadata": {},
   "outputs": [],
   "source": [
    "df[df['word_count'] < 100]"
   ]
  },
  {
   "cell_type": "markdown",
   "metadata": {},
   "source": [
    "### Some song lyrics could not be pulled"
   ]
  },
  {
   "cell_type": "code",
   "execution_count": null,
   "metadata": {},
   "outputs": [],
   "source": [
    "# 2Pac - So Many Tears\n",
    "lyrics_idx = df.columns.get_loc('lyrics')\n",
    "df.iloc[9380, lyrics_idx]"
   ]
  },
  {
   "cell_type": "code",
   "execution_count": null,
   "metadata": {},
   "outputs": [],
   "source": [
    "not_licensed_err = 'Unfortunately, we are not licensed to display the full lyrics for this song at the moment. Hopefully we will be able to in the future. Until then... how about a random page?'"
   ]
  },
  {
   "cell_type": "code",
   "execution_count": null,
   "metadata": {},
   "outputs": [],
   "source": [
    "df[df['lyrics'] == not_licensed_err]"
   ]
  },
  {
   "cell_type": "code",
   "execution_count": null,
   "metadata": {},
   "outputs": [],
   "source": [
    "df = df.drop(df[df['lyrics'] == not_licensed_err].index, axis=0)"
   ]
  },
  {
   "cell_type": "code",
   "execution_count": null,
   "metadata": {},
   "outputs": [],
   "source": [
    "df.head(3)"
   ]
  },
  {
   "cell_type": "code",
   "execution_count": null,
   "metadata": {},
   "outputs": [],
   "source": [
    "df.tail(3)"
   ]
  },
  {
   "cell_type": "code",
   "execution_count": null,
   "metadata": {},
   "outputs": [],
   "source": [
    "df.reset_index(drop=True, inplace=True)"
   ]
  },
  {
   "cell_type": "code",
   "execution_count": null,
   "metadata": {},
   "outputs": [],
   "source": [
    "df.tail(3)"
   ]
  },
  {
   "cell_type": "markdown",
   "metadata": {},
   "source": [
    "### Again, which songs have less than 100 words?"
   ]
  },
  {
   "cell_type": "code",
   "execution_count": null,
   "metadata": {
    "scrolled": true
   },
   "outputs": [],
   "source": [
    "df[df['word_count'] < 100]"
   ]
  },
  {
   "cell_type": "markdown",
   "metadata": {},
   "source": [
    "<b> The genres are a little bit more mixed this time.</b>"
   ]
  },
  {
   "cell_type": "markdown",
   "metadata": {},
   "source": [
    "### How about less than 50 words?"
   ]
  },
  {
   "cell_type": "code",
   "execution_count": null,
   "metadata": {
    "scrolled": true
   },
   "outputs": [],
   "source": [
    "df[df['word_count'] < 50]"
   ]
  },
  {
   "cell_type": "markdown",
   "metadata": {},
   "source": [
    "<b> We've got some lyric values of \"[Instrumental]\", \"[Lyrics Removed]\", \"-techno-\", \"Instrumental\", and some that were removed because of copyright.  \n",
    "\n",
    "Let's drop the \"[Lyrics Removed]\" and the ones with copyright issues.</b>"
   ]
  },
  {
   "cell_type": "code",
   "execution_count": null,
   "metadata": {},
   "outputs": [],
   "source": [
    "df[df['lyrics'] == '[Lyrics Removed]']"
   ]
  },
  {
   "cell_type": "code",
   "execution_count": null,
   "metadata": {},
   "outputs": [],
   "source": [
    "copyright_issue_text = 'Due to copyright restrictions, we are not authorized to display these lyrics.'\n",
    "df[df['lyrics'] == copyright_issue_text]"
   ]
  },
  {
   "cell_type": "code",
   "execution_count": null,
   "metadata": {},
   "outputs": [],
   "source": [
    "df = df.drop(df[df['lyrics'] == '[Lyrics Removed]'].index, axis=0)"
   ]
  },
  {
   "cell_type": "code",
   "execution_count": null,
   "metadata": {},
   "outputs": [],
   "source": [
    "df = df.drop(df[df['lyrics'] == copyright_issue_text].index, axis=0)"
   ]
  },
  {
   "cell_type": "code",
   "execution_count": null,
   "metadata": {},
   "outputs": [],
   "source": [
    "df.reset_index(drop=True, inplace=True)"
   ]
  },
  {
   "cell_type": "code",
   "execution_count": null,
   "metadata": {},
   "outputs": [],
   "source": [
    "df.tail(3)"
   ]
  },
  {
   "cell_type": "markdown",
   "metadata": {},
   "source": [
    "<b>Techno, Instrumental, and any other songs that are free of lyrics might be usefull to keep track of. How should we take not of them? </b>"
   ]
  },
  {
   "cell_type": "code",
   "execution_count": null,
   "metadata": {},
   "outputs": [],
   "source": [
    "lyrics_idx = df.columns.get_loc('lyrics')"
   ]
  },
  {
   "cell_type": "code",
   "execution_count": null,
   "metadata": {},
   "outputs": [],
   "source": [
    "df[df['lyrics'] == 'Instrumental']"
   ]
  },
  {
   "cell_type": "code",
   "execution_count": null,
   "metadata": {},
   "outputs": [],
   "source": [
    "# replace descriptions with '-1'\n",
    "lyrics_idx = df.columns.get_loc('lyrics')\n",
    "no_lyric_desc = ['Instrumental', '-techno-', '[Instrumental]']\n",
    "df['lyrics'].replace(no_lyric_desc, '-1', inplace=True)"
   ]
  },
  {
   "cell_type": "code",
   "execution_count": null,
   "metadata": {},
   "outputs": [],
   "source": [
    "df[df['word_count'] < 5]"
   ]
  },
  {
   "cell_type": "code",
   "execution_count": null,
   "metadata": {},
   "outputs": [],
   "source": [
    "df['lyrics']"
   ]
  },
  {
   "cell_type": "markdown",
   "metadata": {},
   "source": [
    "### It looks like some songs don't have complete lyrics"
   ]
  },
  {
   "cell_type": "markdown",
   "metadata": {},
   "source": [
    "For example, Demi Lovato: Don't Forget, Darryl Worley: Have You Forgotten?, Amber: Colour Of Love, "
   ]
  },
  {
   "cell_type": "code",
   "execution_count": null,
   "metadata": {
    "scrolled": false
   },
   "outputs": [],
   "source": [
    "df[(df['word_count'] < 15) & (df['word_count'] > 2)]"
   ]
  },
  {
   "cell_type": "markdown",
   "metadata": {},
   "source": [
    "The lyrics are complete in mongodb and incomplete in the dataframe created from the csv. It appears the text is stopping after \"\\r\" shows up in the text. This doesn't make a lot of sense because there were definitely some lyrics that made it into the dataframe with \"\\r\" in them."
   ]
  },
  {
   "cell_type": "code",
   "execution_count": null,
   "metadata": {},
   "outputs": [],
   "source": []
  },
  {
   "cell_type": "markdown",
   "metadata": {},
   "source": [
    "### Love and Hate"
   ]
  },
  {
   "cell_type": "code",
   "execution_count": null,
   "metadata": {},
   "outputs": [],
   "source": [
    "love_list = []\n",
    "for row in df['lyrics']:\n",
    "    love_list.append('love' in row)\n",
    "\n",
    "df[love_list].head()"
   ]
  },
  {
   "cell_type": "code",
   "execution_count": null,
   "metadata": {},
   "outputs": [],
   "source": [
    "hate_list = []\n",
    "for row in df['lyrics']:\n",
    "    hate_list.append('hate' in row)\n",
    "    \n",
    "df[hate_list].head()"
   ]
  },
  {
   "cell_type": "code",
   "execution_count": null,
   "metadata": {},
   "outputs": [],
   "source": [
    "print('\\nSongs with love: ', sum(love_list), '\\nSongs with hate: ', sum(hate_list))"
   ]
  },
  {
   "cell_type": "markdown",
   "metadata": {},
   "source": [
    "<b> Want to make a hit song? You ***might*** have better luck writing about love. </b>"
   ]
  },
  {
   "cell_type": "code",
   "execution_count": null,
   "metadata": {},
   "outputs": [],
   "source": []
  },
  {
   "cell_type": "code",
   "execution_count": null,
   "metadata": {},
   "outputs": [],
   "source": []
  },
  {
   "cell_type": "code",
   "execution_count": null,
   "metadata": {},
   "outputs": [],
   "source": []
  },
  {
   "cell_type": "code",
   "execution_count": null,
   "metadata": {},
   "outputs": [],
   "source": [
    "# REMOVE DUPLICATE SONGS"
   ]
  },
  {
   "cell_type": "code",
   "execution_count": null,
   "metadata": {},
   "outputs": [],
   "source": []
  },
  {
   "cell_type": "code",
   "execution_count": null,
   "metadata": {},
   "outputs": [],
   "source": []
  },
  {
   "cell_type": "code",
   "execution_count": null,
   "metadata": {},
   "outputs": [],
   "source": [
    "df.tail()"
   ]
  },
  {
   "cell_type": "code",
   "execution_count": null,
   "metadata": {},
   "outputs": [],
   "source": []
  }
 ],
 "metadata": {
  "kernelspec": {
   "display_name": "Python 3",
   "language": "python",
   "name": "python3"
  },
  "language_info": {
   "codemirror_mode": {
    "name": "ipython",
    "version": 3
   },
   "file_extension": ".py",
   "mimetype": "text/x-python",
   "name": "python",
   "nbconvert_exporter": "python",
   "pygments_lexer": "ipython3",
   "version": "3.7.7"
  }
 },
 "nbformat": 4,
 "nbformat_minor": 4
}
