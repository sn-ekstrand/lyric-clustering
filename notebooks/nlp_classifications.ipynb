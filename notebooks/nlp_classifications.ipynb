{
 "cells": [
  {
   "cell_type": "code",
   "execution_count": 33,
   "metadata": {},
   "outputs": [],
   "source": [
    "import pandas as pd\n",
    "import numpy as np\n",
    "from sklearn.ensemble import RandomForestClassifier, RandomForestRegressor\n",
    "from sklearn.model_selection import cross_val_score, train_test_split, GridSearchCV\n",
    "from sklearn.metrics import confusion_matrix, accuracy_score, mean_squared_error\n",
    "import matplotlib.pyplot as plt\n",
    "%matplotlib inline\n",
    "\n",
    "from spacy.tokenizer import Tokenizer\n",
    "from spacy.lang.en.stop_words import STOP_WORDS\n",
    "from spacy.lang.en import English\n",
    "import spacy\n",
    "import string\n",
    "from sklearn.feature_extraction.text import CountVectorizer,TfidfVectorizer\n",
    "from sklearn.base import TransformerMixin\n",
    "from sklearn.pipeline import Pipeline"
   ]
  },
  {
   "cell_type": "code",
   "execution_count": 34,
   "metadata": {},
   "outputs": [],
   "source": [
    "df = pd.read_json('../data/lyrics_cleaned.json')"
   ]
  },
  {
   "cell_type": "code",
   "execution_count": 35,
   "metadata": {},
   "outputs": [
    {
     "data": {
      "text/html": [
       "<div>\n",
       "<style scoped>\n",
       "    .dataframe tbody tr th:only-of-type {\n",
       "        vertical-align: middle;\n",
       "    }\n",
       "\n",
       "    .dataframe tbody tr th {\n",
       "        vertical-align: top;\n",
       "    }\n",
       "\n",
       "    .dataframe thead th {\n",
       "        text-align: right;\n",
       "    }\n",
       "</style>\n",
       "<table border=\"1\" class=\"dataframe\">\n",
       "  <thead>\n",
       "    <tr style=\"text-align: right;\">\n",
       "      <th></th>\n",
       "      <th>artist</th>\n",
       "      <th>title</th>\n",
       "      <th>lyrics</th>\n",
       "      <th>character_count</th>\n",
       "      <th>word_count</th>\n",
       "    </tr>\n",
       "  </thead>\n",
       "  <tbody>\n",
       "    <tr>\n",
       "      <th>0</th>\n",
       "      <td>Drake</td>\n",
       "      <td>Toosie Slide</td>\n",
       "      <td>Black leather gloves, no sequins (Yeah, yeah, ...</td>\n",
       "      <td>2371</td>\n",
       "      <td>447</td>\n",
       "    </tr>\n",
       "    <tr>\n",
       "      <th>1</th>\n",
       "      <td>Roddy Ricch</td>\n",
       "      <td>The Box</td>\n",
       "      <td>Pullin' out the coupe at the lot  Told 'em fuc...</td>\n",
       "      <td>2689</td>\n",
       "      <td>551</td>\n",
       "    </tr>\n",
       "    <tr>\n",
       "      <th>2</th>\n",
       "      <td>Dua Lipa</td>\n",
       "      <td>Don't Start Now</td>\n",
       "      <td>If you don't wanna see me  Did a full 180, cra...</td>\n",
       "      <td>1576</td>\n",
       "      <td>304</td>\n",
       "    </tr>\n",
       "    <tr>\n",
       "      <th>3</th>\n",
       "      <td>Doja Cat</td>\n",
       "      <td>Say So</td>\n",
       "      <td>Day and night til morning, keeping me in the m...</td>\n",
       "      <td>2203</td>\n",
       "      <td>446</td>\n",
       "    </tr>\n",
       "    <tr>\n",
       "      <th>4</th>\n",
       "      <td>Post Malone</td>\n",
       "      <td>Circles</td>\n",
       "      <td>Hey, hey, hey, hey  Oh, oh, oh-oh  Oh, oh, oh-...</td>\n",
       "      <td>1570</td>\n",
       "      <td>318</td>\n",
       "    </tr>\n",
       "  </tbody>\n",
       "</table>\n",
       "</div>"
      ],
      "text/plain": [
       "        artist            title  \\\n",
       "0        Drake     Toosie Slide   \n",
       "1  Roddy Ricch          The Box   \n",
       "2     Dua Lipa  Don't Start Now   \n",
       "3     Doja Cat           Say So   \n",
       "4  Post Malone          Circles   \n",
       "\n",
       "                                              lyrics  character_count  \\\n",
       "0  Black leather gloves, no sequins (Yeah, yeah, ...             2371   \n",
       "1  Pullin' out the coupe at the lot  Told 'em fuc...             2689   \n",
       "2  If you don't wanna see me  Did a full 180, cra...             1576   \n",
       "3  Day and night til morning, keeping me in the m...             2203   \n",
       "4  Hey, hey, hey, hey  Oh, oh, oh-oh  Oh, oh, oh-...             1570   \n",
       "\n",
       "   word_count  \n",
       "0         447  \n",
       "1         551  \n",
       "2         304  \n",
       "3         446  \n",
       "4         318  "
      ]
     },
     "execution_count": 35,
     "metadata": {},
     "output_type": "execute_result"
    }
   ],
   "source": [
    "df.head()"
   ]
  },
  {
   "cell_type": "code",
   "execution_count": 36,
   "metadata": {},
   "outputs": [],
   "source": [
    "df.reset_index(drop=True,inplace=True)"
   ]
  },
  {
   "cell_type": "code",
   "execution_count": 37,
   "metadata": {},
   "outputs": [
    {
     "data": {
      "text/plain": [
       "\">Freaky Tahverses Mr. CheeksIntro:[Freaky Tah]Everybody's buckin, don't give it a damneverbody...everbody(echo)Verse 1[Mr.Cheeks]Straight from cop killer Queensa juvenile named Jack >Jackat the age of 17 >uh huhyo this kid Jack started slingin crack >started slingin crackhe's on the road to riches >richesbaggin bitches >bitcheshe's in clubs takin pitchersdrink your finger always into sesshis lifestyles buckwild honey child >yeahgot a shorty named Val >Valshe stays on the Isle >ahhhhe started slingin at the age of 17 >uhh huhhis hearts made of steel >eh yokid his minds full of green >full of greenhe got his first ouncemade a grand 400 >hundred3 bills to get freshhe other bills to get blunted >to be bluntedand wit the letter G >Ghe bought the letter O >Onext thing you know manhe's rakin in the dough >rakin in the doughhe put his people downcuz say thats only right >aightfor dem to get keysdem and dem is mad tight >is mad tightset-up organation organize on the block>organize...blocknobody's slingin on the blockeh yo we got this block on lockand it's the.... >huhChorusLifestyles of the rich & shameless >shamelesssome die wit the name >wit the namesome die nameless >some die namelessit's all the same game >It's onit's all the same pain >It's onit's all the same pain >It's Onit's all the same game >It's OnVerse 2The verse 2'sabout this girl named Yvette >Vetteshe lived out in Queenspushed the red Corvette >Corvetteshe's pumpin weight >uh huhin and outta state >in and outta stateoutta state license plate >eh yosee her lifestyle is straight weight >hahshe's into lickin shots >yeahstickin blocks gotta shorty on the team>uhh huhshortie's into pickin locksmakin G's takin trips cross seas >seasjust enough to be flashincash they be stashin >hahshe's wit the cats >huh huhthey love packin gats >huhbulletproof vest bulletproof baseball hatsher and the queens stay right gettin high tooLex, Coups and Jeeps >ahhgot beeps can & lai brew >brewit's all the same shame >huhjust a diffrent name >huhshorty's sniffin cane >huhjust to maintain >huhto a nice shorty rock O-D'd >shorty what who O-D'sbring me the chorus >shoulda chilledpass me the weed >I would pass the weedChorusVerse 3I used to hustle up on Linden in the vanme and my man did that thing hand in hand20 bills up>huhhuhbut verse itttime to rap but the fiends kept commin backIm tryin to put my lifestyle in order >aightthe games mad deepI keep my feet above the water >above the watercaught a bid got a wife and kid >huhthe name just burned in the flame >huhso out the game I slid >slidso now Im into makin hits wit my men >huhI hustle wit my style >huhcook up works wit my pen >trueMr. Cheeks represent in the gutter >gutterFreaky Tah gettin lai thats my brudda >thats my bruddaIn the game >huhand hit you in the brain >huhand if I was cocaine >huhbelieve it Im your main >huhTally up it's the Lost Boyz crew anFreaky Tah, Spigg Nice and Pretty Lou an..Chorus/Outr\""
      ]
     },
     "execution_count": 37,
     "metadata": {},
     "output_type": "execute_result"
    }
   ],
   "source": [
    "df.iloc[6247,:]['lyrics']"
   ]
  },
  {
   "cell_type": "code",
   "execution_count": 38,
   "metadata": {},
   "outputs": [],
   "source": [
    "df = df.drop(['character_count', 'word_count'], axis=1)"
   ]
  },
  {
   "cell_type": "code",
   "execution_count": 39,
   "metadata": {},
   "outputs": [
    {
     "name": "stdout",
     "output_type": "stream",
     "text": [
      "<class 'pandas.core.frame.DataFrame'>\n",
      "RangeIndex: 6252 entries, 0 to 6251\n",
      "Data columns (total 3 columns):\n",
      " #   Column  Non-Null Count  Dtype \n",
      "---  ------  --------------  ----- \n",
      " 0   artist  6252 non-null   object\n",
      " 1   title   6252 non-null   object\n",
      " 2   lyrics  6252 non-null   object\n",
      "dtypes: object(3)\n",
      "memory usage: 146.7+ KB\n"
     ]
    }
   ],
   "source": [
    "df.info()"
   ]
  },
  {
   "cell_type": "code",
   "execution_count": 40,
   "metadata": {},
   "outputs": [
    {
     "data": {
      "text/html": [
       "<div>\n",
       "<style scoped>\n",
       "    .dataframe tbody tr th:only-of-type {\n",
       "        vertical-align: middle;\n",
       "    }\n",
       "\n",
       "    .dataframe tbody tr th {\n",
       "        vertical-align: top;\n",
       "    }\n",
       "\n",
       "    .dataframe thead th {\n",
       "        text-align: right;\n",
       "    }\n",
       "</style>\n",
       "<table border=\"1\" class=\"dataframe\">\n",
       "  <thead>\n",
       "    <tr style=\"text-align: right;\">\n",
       "      <th></th>\n",
       "      <th>artist</th>\n",
       "      <th>title</th>\n",
       "      <th>lyrics</th>\n",
       "    </tr>\n",
       "  </thead>\n",
       "  <tbody>\n",
       "    <tr>\n",
       "      <th>0</th>\n",
       "      <td>Drake</td>\n",
       "      <td>Toosie Slide</td>\n",
       "      <td>Black leather gloves, no sequins (Yeah, yeah, ...</td>\n",
       "    </tr>\n",
       "    <tr>\n",
       "      <th>1</th>\n",
       "      <td>Roddy Ricch</td>\n",
       "      <td>The Box</td>\n",
       "      <td>Pullin' out the coupe at the lot  Told 'em fuc...</td>\n",
       "    </tr>\n",
       "    <tr>\n",
       "      <th>2</th>\n",
       "      <td>Dua Lipa</td>\n",
       "      <td>Don't Start Now</td>\n",
       "      <td>If you don't wanna see me  Did a full 180, cra...</td>\n",
       "    </tr>\n",
       "    <tr>\n",
       "      <th>3</th>\n",
       "      <td>Doja Cat</td>\n",
       "      <td>Say So</td>\n",
       "      <td>Day and night til morning, keeping me in the m...</td>\n",
       "    </tr>\n",
       "    <tr>\n",
       "      <th>4</th>\n",
       "      <td>Post Malone</td>\n",
       "      <td>Circles</td>\n",
       "      <td>Hey, hey, hey, hey  Oh, oh, oh-oh  Oh, oh, oh-...</td>\n",
       "    </tr>\n",
       "  </tbody>\n",
       "</table>\n",
       "</div>"
      ],
      "text/plain": [
       "        artist            title  \\\n",
       "0        Drake     Toosie Slide   \n",
       "1  Roddy Ricch          The Box   \n",
       "2     Dua Lipa  Don't Start Now   \n",
       "3     Doja Cat           Say So   \n",
       "4  Post Malone          Circles   \n",
       "\n",
       "                                              lyrics  \n",
       "0  Black leather gloves, no sequins (Yeah, yeah, ...  \n",
       "1  Pullin' out the coupe at the lot  Told 'em fuc...  \n",
       "2  If you don't wanna see me  Did a full 180, cra...  \n",
       "3  Day and night til morning, keeping me in the m...  \n",
       "4  Hey, hey, hey, hey  Oh, oh, oh-oh  Oh, oh, oh-...  "
      ]
     },
     "execution_count": 40,
     "metadata": {},
     "output_type": "execute_result"
    }
   ],
   "source": [
    "df.head()"
   ]
  },
  {
   "cell_type": "code",
   "execution_count": 41,
   "metadata": {},
   "outputs": [
    {
     "data": {
      "text/html": [
       "<div>\n",
       "<style scoped>\n",
       "    .dataframe tbody tr th:only-of-type {\n",
       "        vertical-align: middle;\n",
       "    }\n",
       "\n",
       "    .dataframe tbody tr th {\n",
       "        vertical-align: top;\n",
       "    }\n",
       "\n",
       "    .dataframe thead th {\n",
       "        text-align: right;\n",
       "    }\n",
       "</style>\n",
       "<table border=\"1\" class=\"dataframe\">\n",
       "  <thead>\n",
       "    <tr style=\"text-align: right;\">\n",
       "      <th></th>\n",
       "      <th>artist</th>\n",
       "      <th>title</th>\n",
       "      <th>lyrics</th>\n",
       "    </tr>\n",
       "  </thead>\n",
       "  <tbody>\n",
       "    <tr>\n",
       "      <th>6247</th>\n",
       "      <td>Lost Boyz</td>\n",
       "      <td>Lifestyles Of The Rich And Shameless</td>\n",
       "      <td>&gt;Freaky Tahverses Mr. CheeksIntro:[Freaky Tah]...</td>\n",
       "    </tr>\n",
       "    <tr>\n",
       "      <th>6248</th>\n",
       "      <td>DJ Quik</td>\n",
       "      <td>Safe + Sound</td>\n",
       "      <td>~Static~ \"Quik you're not a gangster we're not...</td>\n",
       "    </tr>\n",
       "    <tr>\n",
       "      <th>6249</th>\n",
       "      <td>Ty Herndon</td>\n",
       "      <td>What Mattered Most</td>\n",
       "      <td>I thought I knew the girl so well  If she was ...</td>\n",
       "    </tr>\n",
       "    <tr>\n",
       "      <th>6250</th>\n",
       "      <td>Madonna</td>\n",
       "      <td>Bedtime Story</td>\n",
       "      <td>Today  Is the last day  That I'm using words  ...</td>\n",
       "    </tr>\n",
       "    <tr>\n",
       "      <th>6251</th>\n",
       "      <td>Livin' Joy</td>\n",
       "      <td>Dreamer</td>\n",
       "      <td>Love, life and laughter  Is all I beleive.  My...</td>\n",
       "    </tr>\n",
       "  </tbody>\n",
       "</table>\n",
       "</div>"
      ],
      "text/plain": [
       "          artist                                 title  \\\n",
       "6247   Lost Boyz  Lifestyles Of The Rich And Shameless   \n",
       "6248     DJ Quik                          Safe + Sound   \n",
       "6249  Ty Herndon                    What Mattered Most   \n",
       "6250     Madonna                         Bedtime Story   \n",
       "6251  Livin' Joy                               Dreamer   \n",
       "\n",
       "                                                 lyrics  \n",
       "6247  >Freaky Tahverses Mr. CheeksIntro:[Freaky Tah]...  \n",
       "6248  ~Static~ \"Quik you're not a gangster we're not...  \n",
       "6249  I thought I knew the girl so well  If she was ...  \n",
       "6250  Today  Is the last day  That I'm using words  ...  \n",
       "6251  Love, life and laughter  Is all I beleive.  My...  "
      ]
     },
     "execution_count": 41,
     "metadata": {},
     "output_type": "execute_result"
    }
   ],
   "source": [
    "df.tail()"
   ]
  },
  {
   "cell_type": "code",
   "execution_count": null,
   "metadata": {},
   "outputs": [],
   "source": [
    "# class predictors(TransformerMixin):\n",
    "#     def transform(self, X, **transform_params):\n",
    "#         return [clean_text(text) for text in X]\n",
    "\n",
    "#     def fit(self, X, y=None, **fit_params):\n",
    "#         return self\n",
    "\n",
    "#     def get_params(self, deep=True):\n",
    "#         return {}\n",
    "\n",
    "# def clean_text(text):\n",
    "#     return text.strip().lower()"
   ]
  },
  {
   "cell_type": "code",
   "execution_count": null,
   "metadata": {},
   "outputs": [],
   "source": [
    "# idx = np.random.randint(0, 6252)\n",
    "# text = df.iloc[idx, 1]\n",
    "# text"
   ]
  },
  {
   "cell_type": "code",
   "execution_count": 91,
   "metadata": {},
   "outputs": [],
   "source": [
    "punctuations = string.punctuation\n",
    "nlp = spacy.load('en_core_web_sm')\n",
    "stop_words = spacy.lang.en.stop_words.STOP_WORDS\n",
    "parser = English()\n",
    "\n",
    "\n",
    "def remove_bracketed(song):\n",
    "    text = re.sub(\"\\[.*?\\]\", '', song)\n",
    "    text = re.sub(\"\\(.*?\\)\", '', text)\n",
    "    text = re.sub(\"\\{.*?\\}\", '', text)\n",
    "    \n",
    "    return text\n",
    "\n",
    "\n",
    "def spacy_tokenizer(text, use_stopwords=True, custom_stopwords=set()):\n",
    "    text = remove_bracketed(text)\n",
    "    mytokens = parser(text)\n",
    "    mytokens = [word.lemma_.lower().strip() if word.lemma_ != \"-PRON-\" else word.lower_ for word in mytokens ]\n",
    "    if use_stopwords:\n",
    "        mytokens = [word for word in mytokens if word not in (stop_words | custom_stopwords) and word not in punctuations ]\n",
    "    else:\n",
    "        mytokens = [word for word in mytokens if word not in punctuations ]\n",
    "\n",
    "    \n",
    "    return mytokens\n",
    "\n",
    "\n",
    "def tokenize_column(dataframe, column_name, use_stopwords=True, custom_stopwords=set()):\n",
    "    df_ = dataframe.reset_index(drop=True)\n",
    "    token_list = []\n",
    "    for song in df_[column_name]:\n",
    "        token_list.append(spacy_tokenizer(song, use_stopwords, custom_stopwords))\n",
    "    \n",
    "    return token_list\n",
    "\n"
   ]
  },
  {
   "cell_type": "code",
   "execution_count": 103,
   "metadata": {},
   "outputs": [],
   "source": [
    "lyric_stopwords = set(['hey', 'baby', 'woo', 'ha', 'like', 'oh', 'ooh', 'woah'])\n",
    "df['lyrics_tokens'] = tokenize_column(df, 'lyrics', use_stopwords=True, custom_stopwords=lyric_stopwords)"
   ]
  },
  {
   "cell_type": "code",
   "execution_count": 104,
   "metadata": {},
   "outputs": [
    {
     "data": {
      "text/html": [
       "<div>\n",
       "<style scoped>\n",
       "    .dataframe tbody tr th:only-of-type {\n",
       "        vertical-align: middle;\n",
       "    }\n",
       "\n",
       "    .dataframe tbody tr th {\n",
       "        vertical-align: top;\n",
       "    }\n",
       "\n",
       "    .dataframe thead th {\n",
       "        text-align: right;\n",
       "    }\n",
       "</style>\n",
       "<table border=\"1\" class=\"dataframe\">\n",
       "  <thead>\n",
       "    <tr style=\"text-align: right;\">\n",
       "      <th></th>\n",
       "      <th>artist</th>\n",
       "      <th>title</th>\n",
       "      <th>lyrics</th>\n",
       "      <th>lyrics_tokens</th>\n",
       "    </tr>\n",
       "  </thead>\n",
       "  <tbody>\n",
       "    <tr>\n",
       "      <th>0</th>\n",
       "      <td>Drake</td>\n",
       "      <td>Toosie Slide</td>\n",
       "      <td>Black leather gloves, no sequins (Yeah, yeah, ...</td>\n",
       "      <td>[black, leather, glove, sequin, buckles, jacke...</td>\n",
       "    </tr>\n",
       "    <tr>\n",
       "      <th>1</th>\n",
       "      <td>Roddy Ricch</td>\n",
       "      <td>The Box</td>\n",
       "      <td>Pullin' out the coupe at the lot  Told 'em fuc...</td>\n",
       "      <td>[pullin, coupe, lot, told, 'em, fuck, 12, fuck...</td>\n",
       "    </tr>\n",
       "    <tr>\n",
       "      <th>2</th>\n",
       "      <td>Dua Lipa</td>\n",
       "      <td>Don't Start Now</td>\n",
       "      <td>If you don't wanna see me  Did a full 180, cra...</td>\n",
       "      <td>[wanna, 180, crazy, thinking, way, heartbreak,...</td>\n",
       "    </tr>\n",
       "    <tr>\n",
       "      <th>3</th>\n",
       "      <td>Doja Cat</td>\n",
       "      <td>Say So</td>\n",
       "      <td>Day and night til morning, keeping me in the m...</td>\n",
       "      <td>[day, night, til, morning, moment, let, know, ...</td>\n",
       "    </tr>\n",
       "    <tr>\n",
       "      <th>4</th>\n",
       "      <td>Post Malone</td>\n",
       "      <td>Circles</td>\n",
       "      <td>Hey, hey, hey, hey  Oh, oh, oh-oh  Oh, oh, oh-...</td>\n",
       "      <td>[turn, til, upside, bad, guy, proud, try, beli...</td>\n",
       "    </tr>\n",
       "    <tr>\n",
       "      <th>5</th>\n",
       "      <td>Justin Bieber Featuring Quavo</td>\n",
       "      <td>Intentions</td>\n",
       "      <td>Picture perfect, you don't need no filter  Gor...</td>\n",
       "      <td>[picture, perfect, need, filter, gorgeous, 'em...</td>\n",
       "    </tr>\n",
       "    <tr>\n",
       "      <th>6</th>\n",
       "      <td>DaBaby Featuring Roddy Ricch</td>\n",
       "      <td>ROCKSTAR</td>\n",
       "      <td>Woo, woo  I pull up like  How you pull up, Bab...</td>\n",
       "      <td>[pull, pull, pull, pull, pull, let, brand, new...</td>\n",
       "    </tr>\n",
       "    <tr>\n",
       "      <th>7</th>\n",
       "      <td>Future Featuring Drake</td>\n",
       "      <td>Life Is Good</td>\n",
       "      <td>Workin' on the weekend like usual  Way off in ...</td>\n",
       "      <td>[workin, weekend, usual, way, deep, end, usual...</td>\n",
       "    </tr>\n",
       "    <tr>\n",
       "      <th>8</th>\n",
       "      <td>Billie Eilish</td>\n",
       "      <td>everything i wanted</td>\n",
       "      <td>I had a dream  I got everything I wanted  Not ...</td>\n",
       "      <td>[dream, want, think, bein, honest, nightmare, ...</td>\n",
       "    </tr>\n",
       "    <tr>\n",
       "      <th>9</th>\n",
       "      <td>Camila Cabello Featuring DaBaby</td>\n",
       "      <td>My Oh My</td>\n",
       "      <td>Ha, ha, ha, ha  They say he likes a good time ...</td>\n",
       "      <td>[good, time, come, alive, midnight, mama, trus...</td>\n",
       "    </tr>\n",
       "  </tbody>\n",
       "</table>\n",
       "</div>"
      ],
      "text/plain": [
       "                            artist                title  \\\n",
       "0                            Drake         Toosie Slide   \n",
       "1                      Roddy Ricch              The Box   \n",
       "2                         Dua Lipa      Don't Start Now   \n",
       "3                         Doja Cat               Say So   \n",
       "4                      Post Malone              Circles   \n",
       "5    Justin Bieber Featuring Quavo           Intentions   \n",
       "6     DaBaby Featuring Roddy Ricch             ROCKSTAR   \n",
       "7           Future Featuring Drake         Life Is Good   \n",
       "8                    Billie Eilish  everything i wanted   \n",
       "9  Camila Cabello Featuring DaBaby             My Oh My   \n",
       "\n",
       "                                              lyrics  \\\n",
       "0  Black leather gloves, no sequins (Yeah, yeah, ...   \n",
       "1  Pullin' out the coupe at the lot  Told 'em fuc...   \n",
       "2  If you don't wanna see me  Did a full 180, cra...   \n",
       "3  Day and night til morning, keeping me in the m...   \n",
       "4  Hey, hey, hey, hey  Oh, oh, oh-oh  Oh, oh, oh-...   \n",
       "5  Picture perfect, you don't need no filter  Gor...   \n",
       "6  Woo, woo  I pull up like  How you pull up, Bab...   \n",
       "7  Workin' on the weekend like usual  Way off in ...   \n",
       "8  I had a dream  I got everything I wanted  Not ...   \n",
       "9  Ha, ha, ha, ha  They say he likes a good time ...   \n",
       "\n",
       "                                       lyrics_tokens  \n",
       "0  [black, leather, glove, sequin, buckles, jacke...  \n",
       "1  [pullin, coupe, lot, told, 'em, fuck, 12, fuck...  \n",
       "2  [wanna, 180, crazy, thinking, way, heartbreak,...  \n",
       "3  [day, night, til, morning, moment, let, know, ...  \n",
       "4  [turn, til, upside, bad, guy, proud, try, beli...  \n",
       "5  [picture, perfect, need, filter, gorgeous, 'em...  \n",
       "6  [pull, pull, pull, pull, pull, let, brand, new...  \n",
       "7  [workin, weekend, usual, way, deep, end, usual...  \n",
       "8  [dream, want, think, bein, honest, nightmare, ...  \n",
       "9  [good, time, come, alive, midnight, mama, trus...  "
      ]
     },
     "execution_count": 104,
     "metadata": {},
     "output_type": "execute_result"
    }
   ],
   "source": [
    "df.head(10)"
   ]
  },
  {
   "cell_type": "code",
   "execution_count": 107,
   "metadata": {},
   "outputs": [],
   "source": [
    "idx = np.random.randint(0, 6252)"
   ]
  },
  {
   "cell_type": "code",
   "execution_count": 108,
   "metadata": {},
   "outputs": [
    {
     "name": "stdout",
     "output_type": "stream",
     "text": [
      "Uncle Kracker  -  Smile \n",
      "\n",
      "-----\n",
      "\n",
      " You're better than the best  I'm lucky just to linger in your light  Cooler then the flip side of my pillow, that's right   Completely unaware  Nothing can compare to where you send me,  Lets me know that it's OK, yeah it's OK  And the moments where my good times start to fade    You make me smile like the sun  Fall out of bed, sing like a bird  Dizzy in my head, spin like a record  Crazy on a Sunday night  You make me dance like a fool  Forget how to breathe  Shine like gold, buzz like a bee  Just the thought of you can drive me wild  Oh, you make me smile    Even when you're gone  Somehow you come along  Just like a flower poking through the sidewalk crack   and just like that  You steal away the rain and just like that...    You make me smile like the sun  Fall out of bed, sing like a bird  Dizzy in my head, spin like a record  Crazy on a Sunday night  You make me dance like a fool  Forget how to breathe  Shine like gold, buzz like a bee  Just the thought of you can drive me wild  Oh, you make me smile    Don't know how I lived without you  Cause every time that I get around you  I see the best of me inside your eyes  You make me smile  You make me dance like a fool  Forget how to breathe  Shine like gold, buzz like a bee  Just the thought of you can drive me wild...    You make me smile like the sun  Fall out of bed, sing like a bird  Dizzy in my head, spin like a record  Crazy on a Sunday night  You make me dance like a fool  Forget how to breathe  Shine like gold, buzz like a bee  Just the thought of you can drive me wild  Oh, you make me smile  Oh, you make me smile  Oh, you make me smile \n",
      "\n",
      "-----\n",
      "\n",
      " ['lucky', 'linger', 'light', 'cooler', 'flip', 'pillow', 'right', 'completely', 'unaware', 'compare', 'send', 'lets', 'know', 'ok', 'yes', 'ok', 'moment', 'good', 'time', 'start', 'fade', 'smile', 'sun', 'fall', 'bed', 'sing', 'bird', 'dizzy', 'head', 'spin', 'record', 'crazy', 'sunday', 'night', 'dance', 'fool', 'forget', 'breathe', 'shine', 'gold', 'buzz', 'bee', 'think', 'drive', 'wild', 'smile', 'come', 'flower', 'poke', 'sidewalk', 'crack', 'steal', 'away', 'rain', '...', 'smile', 'sun', 'fall', 'bed', 'sing', 'bird', 'dizzy', 'head', 'spin', 'record', 'crazy', 'sunday', 'night', 'dance', 'fool', 'forget', 'breathe', 'shine', 'gold', 'buzz', 'bee', 'think', 'drive', 'wild', 'smile', 'know', 'live', 'cause', 'time', 'inside', 'eye', 'smile', 'dance', 'fool', 'forget', 'breathe', 'shine', 'gold', 'buzz', 'bee', 'think', 'drive', 'wild', '...', 'smile', 'sun', 'fall', 'bed', 'sing', 'bird', 'dizzy', 'head', 'spin', 'record', 'crazy', 'sunday', 'night', 'dance', 'fool', 'forget', 'breathe', 'shine', 'gold', 'buzz', 'bee', 'think', 'drive', 'wild', 'smile', 'smile', 'smile']\n"
     ]
    }
   ],
   "source": [
    "print(df.iloc[idx, 0], ' - ', df.iloc[idx, 1],'\\n\\n-----\\n\\n', df.iloc[idx, 2], '\\n\\n-----\\n\\n', df.iloc[idx, 3])"
   ]
  },
  {
   "cell_type": "code",
   "execution_count": null,
   "metadata": {},
   "outputs": [],
   "source": [
    "df."
   ]
  }
 ],
 "metadata": {
  "kernelspec": {
   "display_name": "Python 3",
   "language": "python",
   "name": "python3"
  },
  "language_info": {
   "codemirror_mode": {
    "name": "ipython",
    "version": 3
   },
   "file_extension": ".py",
   "mimetype": "text/x-python",
   "name": "python",
   "nbconvert_exporter": "python",
   "pygments_lexer": "ipython3",
   "version": "3.7.7"
  }
 },
 "nbformat": 4,
 "nbformat_minor": 4
}
