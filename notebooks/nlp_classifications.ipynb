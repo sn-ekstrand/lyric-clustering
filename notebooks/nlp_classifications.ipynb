{
 "cells": [
  {
   "cell_type": "code",
   "execution_count": 116,
   "metadata": {},
   "outputs": [],
   "source": [
    "import pandas as pd\n",
    "import numpy as np\n",
    "import matplotlib.pyplot as plt\n",
    "%matplotlib inline\n",
    "plt.style.use('ggplot')\n",
    "import seaborn as sns\n",
    "\n",
    "import spacy\n",
    "from spacy.tokenizer import Tokenizer\n",
    "from spacy.lang.en.stop_words import STOP_WORDS\n",
    "from spacy.lang.en import English\n",
    "import string\n",
    "\n",
    "from sklearn.feature_extraction.text import CountVectorizer,TfidfVectorizer\n",
    "from sklearn.base import TransformerMixin\n",
    "from sklearn.pipeline import Pipeline\n",
    "from sklearn.linear_model import LogisticRegression\n",
    "from sklearn.ensemble import RandomForestClassifier, GradientBoostingClassifier, AdaBoostClassifier\n",
    "from sklearn.model_selection import cross_val_score, train_test_split, GridSearchCV\n",
    "from sklearn.metrics import confusion_matrix, accuracy_score, mean_squared_error\n",
    "import re\n",
    "from collections import Counter"
   ]
  },
  {
   "cell_type": "code",
   "execution_count": 2,
   "metadata": {},
   "outputs": [],
   "source": [
    "df = pd.read_json('../data/lyrics_cleaned.json')"
   ]
  },
  {
   "cell_type": "code",
   "execution_count": 3,
   "metadata": {},
   "outputs": [
    {
     "data": {
      "text/html": [
       "<div>\n",
       "<style scoped>\n",
       "    .dataframe tbody tr th:only-of-type {\n",
       "        vertical-align: middle;\n",
       "    }\n",
       "\n",
       "    .dataframe tbody tr th {\n",
       "        vertical-align: top;\n",
       "    }\n",
       "\n",
       "    .dataframe thead th {\n",
       "        text-align: right;\n",
       "    }\n",
       "</style>\n",
       "<table border=\"1\" class=\"dataframe\">\n",
       "  <thead>\n",
       "    <tr style=\"text-align: right;\">\n",
       "      <th></th>\n",
       "      <th>artist</th>\n",
       "      <th>title</th>\n",
       "      <th>lyrics</th>\n",
       "      <th>character_count</th>\n",
       "      <th>word_count</th>\n",
       "    </tr>\n",
       "  </thead>\n",
       "  <tbody>\n",
       "    <tr>\n",
       "      <th>0</th>\n",
       "      <td>Drake</td>\n",
       "      <td>Toosie Slide</td>\n",
       "      <td>Black leather gloves, no sequins (Yeah, yeah, ...</td>\n",
       "      <td>2371</td>\n",
       "      <td>447</td>\n",
       "    </tr>\n",
       "    <tr>\n",
       "      <th>1</th>\n",
       "      <td>Roddy Ricch</td>\n",
       "      <td>The Box</td>\n",
       "      <td>Pullin' out the coupe at the lot  Told 'em fuc...</td>\n",
       "      <td>2689</td>\n",
       "      <td>551</td>\n",
       "    </tr>\n",
       "    <tr>\n",
       "      <th>2</th>\n",
       "      <td>Dua Lipa</td>\n",
       "      <td>Don't Start Now</td>\n",
       "      <td>If you don't wanna see me  Did a full 180, cra...</td>\n",
       "      <td>1576</td>\n",
       "      <td>304</td>\n",
       "    </tr>\n",
       "    <tr>\n",
       "      <th>3</th>\n",
       "      <td>Doja Cat</td>\n",
       "      <td>Say So</td>\n",
       "      <td>Day and night til morning, keeping me in the m...</td>\n",
       "      <td>2203</td>\n",
       "      <td>446</td>\n",
       "    </tr>\n",
       "    <tr>\n",
       "      <th>4</th>\n",
       "      <td>Post Malone</td>\n",
       "      <td>Circles</td>\n",
       "      <td>Hey, hey, hey, hey  Oh, oh, oh-oh  Oh, oh, oh-...</td>\n",
       "      <td>1570</td>\n",
       "      <td>318</td>\n",
       "    </tr>\n",
       "  </tbody>\n",
       "</table>\n",
       "</div>"
      ],
      "text/plain": [
       "        artist            title  \\\n",
       "0        Drake     Toosie Slide   \n",
       "1  Roddy Ricch          The Box   \n",
       "2     Dua Lipa  Don't Start Now   \n",
       "3     Doja Cat           Say So   \n",
       "4  Post Malone          Circles   \n",
       "\n",
       "                                              lyrics  character_count  \\\n",
       "0  Black leather gloves, no sequins (Yeah, yeah, ...             2371   \n",
       "1  Pullin' out the coupe at the lot  Told 'em fuc...             2689   \n",
       "2  If you don't wanna see me  Did a full 180, cra...             1576   \n",
       "3  Day and night til morning, keeping me in the m...             2203   \n",
       "4  Hey, hey, hey, hey  Oh, oh, oh-oh  Oh, oh, oh-...             1570   \n",
       "\n",
       "   word_count  \n",
       "0         447  \n",
       "1         551  \n",
       "2         304  \n",
       "3         446  \n",
       "4         318  "
      ]
     },
     "execution_count": 3,
     "metadata": {},
     "output_type": "execute_result"
    }
   ],
   "source": [
    "df.head()"
   ]
  },
  {
   "cell_type": "code",
   "execution_count": 4,
   "metadata": {},
   "outputs": [],
   "source": [
    "df.reset_index(drop=True,inplace=True)"
   ]
  },
  {
   "cell_type": "code",
   "execution_count": 5,
   "metadata": {},
   "outputs": [],
   "source": [
    "df = df.drop(['character_count', 'word_count'], axis=1)"
   ]
  },
  {
   "cell_type": "code",
   "execution_count": 6,
   "metadata": {},
   "outputs": [
    {
     "name": "stdout",
     "output_type": "stream",
     "text": [
      "<class 'pandas.core.frame.DataFrame'>\n",
      "RangeIndex: 6252 entries, 0 to 6251\n",
      "Data columns (total 3 columns):\n",
      " #   Column  Non-Null Count  Dtype \n",
      "---  ------  --------------  ----- \n",
      " 0   artist  6252 non-null   object\n",
      " 1   title   6252 non-null   object\n",
      " 2   lyrics  6252 non-null   object\n",
      "dtypes: object(3)\n",
      "memory usage: 146.7+ KB\n"
     ]
    }
   ],
   "source": [
    "df.info()"
   ]
  },
  {
   "cell_type": "code",
   "execution_count": 7,
   "metadata": {},
   "outputs": [
    {
     "data": {
      "text/html": [
       "<div>\n",
       "<style scoped>\n",
       "    .dataframe tbody tr th:only-of-type {\n",
       "        vertical-align: middle;\n",
       "    }\n",
       "\n",
       "    .dataframe tbody tr th {\n",
       "        vertical-align: top;\n",
       "    }\n",
       "\n",
       "    .dataframe thead th {\n",
       "        text-align: right;\n",
       "    }\n",
       "</style>\n",
       "<table border=\"1\" class=\"dataframe\">\n",
       "  <thead>\n",
       "    <tr style=\"text-align: right;\">\n",
       "      <th></th>\n",
       "      <th>artist</th>\n",
       "      <th>title</th>\n",
       "      <th>lyrics</th>\n",
       "    </tr>\n",
       "  </thead>\n",
       "  <tbody>\n",
       "    <tr>\n",
       "      <th>0</th>\n",
       "      <td>Drake</td>\n",
       "      <td>Toosie Slide</td>\n",
       "      <td>Black leather gloves, no sequins (Yeah, yeah, ...</td>\n",
       "    </tr>\n",
       "    <tr>\n",
       "      <th>1</th>\n",
       "      <td>Roddy Ricch</td>\n",
       "      <td>The Box</td>\n",
       "      <td>Pullin' out the coupe at the lot  Told 'em fuc...</td>\n",
       "    </tr>\n",
       "    <tr>\n",
       "      <th>2</th>\n",
       "      <td>Dua Lipa</td>\n",
       "      <td>Don't Start Now</td>\n",
       "      <td>If you don't wanna see me  Did a full 180, cra...</td>\n",
       "    </tr>\n",
       "    <tr>\n",
       "      <th>3</th>\n",
       "      <td>Doja Cat</td>\n",
       "      <td>Say So</td>\n",
       "      <td>Day and night til morning, keeping me in the m...</td>\n",
       "    </tr>\n",
       "    <tr>\n",
       "      <th>4</th>\n",
       "      <td>Post Malone</td>\n",
       "      <td>Circles</td>\n",
       "      <td>Hey, hey, hey, hey  Oh, oh, oh-oh  Oh, oh, oh-...</td>\n",
       "    </tr>\n",
       "  </tbody>\n",
       "</table>\n",
       "</div>"
      ],
      "text/plain": [
       "        artist            title  \\\n",
       "0        Drake     Toosie Slide   \n",
       "1  Roddy Ricch          The Box   \n",
       "2     Dua Lipa  Don't Start Now   \n",
       "3     Doja Cat           Say So   \n",
       "4  Post Malone          Circles   \n",
       "\n",
       "                                              lyrics  \n",
       "0  Black leather gloves, no sequins (Yeah, yeah, ...  \n",
       "1  Pullin' out the coupe at the lot  Told 'em fuc...  \n",
       "2  If you don't wanna see me  Did a full 180, cra...  \n",
       "3  Day and night til morning, keeping me in the m...  \n",
       "4  Hey, hey, hey, hey  Oh, oh, oh-oh  Oh, oh, oh-...  "
      ]
     },
     "execution_count": 7,
     "metadata": {},
     "output_type": "execute_result"
    }
   ],
   "source": [
    "df.head()"
   ]
  },
  {
   "cell_type": "code",
   "execution_count": 8,
   "metadata": {},
   "outputs": [
    {
     "data": {
      "text/html": [
       "<div>\n",
       "<style scoped>\n",
       "    .dataframe tbody tr th:only-of-type {\n",
       "        vertical-align: middle;\n",
       "    }\n",
       "\n",
       "    .dataframe tbody tr th {\n",
       "        vertical-align: top;\n",
       "    }\n",
       "\n",
       "    .dataframe thead th {\n",
       "        text-align: right;\n",
       "    }\n",
       "</style>\n",
       "<table border=\"1\" class=\"dataframe\">\n",
       "  <thead>\n",
       "    <tr style=\"text-align: right;\">\n",
       "      <th></th>\n",
       "      <th>artist</th>\n",
       "      <th>title</th>\n",
       "      <th>lyrics</th>\n",
       "    </tr>\n",
       "  </thead>\n",
       "  <tbody>\n",
       "    <tr>\n",
       "      <th>6247</th>\n",
       "      <td>Lost Boyz</td>\n",
       "      <td>Lifestyles Of The Rich And Shameless</td>\n",
       "      <td>&gt;Freaky Tahverses Mr. CheeksIntro:[Freaky Tah]...</td>\n",
       "    </tr>\n",
       "    <tr>\n",
       "      <th>6248</th>\n",
       "      <td>DJ Quik</td>\n",
       "      <td>Safe + Sound</td>\n",
       "      <td>~Static~ \"Quik you're not a gangster we're not...</td>\n",
       "    </tr>\n",
       "    <tr>\n",
       "      <th>6249</th>\n",
       "      <td>Ty Herndon</td>\n",
       "      <td>What Mattered Most</td>\n",
       "      <td>I thought I knew the girl so well  If she was ...</td>\n",
       "    </tr>\n",
       "    <tr>\n",
       "      <th>6250</th>\n",
       "      <td>Madonna</td>\n",
       "      <td>Bedtime Story</td>\n",
       "      <td>Today  Is the last day  That I'm using words  ...</td>\n",
       "    </tr>\n",
       "    <tr>\n",
       "      <th>6251</th>\n",
       "      <td>Livin' Joy</td>\n",
       "      <td>Dreamer</td>\n",
       "      <td>Love, life and laughter  Is all I beleive.  My...</td>\n",
       "    </tr>\n",
       "  </tbody>\n",
       "</table>\n",
       "</div>"
      ],
      "text/plain": [
       "          artist                                 title  \\\n",
       "6247   Lost Boyz  Lifestyles Of The Rich And Shameless   \n",
       "6248     DJ Quik                          Safe + Sound   \n",
       "6249  Ty Herndon                    What Mattered Most   \n",
       "6250     Madonna                         Bedtime Story   \n",
       "6251  Livin' Joy                               Dreamer   \n",
       "\n",
       "                                                 lyrics  \n",
       "6247  >Freaky Tahverses Mr. CheeksIntro:[Freaky Tah]...  \n",
       "6248  ~Static~ \"Quik you're not a gangster we're not...  \n",
       "6249  I thought I knew the girl so well  If she was ...  \n",
       "6250  Today  Is the last day  That I'm using words  ...  \n",
       "6251  Love, life and laughter  Is all I beleive.  My...  "
      ]
     },
     "execution_count": 8,
     "metadata": {},
     "output_type": "execute_result"
    }
   ],
   "source": [
    "df.tail()"
   ]
  },
  {
   "cell_type": "code",
   "execution_count": 9,
   "metadata": {},
   "outputs": [],
   "source": [
    "punctuations = string.punctuation\n",
    "nlp = spacy.load('en_core_web_sm')\n",
    "stop_words = spacy.lang.en.stop_words.STOP_WORDS\n",
    "parser = English()\n",
    "\n",
    "\n",
    "def remove_bracketed(song):\n",
    "    text = re.sub(\"\\[.*?\\]\", '', song)\n",
    "    text = re.sub(\"\\(.*?\\)\", '', text)\n",
    "    text = re.sub(\"\\{.*?\\}\", '', text)\n",
    "    \n",
    "    return text\n",
    "\n",
    "\n",
    "def spacy_tokenizer(text, use_stopwords=True, custom_stopwords=set()):\n",
    "    text = remove_bracketed(text)\n",
    "    mytokens = parser(text)\n",
    "    mytokens = [word.lemma_.lower().strip() if word.lemma_ != \"-PRON-\" else \"-PRON-\" for word in mytokens ]\n",
    "#     mytokens = [word.lemma_.lower().strip() if word.lemma_ != \"-PRON-\" else word.lower_ for word in mytokens ]\n",
    "    if use_stopwords:\n",
    "        mytokens = [word for word in mytokens if word not in (stop_words | custom_stopwords) and word not in punctuations ]\n",
    "    else:\n",
    "        mytokens = [word for word in mytokens if word not in punctuations ]\n",
    "\n",
    "    \n",
    "    return mytokens\n",
    "\n",
    "\n",
    "def tokenize_column(dataframe, column_name, use_stopwords=True, custom_stopwords=set()):\n",
    "    df_ = dataframe.reset_index(drop=True)\n",
    "    token_list = []\n",
    "    for song in df_[column_name]:\n",
    "        token_list.append(spacy_tokenizer(song, use_stopwords, custom_stopwords))\n",
    "    \n",
    "    return token_list\n",
    "\n"
   ]
  },
  {
   "cell_type": "code",
   "execution_count": 10,
   "metadata": {},
   "outputs": [],
   "source": [
    "lyric_stopwords = set(['hey', 'baby', 'babe', 'woo', 'ha', 'like', 'oh', 'ooh', 'woah', 'yeah'])\n",
    "df['lyrics_tokens'] = tokenize_column(df, 'lyrics', use_stopwords=True, custom_stopwords=lyric_stopwords)"
   ]
  },
  {
   "cell_type": "code",
   "execution_count": 11,
   "metadata": {},
   "outputs": [
    {
     "data": {
      "text/html": [
       "<div>\n",
       "<style scoped>\n",
       "    .dataframe tbody tr th:only-of-type {\n",
       "        vertical-align: middle;\n",
       "    }\n",
       "\n",
       "    .dataframe tbody tr th {\n",
       "        vertical-align: top;\n",
       "    }\n",
       "\n",
       "    .dataframe thead th {\n",
       "        text-align: right;\n",
       "    }\n",
       "</style>\n",
       "<table border=\"1\" class=\"dataframe\">\n",
       "  <thead>\n",
       "    <tr style=\"text-align: right;\">\n",
       "      <th></th>\n",
       "      <th>artist</th>\n",
       "      <th>title</th>\n",
       "      <th>lyrics</th>\n",
       "      <th>lyrics_tokens</th>\n",
       "    </tr>\n",
       "  </thead>\n",
       "  <tbody>\n",
       "    <tr>\n",
       "      <th>0</th>\n",
       "      <td>Drake</td>\n",
       "      <td>Toosie Slide</td>\n",
       "      <td>Black leather gloves, no sequins (Yeah, yeah, ...</td>\n",
       "      <td>[black, leather, glove, sequin, buckles, jacke...</td>\n",
       "    </tr>\n",
       "    <tr>\n",
       "      <th>1</th>\n",
       "      <td>Roddy Ricch</td>\n",
       "      <td>The Box</td>\n",
       "      <td>Pullin' out the coupe at the lot  Told 'em fuc...</td>\n",
       "      <td>[pullin, coupe, lot, told, -PRON-, fuck, 12, f...</td>\n",
       "    </tr>\n",
       "    <tr>\n",
       "      <th>2</th>\n",
       "      <td>Dua Lipa</td>\n",
       "      <td>Don't Start Now</td>\n",
       "      <td>If you don't wanna see me  Did a full 180, cra...</td>\n",
       "      <td>[wanna, 180, crazy, thinking, way, heartbreak,...</td>\n",
       "    </tr>\n",
       "    <tr>\n",
       "      <th>3</th>\n",
       "      <td>Doja Cat</td>\n",
       "      <td>Say So</td>\n",
       "      <td>Day and night til morning, keeping me in the m...</td>\n",
       "      <td>[day, night, til, morning, moment, -PRON-, let...</td>\n",
       "    </tr>\n",
       "    <tr>\n",
       "      <th>4</th>\n",
       "      <td>Post Malone</td>\n",
       "      <td>Circles</td>\n",
       "      <td>Hey, hey, hey, hey  Oh, oh, oh-oh  Oh, oh, oh-...</td>\n",
       "      <td>[turn, til, upside, -PRON-, bad, guy, proud, t...</td>\n",
       "    </tr>\n",
       "    <tr>\n",
       "      <th>5</th>\n",
       "      <td>Justin Bieber Featuring Quavo</td>\n",
       "      <td>Intentions</td>\n",
       "      <td>Picture perfect, you don't need no filter  Gor...</td>\n",
       "      <td>[picture, perfect, need, filter, gorgeous, -PR...</td>\n",
       "    </tr>\n",
       "    <tr>\n",
       "      <th>6</th>\n",
       "      <td>DaBaby Featuring Roddy Ricch</td>\n",
       "      <td>ROCKSTAR</td>\n",
       "      <td>Woo, woo  I pull up like  How you pull up, Bab...</td>\n",
       "      <td>[pull, pull, pull, pull, pull, let, -PRON-, br...</td>\n",
       "    </tr>\n",
       "    <tr>\n",
       "      <th>7</th>\n",
       "      <td>Future Featuring Drake</td>\n",
       "      <td>Life Is Good</td>\n",
       "      <td>Workin' on the weekend like usual  Way off in ...</td>\n",
       "      <td>[workin, weekend, usual, way, deep, end, usual...</td>\n",
       "    </tr>\n",
       "    <tr>\n",
       "      <th>8</th>\n",
       "      <td>Billie Eilish</td>\n",
       "      <td>everything i wanted</td>\n",
       "      <td>I had a dream  I got everything I wanted  Not ...</td>\n",
       "      <td>[dream, want, -PRON-, think, -PRON-, bein, hon...</td>\n",
       "    </tr>\n",
       "    <tr>\n",
       "      <th>9</th>\n",
       "      <td>Camila Cabello Featuring DaBaby</td>\n",
       "      <td>My Oh My</td>\n",
       "      <td>Ha, ha, ha, ha  They say he likes a good time ...</td>\n",
       "      <td>[good, time, come, alive, midnight, mama, trus...</td>\n",
       "    </tr>\n",
       "  </tbody>\n",
       "</table>\n",
       "</div>"
      ],
      "text/plain": [
       "                            artist                title  \\\n",
       "0                            Drake         Toosie Slide   \n",
       "1                      Roddy Ricch              The Box   \n",
       "2                         Dua Lipa      Don't Start Now   \n",
       "3                         Doja Cat               Say So   \n",
       "4                      Post Malone              Circles   \n",
       "5    Justin Bieber Featuring Quavo           Intentions   \n",
       "6     DaBaby Featuring Roddy Ricch             ROCKSTAR   \n",
       "7           Future Featuring Drake         Life Is Good   \n",
       "8                    Billie Eilish  everything i wanted   \n",
       "9  Camila Cabello Featuring DaBaby             My Oh My   \n",
       "\n",
       "                                              lyrics  \\\n",
       "0  Black leather gloves, no sequins (Yeah, yeah, ...   \n",
       "1  Pullin' out the coupe at the lot  Told 'em fuc...   \n",
       "2  If you don't wanna see me  Did a full 180, cra...   \n",
       "3  Day and night til morning, keeping me in the m...   \n",
       "4  Hey, hey, hey, hey  Oh, oh, oh-oh  Oh, oh, oh-...   \n",
       "5  Picture perfect, you don't need no filter  Gor...   \n",
       "6  Woo, woo  I pull up like  How you pull up, Bab...   \n",
       "7  Workin' on the weekend like usual  Way off in ...   \n",
       "8  I had a dream  I got everything I wanted  Not ...   \n",
       "9  Ha, ha, ha, ha  They say he likes a good time ...   \n",
       "\n",
       "                                       lyrics_tokens  \n",
       "0  [black, leather, glove, sequin, buckles, jacke...  \n",
       "1  [pullin, coupe, lot, told, -PRON-, fuck, 12, f...  \n",
       "2  [wanna, 180, crazy, thinking, way, heartbreak,...  \n",
       "3  [day, night, til, morning, moment, -PRON-, let...  \n",
       "4  [turn, til, upside, -PRON-, bad, guy, proud, t...  \n",
       "5  [picture, perfect, need, filter, gorgeous, -PR...  \n",
       "6  [pull, pull, pull, pull, pull, let, -PRON-, br...  \n",
       "7  [workin, weekend, usual, way, deep, end, usual...  \n",
       "8  [dream, want, -PRON-, think, -PRON-, bein, hon...  \n",
       "9  [good, time, come, alive, midnight, mama, trus...  "
      ]
     },
     "execution_count": 11,
     "metadata": {},
     "output_type": "execute_result"
    }
   ],
   "source": [
    "df.head(10)"
   ]
  },
  {
   "cell_type": "code",
   "execution_count": 12,
   "metadata": {},
   "outputs": [],
   "source": [
    "idx = np.random.randint(0, 6252)"
   ]
  },
  {
   "cell_type": "code",
   "execution_count": 13,
   "metadata": {},
   "outputs": [
    {
     "name": "stdout",
     "output_type": "stream",
     "text": [
      "Justin Timberlake  -  TKO \n",
      "\n",
      "-----\n",
      "\n",
      " In all, enthrilling new, living sound Kill me with the coo, coochie-coochie-coo Ah, she kill me with the coo, coochie-coochie-coo  Ah, she kill me with the coo, coochie-coochie-coo Ah, she kill me with the coo, coochie-coochie-coo Ah, she kill me with the coo, coochie-coochie-coo  Ah, she kill me with the coo, coochie-coochie-coo  Ah, she kill me with the coo, coochie-coochie-coo  Ah, lights out, TKO  Boo    Baby, everyday in training to get the gold  That's why your body's crazy  But you can't run from yourself, that's where it's difficult  Girl I can see in your eyes that there's something inside that made you evil  Where did you go, 'cause it just ain't fair  Over here thinking 'bout the sh-t you say  Don't know why it gets to me    It cuts right on my eye, yeah it hurt, won't lie  Still can't see, think I saw you with another guy  Can't fight, knocked down, then I got over you  Can't fight no more, you knock me out  What am I supposed to do?    I don't understand it  Tell me how could you be so low  Been swinging after the bell and after all of the whistle blows  Tried to go below the belt, through my chest, perfect hit 'til the dawn, dammit babe  This ain't the girl I used to know  No, not anymore, TKO    I'm out for the count  Yeah, girl, you knock me out  It's just a TKO  I'm out for the count  Yeah, girl, you knock me out  With a TKO  T-TKO  Out for the count  Yeah, girl, you knock me out  With a TKO  Now, I'm out for the count  Yeah, girl, you knock me out  With a TKO    Baby, now I really know what we're fighting for  This rematch sex is amazing  But nobody wins when if somebody's heart is slow  Cause when I see you move like you got something inside that made you lethal  Where did you go, it just ain't fair  Over here thinking 'bout the sh-t you do  Don't know what I got to lose    It cuts right on my eye, yeah it hurt, won't lie  Still can't see, think I saw you with another guy  Can't fight, knocked down, then I got over you  Can't fight no more, you knock me out  What am I supposed to do?    I don't understand it  Tell me how could you be so low  Been swinging after the bell and after all of the whistle blows  Tried to go below the belt, through my chest, perfect hit 'til the dawn, dammit babe  This ain't the girl I used to know  No, not anymore, TKO    I'm out for the count  Yeah, girl, you knock me out  It's just a TKO  I'm out for the count  Yeah, girl, you knock me out  With a TKO  T-TKO  Out for the count  Yeah, girl, you knock me out  With a TKO  Now, I'm out for the count  Yeah, girl, you knock me out  With a TKO    Girl  See what you doing  See what you doing, girl?  You knock me right out  See what you do See what you do   Girl, girl, girl",
      "  You knock me right out  Hey girl  See what you do See what you do   Girl, girl, girl",
      "  You knock me right out  Hey girl  See what you do See what you do   Girl, girl, girl",
      "  You knock me right out    It cuts right on my eye, yeah it hurt, won't lie  Still can't see, think I saw you with another guy  Can't fight, knocked down, then I got over you  Can't fight no more, you knock me out  What am I supposed to do?    I don't understand it  Tell me how could you be so low  You've been swinging after the bell and after all of the whistle blows  Tried to go below the belt, through my chest, perfect hit 'til the dawn, dammit babe  This ain't the girl I used to know  No, not anymore, TKO  TKO  I don't understand it  Tell me how could you be so low  You've been swinging after the bell and after all of the whistle blows  Tried to go below the belt, through my chest, perfect hit 'til the dawn, Perfect hit to the dome, dammit babe    (Dammit babe) Dammit babe  (Dammit babe) Dammit babe  (Dammit babe) Da-da-da-da-da-da-da-da-dammit, babe    (She kill me with that coo, coochie-coochie-coo)  (She kill me with that coo) So dammit babe  (Dammit babe) Dammit babe  (Dammit babe) Dammit babe  (Dammit babe) Da-da-da-da-da-da-da-da-dammit, babe    (She kill me with that coo, coochie-coochie-coo)  (She kill me with that coo) So dammit babe  (Dammit babe) Dammit babe  (Dammit babe) Dammit babe  (Dammit babe) Da-da-da-da-da-da-da-da-dammit, babe    So, I'm out for the count, yeah, girl, you knock me out  It's just a TKO  I'm out for the count, yeah, girl, you knock me out  With a TKO  With a TKO  With a TKO  With a TKO \n",
      "\n",
      "-----\n",
      "\n",
      " ['enthrilling', 'new', 'live', 'sound', 'kill', 'coo', 'coochie', 'coochie', 'coo', 'ah', 'kill', 'coo', 'coochie', 'coochie', 'coo', 'ah', 'kill', 'coo', 'coochie', 'coochie', 'coo', 'ah', 'kill', 'coo', 'coochie', 'coochie', 'coo', 'ah', 'kill', 'coo', 'coochie', 'coochie', 'coo', 'ah', 'kill', 'coo', 'coochie', 'coochie', 'coo', 'ah', 'kill', 'coo', 'coochie', 'coochie', 'coo', 'ah', 'light', 'tko', 'boo', 'everyday', 'train', 'gold', 'body', 'crazy', 'run', '-PRON-', 'difficult', 'girl', 'eye', 'inside', 'evil', 'fair', 'think', 'sh', 't', 'know', 'cut', 'right', 'eye', 'yes', 'hurt', 'lie', 'think', 'guy', 'fight', 'knock', 'fight', 'knock', 'suppose', 'understand', 'tell', 'low', 'swinge', 'bell', 'whistle', 'blow', 'tried', 'belt', 'chest', 'perfect', 'hit', 'til', 'dawn', 'dammit', 'girl', 'use', 'know', 'anymore', 'tko', '-PRON-', 'count', 'girl', 'knock', '-PRON-', 'tko', '-PRON-', 'count', 'girl', 'knock', 'tko', 't', 'tko', 'count', 'girl', 'knock', 'tko', '-PRON-', 'count', 'girl', 'knock', 'tko', 'know', '-PRON-', 'fight', 'rematch', 'sex', 'amaze', 'win', 'somebody', 'heart', 'slow', '\\x91cause', 'inside', 'lethal', '\\x91it', 'fair', 'think', 'sh', 't', 'know', 'lose', 'cut', 'right', 'eye', 'yes', 'hurt', 'lie', 'think', 'guy', 'fight', 'knock', 'fight', 'knock', 'suppose', 'understand', 'tell', 'low', 'swinge', 'bell', 'whistle', 'blow', 'tried', 'belt', 'chest', 'perfect', 'hit', 'til', 'dawn', 'dammit', 'girl', 'use', 'know', 'anymore', 'tko', '-PRON-', 'count', 'girl', 'knock', '-PRON-', 'tko', '-PRON-', 'count', 'girl', 'knock', 'tko', 't', 'tko', 'count', 'girl', 'knock', 'tko', '-PRON-', 'count', 'girl', 'knock', 'tko', 'girl', 'girl', 'knock', 'right', 'girl', 'girl', 'girl', 'knock', 'right', 'girl', 'girl', 'girl', 'girl', 'knock', 'right', 'girl', 'girl', 'girl', 'girl', 'knock', 'right', 'cut', 'right', 'eye', 'yes', 'hurt', 'lie', 'think', 'guy', 'fight', 'knock', 'fight', 'knock', 'suppose', 'understand', 'tell', 'low', '-PRON-', 'swinge', 'bell', 'whistle', 'blow', 'tried', 'belt', 'chest', 'perfect', 'hit', 'til', 'dawn', 'dammit', 'girl', 'use', 'know', 'anymore', 'tko', 'tko', 'understand', 'tell', 'low', '-PRON-', 'swinge', 'bell', 'whistle', 'blow', 'tried', 'belt', 'chest', 'perfect', 'hit', 'til', 'dawn', 'perfect', 'hit', 'dome', 'dammit', 'dammit', 'dammit', 'da', 'da', 'da', 'da', 'da', 'da', 'da', 'da', 'dammit', 'dammit', 'dammit', 'dammit', 'da', 'da', 'da', 'da', 'da', 'da', 'da', 'da', 'dammit', 'dammit', 'dammit', 'dammit', 'da', 'da', 'da', 'da', 'da', 'da', 'da', 'da', 'dammit', '-PRON-', 'count', 'yes', 'girl', 'knock', '-PRON-', 'tko', '-PRON-', 'count', 'yes', 'girl', 'knock', 'tko', 'tko', 'tko', 'tko']\n"
     ]
    }
   ],
   "source": [
    "print(df.iloc[idx, 0], ' - ', df.iloc[idx, 1],'\\n\\n-----\\n\\n', df.iloc[idx, 2], '\\n\\n-----\\n\\n', df.iloc[idx, 3])"
   ]
  },
  {
   "cell_type": "code",
   "execution_count": 14,
   "metadata": {},
   "outputs": [],
   "source": [
    "barbra = df[df['artist'] == 'Duck Sauce']['lyrics'][2191]"
   ]
  },
  {
   "cell_type": "code",
   "execution_count": 15,
   "metadata": {},
   "outputs": [
    {
     "data": {
      "text/plain": [
       "'Barbra Streisand  Woowoowoowoowoowoowoowoowoowoowoowoowoowoowoowoowoowoow  Oowoowoowoowoowoowoowoowoowoowoowoowoowoowoowoowoowoowo   Owoowoowoowoowoo  Barbra Streisand    Woowoowoowoowoowoowoowoowoowoowoowoowoowoowoowoowoowoow  Oowoowoowoowoowoowoowoowoowoowoowoowoowoowoowoowoowoowo  Owoowoowoowoowoo    Barbra Streisand    Woowoowoowoowoowoowoowoowoowoowoowoowoowoowoowoowoowoow  Oowoowoowoowoowoowoowoowoowoowoowoowoowoowoowoowoowoowo  Owoowoowoowoowoo    Barbra Streisand    Woowoowoowoowoowoowoowoowoowoowoowoowoowoowoowoowoowoow  Oowoowoowoowoowoowoowoowoowoowoowoowoowoowoowoowoowoowo  Owoowoowoowoowoowoowoowoowoowoowoowoowoowoowoowoowoowoo  Woowoowoowoowoowoowoowoowoowoowoowoowoowoowoowoowoowoow  Oowoowoowoowoowoowoowoowoowoowoowoowoo    Barbra Streisand    Woowoowoowoowoowoowoowoowoowoowoowoowoowoowoowoowoowoow  Oowoowoowoowoowoowoowoowoowoowoowoowoowoowoowoowoowoowo  Owoowoowoowoowoo    Barbra Streisand    Wowowo wowowo wowowowoowoo  Woowoowoowoowoowoowoowoowoowoowoo wowowo wowowo  Wowowowoowoo woowoowoowoowoowoowoowoowoo    Barbra Streisand    Woowoowoowoowoowoowoowoowoowoowoowoowoowoowoowoowoowoow  Oowoowoowoowoowoowoowoowoowoowoowoowoowoowoowoowoowoowo  Owoowoowoowoowoo    Barbra Streisand    Barbra Streisand    (Merci à Hugo pour cettes paroles)'"
      ]
     },
     "execution_count": 15,
     "metadata": {},
     "output_type": "execute_result"
    }
   ],
   "source": [
    "barbra"
   ]
  },
  {
   "cell_type": "code",
   "execution_count": 16,
   "metadata": {},
   "outputs": [
    {
     "data": {
      "text/plain": [
       "{'(merci',\n",
       " 'barbra',\n",
       " 'cettes',\n",
       " 'hugo',\n",
       " 'o',\n",
       " 'oo',\n",
       " 'paroles)',\n",
       " 'pour',\n",
       " 'streisand',\n",
       " 'w',\n",
       " 'à'}"
      ]
     },
     "execution_count": 16,
     "metadata": {},
     "output_type": "execute_result"
    }
   ],
   "source": [
    "set((re.sub(\"woo*\", '', barbra.lower())).split())"
   ]
  },
  {
   "cell_type": "code",
   "execution_count": 17,
   "metadata": {},
   "outputs": [
    {
     "data": {
      "text/html": [
       "<div>\n",
       "<style scoped>\n",
       "    .dataframe tbody tr th:only-of-type {\n",
       "        vertical-align: middle;\n",
       "    }\n",
       "\n",
       "    .dataframe tbody tr th {\n",
       "        vertical-align: top;\n",
       "    }\n",
       "\n",
       "    .dataframe thead th {\n",
       "        text-align: right;\n",
       "    }\n",
       "</style>\n",
       "<table border=\"1\" class=\"dataframe\">\n",
       "  <thead>\n",
       "    <tr style=\"text-align: right;\">\n",
       "      <th></th>\n",
       "      <th>artist</th>\n",
       "      <th>title</th>\n",
       "      <th>lyrics</th>\n",
       "      <th>lyrics_tokens</th>\n",
       "    </tr>\n",
       "  </thead>\n",
       "  <tbody>\n",
       "    <tr>\n",
       "      <th>0</th>\n",
       "      <td>Drake</td>\n",
       "      <td>Toosie Slide</td>\n",
       "      <td>Black leather gloves, no sequins (Yeah, yeah, ...</td>\n",
       "      <td>[black, leather, glove, sequin, buckles, jacke...</td>\n",
       "    </tr>\n",
       "    <tr>\n",
       "      <th>1</th>\n",
       "      <td>Roddy Ricch</td>\n",
       "      <td>The Box</td>\n",
       "      <td>Pullin' out the coupe at the lot  Told 'em fuc...</td>\n",
       "      <td>[pullin, coupe, lot, told, -PRON-, fuck, 12, f...</td>\n",
       "    </tr>\n",
       "    <tr>\n",
       "      <th>2</th>\n",
       "      <td>Dua Lipa</td>\n",
       "      <td>Don't Start Now</td>\n",
       "      <td>If you don't wanna see me  Did a full 180, cra...</td>\n",
       "      <td>[wanna, 180, crazy, thinking, way, heartbreak,...</td>\n",
       "    </tr>\n",
       "    <tr>\n",
       "      <th>3</th>\n",
       "      <td>Doja Cat</td>\n",
       "      <td>Say So</td>\n",
       "      <td>Day and night til morning, keeping me in the m...</td>\n",
       "      <td>[day, night, til, morning, moment, -PRON-, let...</td>\n",
       "    </tr>\n",
       "    <tr>\n",
       "      <th>4</th>\n",
       "      <td>Post Malone</td>\n",
       "      <td>Circles</td>\n",
       "      <td>Hey, hey, hey, hey  Oh, oh, oh-oh  Oh, oh, oh-...</td>\n",
       "      <td>[turn, til, upside, -PRON-, bad, guy, proud, t...</td>\n",
       "    </tr>\n",
       "  </tbody>\n",
       "</table>\n",
       "</div>"
      ],
      "text/plain": [
       "        artist            title  \\\n",
       "0        Drake     Toosie Slide   \n",
       "1  Roddy Ricch          The Box   \n",
       "2     Dua Lipa  Don't Start Now   \n",
       "3     Doja Cat           Say So   \n",
       "4  Post Malone          Circles   \n",
       "\n",
       "                                              lyrics  \\\n",
       "0  Black leather gloves, no sequins (Yeah, yeah, ...   \n",
       "1  Pullin' out the coupe at the lot  Told 'em fuc...   \n",
       "2  If you don't wanna see me  Did a full 180, cra...   \n",
       "3  Day and night til morning, keeping me in the m...   \n",
       "4  Hey, hey, hey, hey  Oh, oh, oh-oh  Oh, oh, oh-...   \n",
       "\n",
       "                                       lyrics_tokens  \n",
       "0  [black, leather, glove, sequin, buckles, jacke...  \n",
       "1  [pullin, coupe, lot, told, -PRON-, fuck, 12, f...  \n",
       "2  [wanna, 180, crazy, thinking, way, heartbreak,...  \n",
       "3  [day, night, til, morning, moment, -PRON-, let...  \n",
       "4  [turn, til, upside, -PRON-, bad, guy, proud, t...  "
      ]
     },
     "execution_count": 17,
     "metadata": {},
     "output_type": "execute_result"
    }
   ],
   "source": [
    "df.head()"
   ]
  },
  {
   "cell_type": "code",
   "execution_count": 18,
   "metadata": {},
   "outputs": [
    {
     "data": {
      "text/plain": [
       "4"
      ]
     },
     "execution_count": 18,
     "metadata": {},
     "output_type": "execute_result"
    }
   ],
   "source": [
    "len(df.columns)"
   ]
  },
  {
   "cell_type": "code",
   "execution_count": 19,
   "metadata": {},
   "outputs": [],
   "source": [
    "df['word_count'] = 0\n",
    "df['unique_word_count'] = 0\n",
    "for idx, row in enumerate(df['lyrics']):\n",
    "    df.iloc[idx, len(df.columns)-2] = len(row.split())\n",
    "    df.iloc[idx, len(df.columns)-1] = len(set(row.split()))\n",
    "\n",
    "    \n",
    "df['token_count'] = 0\n",
    "df['unique_token_count'] = 0\n",
    "for idx, row in enumerate(df['lyrics_tokens']):\n",
    "    df.iloc[idx, len(df.columns)-2] = len(row)\n",
    "    df.iloc[idx, len(df.columns)-1] = len(set(row))"
   ]
  },
  {
   "cell_type": "code",
   "execution_count": 20,
   "metadata": {},
   "outputs": [
    {
     "data": {
      "text/html": [
       "<div>\n",
       "<style scoped>\n",
       "    .dataframe tbody tr th:only-of-type {\n",
       "        vertical-align: middle;\n",
       "    }\n",
       "\n",
       "    .dataframe tbody tr th {\n",
       "        vertical-align: top;\n",
       "    }\n",
       "\n",
       "    .dataframe thead th {\n",
       "        text-align: right;\n",
       "    }\n",
       "</style>\n",
       "<table border=\"1\" class=\"dataframe\">\n",
       "  <thead>\n",
       "    <tr style=\"text-align: right;\">\n",
       "      <th></th>\n",
       "      <th>artist</th>\n",
       "      <th>title</th>\n",
       "      <th>lyrics</th>\n",
       "      <th>lyrics_tokens</th>\n",
       "      <th>word_count</th>\n",
       "      <th>unique_word_count</th>\n",
       "      <th>token_count</th>\n",
       "      <th>unique_token_count</th>\n",
       "    </tr>\n",
       "  </thead>\n",
       "  <tbody>\n",
       "    <tr>\n",
       "      <th>0</th>\n",
       "      <td>Drake</td>\n",
       "      <td>Toosie Slide</td>\n",
       "      <td>Black leather gloves, no sequins (Yeah, yeah, ...</td>\n",
       "      <td>[black, leather, glove, sequin, buckles, jacke...</td>\n",
       "      <td>447</td>\n",
       "      <td>166</td>\n",
       "      <td>206</td>\n",
       "      <td>71</td>\n",
       "    </tr>\n",
       "    <tr>\n",
       "      <th>1</th>\n",
       "      <td>Roddy Ricch</td>\n",
       "      <td>The Box</td>\n",
       "      <td>Pullin' out the coupe at the lot  Told 'em fuc...</td>\n",
       "      <td>[pullin, coupe, lot, told, -PRON-, fuck, 12, f...</td>\n",
       "      <td>551</td>\n",
       "      <td>209</td>\n",
       "      <td>249</td>\n",
       "      <td>124</td>\n",
       "    </tr>\n",
       "    <tr>\n",
       "      <th>2</th>\n",
       "      <td>Dua Lipa</td>\n",
       "      <td>Don't Start Now</td>\n",
       "      <td>If you don't wanna see me  Did a full 180, cra...</td>\n",
       "      <td>[wanna, 180, crazy, thinking, way, heartbreak,...</td>\n",
       "      <td>304</td>\n",
       "      <td>100</td>\n",
       "      <td>87</td>\n",
       "      <td>31</td>\n",
       "    </tr>\n",
       "    <tr>\n",
       "      <th>3</th>\n",
       "      <td>Doja Cat</td>\n",
       "      <td>Say So</td>\n",
       "      <td>Day and night til morning, keeping me in the m...</td>\n",
       "      <td>[day, night, til, morning, moment, -PRON-, let...</td>\n",
       "      <td>446</td>\n",
       "      <td>164</td>\n",
       "      <td>135</td>\n",
       "      <td>74</td>\n",
       "    </tr>\n",
       "    <tr>\n",
       "      <th>4</th>\n",
       "      <td>Post Malone</td>\n",
       "      <td>Circles</td>\n",
       "      <td>Hey, hey, hey, hey  Oh, oh, oh-oh  Oh, oh, oh-...</td>\n",
       "      <td>[turn, til, upside, -PRON-, bad, guy, proud, t...</td>\n",
       "      <td>318</td>\n",
       "      <td>118</td>\n",
       "      <td>134</td>\n",
       "      <td>38</td>\n",
       "    </tr>\n",
       "  </tbody>\n",
       "</table>\n",
       "</div>"
      ],
      "text/plain": [
       "        artist            title  \\\n",
       "0        Drake     Toosie Slide   \n",
       "1  Roddy Ricch          The Box   \n",
       "2     Dua Lipa  Don't Start Now   \n",
       "3     Doja Cat           Say So   \n",
       "4  Post Malone          Circles   \n",
       "\n",
       "                                              lyrics  \\\n",
       "0  Black leather gloves, no sequins (Yeah, yeah, ...   \n",
       "1  Pullin' out the coupe at the lot  Told 'em fuc...   \n",
       "2  If you don't wanna see me  Did a full 180, cra...   \n",
       "3  Day and night til morning, keeping me in the m...   \n",
       "4  Hey, hey, hey, hey  Oh, oh, oh-oh  Oh, oh, oh-...   \n",
       "\n",
       "                                       lyrics_tokens  word_count  \\\n",
       "0  [black, leather, glove, sequin, buckles, jacke...         447   \n",
       "1  [pullin, coupe, lot, told, -PRON-, fuck, 12, f...         551   \n",
       "2  [wanna, 180, crazy, thinking, way, heartbreak,...         304   \n",
       "3  [day, night, til, morning, moment, -PRON-, let...         446   \n",
       "4  [turn, til, upside, -PRON-, bad, guy, proud, t...         318   \n",
       "\n",
       "   unique_word_count  token_count  unique_token_count  \n",
       "0                166          206                  71  \n",
       "1                209          249                 124  \n",
       "2                100           87                  31  \n",
       "3                164          135                  74  \n",
       "4                118          134                  38  "
      ]
     },
     "execution_count": 20,
     "metadata": {},
     "output_type": "execute_result"
    }
   ],
   "source": [
    "df.head()"
   ]
  },
  {
   "cell_type": "code",
   "execution_count": 21,
   "metadata": {},
   "outputs": [
    {
     "data": {
      "image/png": "[encoded data removed]",
      "text/plain": [
       "<Figure size 720x432 with 2 Axes>"
      ]
     },
     "metadata": {},
     "output_type": "display_data"
    }
   ],
   "source": [
    "fig, ax = plt.subplots(2, 1, figsize=(10, 6), sharex=True, sharey=True)\n",
    "ax[0].hist(df['word_count'], bins=100, label='Word Count', alpha=.25)\n",
    "ax[0].hist(df['token_count'], bins=100, label='Token Count', alpha=.25)\n",
    "ax[1].hist(df['unique_word_count'], bins=100, label='Unique Word Count', alpha=.25)\n",
    "ax[1].hist(df['unique_token_count'], bins=100, label='Unique Token Count', alpha=.25)\n",
    "ax[0].legend(loc='best')\n",
    "ax[1].legend(loc='best');"
   ]
  },
  {
   "cell_type": "code",
   "execution_count": 60,
   "metadata": {},
   "outputs": [
    {
     "data": {
      "text/plain": [
       "''"
      ]
     },
     "execution_count": 60,
     "metadata": {},
     "output_type": "execute_result"
    },
    {
     "data": {
      "image/png": "[encoded data removed]",
      "text/plain": [
       "<Figure size 720x720 with 2 Axes>"
      ]
     },
     "metadata": {},
     "output_type": "display_data"
    }
   ],
   "source": [
    "fig, ax = plt.subplots(2, 1, figsize=(10, 10), sharex=True, sharey=True)\n",
    "ax[0].scatter(df['word_count'], df['unique_word_count'], alpha=0.5, s=6)\n",
    "ax[1].scatter(df['token_count'], df['unique_token_count'], alpha=0.5, s=6)\n",
    "ax[0].set_xlabel('Word Count')\n",
    "ax[1].set_xlabel('Token Count')\n",
    "ax[0].set_ylabel('Unique Word Count')\n",
    "ax[1].set_ylabel('Unique Token Count')\n",
    ";"
   ]
  },
  {
   "cell_type": "code",
   "execution_count": 23,
   "metadata": {},
   "outputs": [
    {
     "data": {
      "text/html": [
       "<div>\n",
       "<style scoped>\n",
       "    .dataframe tbody tr th:only-of-type {\n",
       "        vertical-align: middle;\n",
       "    }\n",
       "\n",
       "    .dataframe tbody tr th {\n",
       "        vertical-align: top;\n",
       "    }\n",
       "\n",
       "    .dataframe thead th {\n",
       "        text-align: right;\n",
       "    }\n",
       "</style>\n",
       "<table border=\"1\" class=\"dataframe\">\n",
       "  <thead>\n",
       "    <tr style=\"text-align: right;\">\n",
       "      <th></th>\n",
       "      <th>artist</th>\n",
       "      <th>title</th>\n",
       "      <th>lyrics</th>\n",
       "      <th>lyrics_tokens</th>\n",
       "      <th>word_count</th>\n",
       "      <th>unique_word_count</th>\n",
       "      <th>token_count</th>\n",
       "      <th>unique_token_count</th>\n",
       "    </tr>\n",
       "  </thead>\n",
       "  <tbody>\n",
       "    <tr>\n",
       "      <th>6147</th>\n",
       "      <td>Nicki French</td>\n",
       "      <td>Total Eclipse Of The Heart</td>\n",
       "      <td>Turnaround, Every now and then I get a little ...</td>\n",
       "      <td>[turnaround, little, bite, lonely, -PRON-, com...</td>\n",
       "      <td>1186</td>\n",
       "      <td>143</td>\n",
       "      <td>420</td>\n",
       "      <td>60</td>\n",
       "    </tr>\n",
       "  </tbody>\n",
       "</table>\n",
       "</div>"
      ],
      "text/plain": [
       "            artist                       title  \\\n",
       "6147  Nicki French  Total Eclipse Of The Heart   \n",
       "\n",
       "                                                 lyrics  \\\n",
       "6147  Turnaround, Every now and then I get a little ...   \n",
       "\n",
       "                                          lyrics_tokens  word_count  \\\n",
       "6147  [turnaround, little, bite, lonely, -PRON-, com...        1186   \n",
       "\n",
       "      unique_word_count  token_count  unique_token_count  \n",
       "6147                143          420                  60  "
      ]
     },
     "execution_count": 23,
     "metadata": {},
     "output_type": "execute_result"
    }
   ],
   "source": [
    "df[(df['word_count'] > 1100) & (df['unique_word_count'] < 200)]"
   ]
  },
  {
   "cell_type": "code",
   "execution_count": 24,
   "metadata": {},
   "outputs": [
    {
     "name": "stdout",
     "output_type": "stream",
     "text": [
      "0.1205733558178752\n"
     ]
    }
   ],
   "source": [
    "idx = df[(df['word_count'] > 1100) & (df['unique_word_count'] < 200)].index[0]\n",
    "wc = df.iloc[idx,:]['word_count']\n",
    "unique = df.iloc[idx,:]['unique_word_count']\n",
    "print(unique / wc)"
   ]
  },
  {
   "cell_type": "code",
   "execution_count": 25,
   "metadata": {
    "scrolled": true
   },
   "outputs": [
    {
     "data": {
      "text/plain": [
       "\"Turnaround, Every now and then I get a little bit lonely and you're never coming round  Turnaround, Every now and then I get a little bit tired of listening to the sound of my tears  Turnaround, Every now and then I get a little bit nervous that the best of all the years have gone by   Turnaround, Every now and then I get a little bit terrified and then I see the look in your eyes  Turnaround bright eyes, Every now and then I fall apart  Turnaround bright eyes, Every now and then I fall apart    Turnaround, Every now and then I get a little bit restless and I dream of something wild  Turnaround, Every now and then I get a little bit helpless and I'm lying like a child in your arms  Turnaround, Every now and then I get a little bit angry and I know I've got to get out and cry  Turnaround, Every now and then I get a little bit terrified but then I see the look in your eyes  Turnaround bright eyes, Every now and then I fall apart  Turnaround bright eyes, Every now and then I fall apart    And I need you now tonight  And I need you more than ever  And if you only hold me tight  We'll be holding on forever  And we'll only be making it right  Cause we'll never be wrong together  We can take it to the end of the line  Your love is like a shadow on me all of the time  I don't know what to do and I'm always in the dark  We're living in a powder keg and giving off sparks  I really need you tonight  Forever's gonna start tonight  Forever's gonna start tonight    Once upon a time I was falling in love  But now I'm only falling apart  There's nothing I can do  A total eclipse of the heart  Once upon a time there was light in my life  But now there's only love in the dark  Nothing I can say  A total eclipse of the heart    INSTRUMENTAL    Turnaround bright eyes  Turnaround bright eyes  Turnaround, Every now and then I know you'll never be the boy you always wanted to be  Turnaround, Every now then I know you'll always be the only boy who wanted me the way that I am  Turnaround, Every now and then I know there's no one in the universe as magical and wonderous as you  Turnaround, Every now and then I know there's nothing any better and there's nothing that I just wouldn't do  Turnaround bright eyes, Every now and then I fall apart  Turnaround bright eyes, Every now and then I fall apart    And I need you now tonight  And I need you more than ever  And if you'll only hold me tight  We'll be holding on forever  And we'll only be making it right  Cause we'll never be wrong together  We can take it to the end of the line  Your love is like a shadow on me all of the time  I don't know what to do and I'm always in the dark  We're living in a powder keg and giving off sparks  I really need you tonight  Forever's gonna start tonight  Forever's gonna start tonight    Once upon a time I was falling in love  But now I'm only falling apart  Nothing I can do  A total eclipse of the heart  Once upon a time there was light in my life  But now there's only love in the dark  Nothing I can say  A total eclipse of the heart  Turnaround, Every now and then I get a little bit lonely and you're never coming round  Turnaround, Every now and then I get a little bit tired of listening to the sound of my tears  Turnaround, Every now and then I get a little bit nervous that the best of all the years have gone by  Turnaround, Every now and then I get a little bit terrified and then I see the look in your eyes  Turnaround bright eyes, Every now and then I fall apart  Turnaround bright eyes, Every now and then I fall apart    Turnaround, Every now and then I get a little bit restless and I dream of something wild  Turnaround, Every now and then I get a little bit helpless and I'm lying like a child in your arms  Turnaround, Every now and then I get a little bit angry and I know I've got to get out and cry  Turnaround, Every now and then I get a little bit terrified but then I see the look in your eyes  Turnaround bright eyes, Every now and then I fall apart  Turnaround bright eyes, Every now and then I fall apart    And I need you now tonight  And I need you more than ever  And if you only hold me tight  We'll be holding on forever  And we'll only be making it right  Cause we'll never be wrong together  We can take it to the end of the line  Your love is like a shadow on me all of the time  I don't know what to do and I'm always in the dark  We're living in a powder keg and giving off sparks  I really need you tonight  Forever's gonna start tonight  Forever's gonna start tonight    Once upon a time I was falling in love  But now I'm only falling apart  There's nothing I can do  A total eclipse of the heart  Once upon a time there was light in my life  But now there's only love in the dark  Nothing I can say  A total eclipse of the heart    INSTRUMENTAL    Turnaround bright eyes  Turnaround bright eyes  Turnaround, Every now and then I know you'll never be the boy you always wanted to be  Turnaround, Every now then I know you'll always be the only boy who wanted me the way that I am  Turnaround, Every now and then I know there's no one in the universe as magical and wonderous as you  Turnaround, Every now and then I know there's nothing any better and there's nothing that I just wouldn't do  Turnaround bright eyes, Every now and then I fall apart  Turnaround bright eyes, Every now and then I fall apart    And I need you now tonight  And I need you more than ever  And if you'll only hold me tight  We'll be holding on forever  And we'll only be making it right  Cause we'll never be wrong together  We can take it to the end of the line  Your love is like a shadow on me all of the time  I don't know what to do and I'm always in the dark  We're living in a powder keg and giving off sparks  I really need you tonight  Forever's gonna start tonight  Forever's gonna start tonight    Once upon a time I was falling in love  But now I'm only falling apart  Nothing I can do  A total eclipse of the heart  Once upon a time there was light in my life  But now there's only love in the dark  Nothing I can say  A total eclipse of the heart\""
      ]
     },
     "execution_count": 25,
     "metadata": {},
     "output_type": "execute_result"
    }
   ],
   "source": [
    "df.iloc[idx,:]['lyrics']"
   ]
  },
  {
   "cell_type": "code",
   "execution_count": 26,
   "metadata": {},
   "outputs": [
    {
     "data": {
      "text/html": [
       "<div>\n",
       "<style scoped>\n",
       "    .dataframe tbody tr th:only-of-type {\n",
       "        vertical-align: middle;\n",
       "    }\n",
       "\n",
       "    .dataframe tbody tr th {\n",
       "        vertical-align: top;\n",
       "    }\n",
       "\n",
       "    .dataframe thead th {\n",
       "        text-align: right;\n",
       "    }\n",
       "</style>\n",
       "<table border=\"1\" class=\"dataframe\">\n",
       "  <thead>\n",
       "    <tr style=\"text-align: right;\">\n",
       "      <th></th>\n",
       "      <th>artist</th>\n",
       "      <th>title</th>\n",
       "      <th>lyrics</th>\n",
       "      <th>lyrics_tokens</th>\n",
       "      <th>word_count</th>\n",
       "      <th>unique_word_count</th>\n",
       "      <th>token_count</th>\n",
       "      <th>unique_token_count</th>\n",
       "    </tr>\n",
       "  </thead>\n",
       "  <tbody>\n",
       "    <tr>\n",
       "      <th>6127</th>\n",
       "      <td>Kool G Rap</td>\n",
       "      <td>Fast Life</td>\n",
       "      <td>(feat. Nas)  The time has come, we gotta expan...</td>\n",
       "      <td>[time, come, expand, operation, distribution, ...</td>\n",
       "      <td>732</td>\n",
       "      <td>477</td>\n",
       "      <td>376</td>\n",
       "      <td>316</td>\n",
       "    </tr>\n",
       "  </tbody>\n",
       "</table>\n",
       "</div>"
      ],
      "text/plain": [
       "          artist      title  \\\n",
       "6127  Kool G Rap  Fast Life   \n",
       "\n",
       "                                                 lyrics  \\\n",
       "6127  (feat. Nas)  The time has come, we gotta expan...   \n",
       "\n",
       "                                          lyrics_tokens  word_count  \\\n",
       "6127  [time, come, expand, operation, distribution, ...         732   \n",
       "\n",
       "      unique_word_count  token_count  unique_token_count  \n",
       "6127                477          376                 316  "
      ]
     },
     "execution_count": 26,
     "metadata": {},
     "output_type": "execute_result"
    }
   ],
   "source": [
    "df[(df['word_count'] < 750) & (df['unique_word_count'] > 450)]"
   ]
  },
  {
   "cell_type": "code",
   "execution_count": 27,
   "metadata": {},
   "outputs": [
    {
     "name": "stdout",
     "output_type": "stream",
     "text": [
      "0.6516393442622951\n"
     ]
    }
   ],
   "source": [
    "idx = df[(df['word_count'] < 750) & (df['unique_word_count'] > 450)].index[0]\n",
    "wc = df.iloc[idx,:]['word_count']\n",
    "unique = df.iloc[idx,:]['unique_word_count']\n",
    "print(unique / wc)"
   ]
  },
  {
   "cell_type": "code",
   "execution_count": 28,
   "metadata": {
    "scrolled": true
   },
   "outputs": [
    {
     "data": {
      "text/plain": [
       "'(feat. Nas)  The time has come, we gotta expand, the whole operation   Distribution, New York, to Chicago, L.A.  We gotta set our own market, and enforce it  [Verse One: Kool G Rap]    Champagne wishes of caviar dreams ?a penis didn\\'t cream?  With sales of fish scales from triple beams I gleam  Livin the live of rowdy packin fifty cali\\'s  Rockin lizard Bally\\'s while we do our drug deal in a dark alley  Up in casinos just me and my dino primo  Pushin beam-o\\'s then parlay in Reno with two fly latinos  Nas, he runs the whole staff, we count mad for seen bad  We\\'ve seen a half a milli dashin out there on the Queens half  Three major players gettin papers by the layers  And those that portray us on the block get rocked like Domateus  Fakers get used to shootin targets, soon as the dark hits  Front on the drug market, bodies get rolled up in a carpet  Those that cheat us try to beat us we got hookers with heaters  that\\'ll stray pop and put more shells in your top than Adidas  Da leaders, lookin straight crimy in our Giorgio Armani\\'s  You wanna harm me and Nas you gots ta come get through a whole army  The celo rollers money folders sippin bola holdin mad payola  Slangin a Coke without the Cola  Me and black don\\'t fake jacks but we might sling one  It ain\\'t no shame in our game we do our thing son    [Chorus]    Livin the fast life, in fast cars  Everywhere we go, people know who we are  A team from out of Queens with the american dream  So we\\'re plottin up a scheme to get the seven figure cream  [x2]    [Verse Two: Nas Escobar]    Yo I got, guns from Italy, smoke trees, considerably  Mid-state and Green it seems, is where all my niggaz be  The ghetto misery, shootouts and liquor stores  A perpendicular, angle of the clout war  Police searchin up my Lex over who\\'s petrol  My tech blows straight off the roof and tests yo\\' respect though  But dough don\\'t respect me, it got me handcuffed  The rough life, I just be up nights, breathin with scuffed Nike\\'s  Pour my beers for my peoples under the stairs  These years I got they names in my swears  Poppin Cristal like it\\'s my first child, lickin shots, holiday style  Rockin Steele sweaters, Wallaby down  Twenty-four carats, countin cabbage, like the arabs  The marriage of me and the mic is just like magic  Elegant performance, bubble Lex full insurance  Guzzlin Guinness shootin catchin cases concurrent  It\\'s Nas, seven hundred wives, King Solomon size  We on the rise, me and G, ghetto wise guys  The luciano Frankie Aiel, Bugsy Seagal  Green papers with eagles from a tray that\\'s illegal    [singer]  Brother you\\'ve got to make it happen  Yeahhhahhyeahhh, get this money, yeahhh  Brother you\\'ve got to make it happen  When you\\'re living in the fast life, heyy yeah yeah    [Verse Three: G Rap, Nas]    [Rap] Aiyyo my lifestyle\\'s exquisite, yayo like a blizzard  [Nas] It\\'s choir attire standin on ground with one pivot  [Rap] Two players rockin silk blazers and diamonds like glaciers  [Nas] Lands with namebrand seats reclinin like in spaceships  [Rap] Bodies on ice  [Nas] Livin trife, rollin fixed up dice  [Rap] Gamblin Grants  [Nas] Handlin stamps  [duo] Moves are sheist  [Nas] My bankrolls, got the cops comin in plain clothes  [Rap] Tryin to arraign again cause of our fame that\\'s how the game goes  [Nas] True  [Rap] Right out the slammer with the fame and glamour  Cookin up grams with Arm & Hammer supplyin scramblers in Alabama  [Nas] Rub out faces and leave no traces  My aces got mad body cases, preserve spaces at the horse races  Servin us Dom P my cliquo  Dimes with magnifico, puttin in cut inside ?perico?  Heat for foes, shoppin sprees with my fleet for clothes  in Carribean suites, deep, rippin beats with flows  [Rap] Aiyyo, we went from standin on blocks, without some socks  sellin rocks, to pickin up stock and boat docks with glocks  and got poppy seed fields with million dollar bills  Packin all the blue steel we keeps it real inside the battlefield  [Nas] Yeah so here\\'s a toast to the funds and things  Gun smokes in rings, graveyards is buried with kings    [Chorus]    [singer does same part again with variations to fade, mostly \"I\" for \"you\"]'"
      ]
     },
     "execution_count": 28,
     "metadata": {},
     "output_type": "execute_result"
    }
   ],
   "source": [
    "df.iloc[idx,:]['lyrics']"
   ]
  },
  {
   "cell_type": "code",
   "execution_count": 29,
   "metadata": {},
   "outputs": [
    {
     "data": {
      "text/html": [
       "<div>\n",
       "<style scoped>\n",
       "    .dataframe tbody tr th:only-of-type {\n",
       "        vertical-align: middle;\n",
       "    }\n",
       "\n",
       "    .dataframe tbody tr th {\n",
       "        vertical-align: top;\n",
       "    }\n",
       "\n",
       "    .dataframe thead th {\n",
       "        text-align: right;\n",
       "    }\n",
       "</style>\n",
       "<table border=\"1\" class=\"dataframe\">\n",
       "  <thead>\n",
       "    <tr style=\"text-align: right;\">\n",
       "      <th></th>\n",
       "      <th>artist</th>\n",
       "      <th>title</th>\n",
       "      <th>lyrics</th>\n",
       "      <th>lyrics_tokens</th>\n",
       "      <th>word_count</th>\n",
       "      <th>unique_word_count</th>\n",
       "      <th>token_count</th>\n",
       "      <th>unique_token_count</th>\n",
       "    </tr>\n",
       "  </thead>\n",
       "  <tbody>\n",
       "    <tr>\n",
       "      <th>1520</th>\n",
       "      <td>Eminem</td>\n",
       "      <td>Rap God</td>\n",
       "      <td>Look, I was gonna go easy on you not to hurt y...</td>\n",
       "      <td>[look, easy, hurt, feeling, -PRON-, chance, wr...</td>\n",
       "      <td>1539</td>\n",
       "      <td>722</td>\n",
       "      <td>689</td>\n",
       "      <td>435</td>\n",
       "    </tr>\n",
       "  </tbody>\n",
       "</table>\n",
       "</div>"
      ],
      "text/plain": [
       "      artist    title                                             lyrics  \\\n",
       "1520  Eminem  Rap God  Look, I was gonna go easy on you not to hurt y...   \n",
       "\n",
       "                                          lyrics_tokens  word_count  \\\n",
       "1520  [look, easy, hurt, feeling, -PRON-, chance, wr...        1539   \n",
       "\n",
       "      unique_word_count  token_count  unique_token_count  \n",
       "1520                722          689                 435  "
      ]
     },
     "execution_count": 29,
     "metadata": {},
     "output_type": "execute_result"
    }
   ],
   "source": [
    "df[df['title'] == 'Rap God']"
   ]
  },
  {
   "cell_type": "code",
   "execution_count": 30,
   "metadata": {},
   "outputs": [
    {
     "name": "stdout",
     "output_type": "stream",
     "text": [
      "0.4691358024691358\n"
     ]
    }
   ],
   "source": [
    "wc = df[df['title'] == 'Rap God']['word_count'][1520]\n",
    "unique = df[df['title'] == 'Rap God']['unique_word_count'][1520]\n",
    "print(unique / wc)"
   ]
  },
  {
   "cell_type": "code",
   "execution_count": 31,
   "metadata": {},
   "outputs": [
    {
     "data": {
      "text/html": [
       "<div>\n",
       "<style scoped>\n",
       "    .dataframe tbody tr th:only-of-type {\n",
       "        vertical-align: middle;\n",
       "    }\n",
       "\n",
       "    .dataframe tbody tr th {\n",
       "        vertical-align: top;\n",
       "    }\n",
       "\n",
       "    .dataframe thead th {\n",
       "        text-align: right;\n",
       "    }\n",
       "</style>\n",
       "<table border=\"1\" class=\"dataframe\">\n",
       "  <thead>\n",
       "    <tr style=\"text-align: right;\">\n",
       "      <th></th>\n",
       "      <th>artist</th>\n",
       "      <th>title</th>\n",
       "      <th>lyrics</th>\n",
       "      <th>lyrics_tokens</th>\n",
       "      <th>word_count</th>\n",
       "      <th>unique_word_count</th>\n",
       "      <th>token_count</th>\n",
       "      <th>unique_token_count</th>\n",
       "    </tr>\n",
       "  </thead>\n",
       "  <tbody>\n",
       "    <tr>\n",
       "      <th>1520</th>\n",
       "      <td>Eminem</td>\n",
       "      <td>Rap God</td>\n",
       "      <td>Look, I was gonna go easy on you not to hurt y...</td>\n",
       "      <td>[look, easy, hurt, feeling, -PRON-, chance, wr...</td>\n",
       "      <td>1539</td>\n",
       "      <td>722</td>\n",
       "      <td>689</td>\n",
       "      <td>435</td>\n",
       "    </tr>\n",
       "  </tbody>\n",
       "</table>\n",
       "</div>"
      ],
      "text/plain": [
       "      artist    title                                             lyrics  \\\n",
       "1520  Eminem  Rap God  Look, I was gonna go easy on you not to hurt y...   \n",
       "\n",
       "                                          lyrics_tokens  word_count  \\\n",
       "1520  [look, easy, hurt, feeling, -PRON-, chance, wr...        1539   \n",
       "\n",
       "      unique_word_count  token_count  unique_token_count  \n",
       "1520                722          689                 435  "
      ]
     },
     "execution_count": 31,
     "metadata": {},
     "output_type": "execute_result"
    }
   ],
   "source": [
    "df[(df['token_count'] > 600) & (df['unique_token_count'] >400)]"
   ]
  },
  {
   "cell_type": "code",
   "execution_count": null,
   "metadata": {},
   "outputs": [],
   "source": []
  },
  {
   "cell_type": "code",
   "execution_count": 34,
   "metadata": {},
   "outputs": [],
   "source": [
    "def tf(term, document_tokens):\n",
    "    term_occ = document_tokens.count(term)\n",
    "    total_tokens = len(document_tokens)\n",
    "    return term_occ / total_tokens\n",
    "\n",
    "\n",
    "\n",
    "def get_tf(document_tokens):\n",
    "    term_freqs = {}\n",
    "    for token in document_tokens:\n",
    "        if token not in term_freqs:\n",
    "            term_freqs[token] = tf(token, document_tokens)\n",
    "    return term_freqs\n",
    "    \n",
    "\n",
    "def get_idf_dict(corpus):\n",
    "    occ_dict = {}\n",
    "    for doc in corpus:\n",
    "        for token in doc:\n",
    "            if token not in occ_dict:\n",
    "                occ_dict[token] = 1\n",
    "            else:\n",
    "                occ_dict[token] += 1\n",
    "    return occ_dict\n",
    "\n",
    "def get_doc_freq_dict(corpus):\n",
    "    doc_occs = Counter([word for row in corpus for word in set(row)])\n",
    "    doc_freq = {k: (v / float(len(corpus))) for k, v in doc_occs.items()}\n",
    "    return doc_freq\n",
    "\n",
    "\n",
    "def vectorize_tokens(pandas_series):\n",
    "    docs = pandas_series.to_numpy()\n",
    "    doc_freq = get_doc_freq_dict(working_df['lyrics_tokens'])\n",
    "    vocabulary = [k for k,v in doc_freq.items()]\n",
    "    vectors = np.zeros((len(docs),len(vocabulary)))\n",
    "\n",
    "    for i in range(len(docs)):\n",
    "        for j in range(len(vocabulary)):\n",
    "            term     = vocabulary[j]\n",
    "            term_tf  = tf(term, docs[i])   # 0.0 if term not found in doc\n",
    "            term_idf = np.log(1 + (1 / doc_freq[term])) # smooth formula\n",
    "            vectors[i,j] = term_tf * term_idf\n",
    "    return vectors, vocabulary\n",
    "\n"
   ]
  },
  {
   "cell_type": "code",
   "execution_count": 103,
   "metadata": {
    "scrolled": true
   },
   "outputs": [
    {
     "data": {
      "text/plain": [
       "artist\n",
       "Taylor Swift     58\n",
       "Kenny Chesney    42\n",
       "Tim McGraw       39\n",
       "Keith Urban      37\n",
       "Drake            33\n",
       "Name: title, dtype: int64"
      ]
     },
     "execution_count": 103,
     "metadata": {},
     "output_type": "execute_result"
    }
   ],
   "source": [
    "top_artist = df.groupby(by='artist').count().sort_values(by='title',ascending=False).loc[:,'title']\n",
    "top_artist[:5]"
   ]
  },
  {
   "cell_type": "code",
   "execution_count": 105,
   "metadata": {},
   "outputs": [],
   "source": [
    "artist_list = list(top_artist[:5].index)\n",
    "working_df = df[df['artist'].isin(artist_list)]\n",
    "\n",
    "song_is_artist = pd.get_dummies(working_df['artist'], prefix='is')"
   ]
  },
  {
   "cell_type": "code",
   "execution_count": 106,
   "metadata": {},
   "outputs": [
    {
     "data": {
      "text/html": [
       "<div>\n",
       "<style scoped>\n",
       "    .dataframe tbody tr th:only-of-type {\n",
       "        vertical-align: middle;\n",
       "    }\n",
       "\n",
       "    .dataframe tbody tr th {\n",
       "        vertical-align: top;\n",
       "    }\n",
       "\n",
       "    .dataframe thead th {\n",
       "        text-align: right;\n",
       "    }\n",
       "</style>\n",
       "<table border=\"1\" class=\"dataframe\">\n",
       "  <thead>\n",
       "    <tr style=\"text-align: right;\">\n",
       "      <th></th>\n",
       "      <th>is_Drake</th>\n",
       "      <th>is_Keith Urban</th>\n",
       "      <th>is_Kenny Chesney</th>\n",
       "      <th>is_Taylor Swift</th>\n",
       "      <th>is_Tim McGraw</th>\n",
       "    </tr>\n",
       "  </thead>\n",
       "  <tbody>\n",
       "    <tr>\n",
       "      <th>0</th>\n",
       "      <td>1</td>\n",
       "      <td>0</td>\n",
       "      <td>0</td>\n",
       "      <td>0</td>\n",
       "      <td>0</td>\n",
       "    </tr>\n",
       "    <tr>\n",
       "      <th>65</th>\n",
       "      <td>0</td>\n",
       "      <td>0</td>\n",
       "      <td>1</td>\n",
       "      <td>0</td>\n",
       "      <td>0</td>\n",
       "    </tr>\n",
       "    <tr>\n",
       "      <th>75</th>\n",
       "      <td>0</td>\n",
       "      <td>1</td>\n",
       "      <td>0</td>\n",
       "      <td>0</td>\n",
       "      <td>0</td>\n",
       "    </tr>\n",
       "    <tr>\n",
       "      <th>149</th>\n",
       "      <td>0</td>\n",
       "      <td>0</td>\n",
       "      <td>0</td>\n",
       "      <td>1</td>\n",
       "      <td>0</td>\n",
       "    </tr>\n",
       "    <tr>\n",
       "      <th>150</th>\n",
       "      <td>0</td>\n",
       "      <td>0</td>\n",
       "      <td>0</td>\n",
       "      <td>1</td>\n",
       "      <td>0</td>\n",
       "    </tr>\n",
       "  </tbody>\n",
       "</table>\n",
       "</div>"
      ],
      "text/plain": [
       "     is_Drake  is_Keith Urban  is_Kenny Chesney  is_Taylor Swift  \\\n",
       "0           1               0                 0                0   \n",
       "65          0               0                 1                0   \n",
       "75          0               1                 0                0   \n",
       "149         0               0                 0                1   \n",
       "150         0               0                 0                1   \n",
       "\n",
       "     is_Tim McGraw  \n",
       "0                0  \n",
       "65               0  \n",
       "75               0  \n",
       "149              0  \n",
       "150              0  "
      ]
     },
     "execution_count": 106,
     "metadata": {},
     "output_type": "execute_result"
    }
   ],
   "source": [
    "song_is_artist.head()"
   ]
  },
  {
   "cell_type": "code",
   "execution_count": 107,
   "metadata": {},
   "outputs": [],
   "source": [
    "arr, vocab = vectorize_tokens(working_df['lyrics_tokens'])\n",
    "\n",
    "model_df = pd.DataFrame(arr, columns=vocab)"
   ]
  },
  {
   "cell_type": "code",
   "execution_count": 108,
   "metadata": {},
   "outputs": [],
   "source": [
    "def run_model(X, y):\n",
    "    X_train, X_test, y_train, y_test = train_test_split(X, y, \n",
    "                                                        test_size=.20)\n",
    "\n",
    "    rfc = RandomForestClassifier(n_estimators=100,\n",
    "                                 max_features='auto',\n",
    "                                 oob_score=True)\n",
    "    rfc.fit(X_train, y_train)\n",
    "# STOPPED HERE. TRYING TO FIGURE OUT WHICH FEATURES TO REMOVE\n",
    "    return rfc.oob_score_, rfc.score(X_test, y_test)\n",
    "\n",
    "\n",
    "def get_all_scores(df, dummy_targets_df):\n",
    "    target_oobs = {}\n",
    "    X = df.to_numpy()\n",
    "    vocab_to_remove = set()\n",
    "    for idx, target in enumerate(dummy_targets_df.columns):\n",
    "        y = dummy_targets_df.iloc[:,idx].to_numpy()\n",
    "        oob, score = run_model(X, y)\n",
    "        target_oobs[target] = {'oob': round(oob, 3), 'imbalance': round((sum(y) / len(y)), 3)}\n",
    "    \n",
    "    return target_oobs"
   ]
  },
  {
   "cell_type": "code",
   "execution_count": 109,
   "metadata": {},
   "outputs": [],
   "source": [
    "def get_vocab_to_add(trained_model, col_names, add_perc=0.2):\n",
    "    num_to_remove = int(len(col_names) * add_perc)\n",
    "    feat_scores = pd.Series(rfc.feature_importances_,\n",
    "                               index=col_names)\n",
    "    top_feats = feat_scores.sort_values()[-num_to_remove:]\n",
    "    return top_feats"
   ]
  },
  {
   "cell_type": "code",
   "execution_count": 110,
   "metadata": {
    "scrolled": true
   },
   "outputs": [
    {
     "data": {
      "text/plain": [
       "{'is_Drake': {'oob': 0.904, 'imbalance': 0.158},\n",
       " 'is_Keith Urban': {'oob': 0.808, 'imbalance': 0.177},\n",
       " 'is_Kenny Chesney': {'oob': 0.808, 'imbalance': 0.201},\n",
       " 'is_Taylor Swift': {'oob': 0.737, 'imbalance': 0.278},\n",
       " 'is_Tim McGraw': {'oob': 0.802, 'imbalance': 0.187}}"
      ]
     },
     "execution_count": 110,
     "metadata": {},
     "output_type": "execute_result"
    }
   ],
   "source": [
    "get_all_scores(model_df, song_is_artist)"
   ]
  },
  {
   "cell_type": "code",
   "execution_count": null,
   "metadata": {},
   "outputs": [],
   "source": []
  },
  {
   "cell_type": "code",
   "execution_count": 113,
   "metadata": {},
   "outputs": [],
   "source": [
    "is_artist = 'is_Taylor Swift'\n",
    "\n",
    "arr, vocab_cols = vectorize_tokens(working_df['lyrics_tokens'])\n",
    "model_df = pd.DataFrame(arr, columns=vocab)\n",
    "\n",
    "X = arr\n",
    "y = song_is_artist.iloc[:,song_is_artist.columns.get_loc(is_artist)]\n",
    "\n",
    "X_train, X_test, y_train, y_test = train_test_split(X, y, \n",
    "                                                        test_size=.20)"
   ]
  },
  {
   "cell_type": "code",
   "execution_count": null,
   "metadata": {},
   "outputs": [],
   "source": []
  },
  {
   "cell_type": "code",
   "execution_count": 117,
   "metadata": {
    "scrolled": true
   },
   "outputs": [],
   "source": [
    "rfc = RandomForestClassifier(n_estimators=500,\n",
    "                             max_features='auto',\n",
    "                             oob_score=True, \n",
    "                             class_weight='balanced_subsample').fit(X_train, y_train)"
   ]
  },
  {
   "cell_type": "code",
   "execution_count": null,
   "metadata": {},
   "outputs": [],
   "source": []
  },
  {
   "cell_type": "code",
   "execution_count": 142,
   "metadata": {},
   "outputs": [],
   "source": [
    "gbcl = GradientBoostingClassifier(learning_rate=.01, \n",
    "                                  n_estimators=100, \n",
    "                                  criterion='mae').fit(X_train, y_train)"
   ]
  },
  {
   "cell_type": "code",
   "execution_count": null,
   "metadata": {},
   "outputs": [],
   "source": []
  },
  {
   "cell_type": "code",
   "execution_count": 143,
   "metadata": {
    "scrolled": true
   },
   "outputs": [
    {
     "data": {
      "image/png": "[encoded data removed]",
      "text/plain": [
       "<Figure size 432x288 with 1 Axes>"
      ]
     },
     "metadata": {},
     "output_type": "display_data"
    }
   ],
   "source": [
    "y_true = y_test\n",
    "y_pred = gbcl.predict(X_test)\n",
    "conf_mat = confusion_matrix(y_true, y_pred)\n",
    "\n",
    "sns.heatmap(conf_mat, \n",
    "            cbar=False, \n",
    "            annot=True,\n",
    "            fmt='d',\n",
    "            xticklabels=['Predicted Negative', 'Predicted Positive'], \n",
    "            yticklabels=['Actually Negative', 'Actually Positive']);"
   ]
  },
  {
   "cell_type": "code",
   "execution_count": 129,
   "metadata": {},
   "outputs": [
    {
     "name": "stdout",
     "output_type": "stream",
     "text": [
      "Accuracy score: 0.738\n"
     ]
    }
   ],
   "source": [
    "# model = GradientBoostingClassifier()\n",
    "# learning_rate_param = [.01, .001]\n",
    "# n_estimators_param = np.arange(100,3100,1000)\n",
    "# parameters = {'n_estimators' : n_estimators_param,\n",
    "#              'learning_rate' : learning_rate_param}\n",
    "# clf = GridSearchCV(model, parameters, cv=5, n_jobs=-1)\n",
    "# clf.fit(X_train,y_train)\n",
    "# print('Accuracy score: {:.3}'.format(clf.score(X_test, y_test)))"
   ]
  },
  {
   "cell_type": "code",
   "execution_count": 130,
   "metadata": {},
   "outputs": [
    {
     "data": {
      "text/plain": [
       "{'learning_rate': 0.001, 'n_estimators': 100}"
      ]
     },
     "execution_count": 130,
     "metadata": {},
     "output_type": "execute_result"
    }
   ],
   "source": [
    "clf.best_params_"
   ]
  },
  {
   "cell_type": "code",
   "execution_count": null,
   "metadata": {},
   "outputs": [],
   "source": []
  },
  {
   "cell_type": "code",
   "execution_count": 46,
   "metadata": {},
   "outputs": [],
   "source": [
    "# feat_scores = pd.Series(rfc.feature_importances_,\n",
    "#                            index=vocab_cols)\n",
    "# feat_scores = feat_scores.sort_values()[-50:]\n",
    "\n",
    "# ax = feat_scores.plot(kind='barh', \n",
    "#                       figsize=(10,8),\n",
    "#                       color='b')\n",
    "# ax.set_title('Average Gini Importance')\n",
    "# ax.set_xlabel('Average contribution to information gain');\n",
    "\n",
    "# get_vocab_to_add(rfc, vocab_cols, add_perc=0.01)"
   ]
  },
  {
   "cell_type": "code",
   "execution_count": null,
   "metadata": {},
   "outputs": [],
   "source": []
  },
  {
   "cell_type": "code",
   "execution_count": null,
   "metadata": {},
   "outputs": [],
   "source": []
  },
  {
   "cell_type": "code",
   "execution_count": null,
   "metadata": {},
   "outputs": [],
   "source": []
  },
  {
   "cell_type": "code",
   "execution_count": null,
   "metadata": {},
   "outputs": [],
   "source": []
  }
 ],
 "metadata": {
  "kernelspec": {
   "display_name": "Python 3",
   "language": "python",
   "name": "python3"
  },
  "language_info": {
   "codemirror_mode": {
    "name": "ipython",
    "version": 3
   },
   "file_extension": ".py",
   "mimetype": "text/x-python",
   "name": "python",
   "nbconvert_exporter": "python",
   "pygments_lexer": "ipython3",
   "version": "3.7.7"
  }
 },
 "nbformat": 4,
 "nbformat_minor": 4
}
