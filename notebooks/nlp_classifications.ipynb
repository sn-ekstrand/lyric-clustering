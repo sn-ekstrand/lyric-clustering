{
 "cells": [
  {
   "cell_type": "code",
   "execution_count": 1,
   "metadata": {},
   "outputs": [],
   "source": [
    "import pandas as pd\n",
    "import numpy as np\n",
    "import matplotlib.pyplot as plt\n",
    "%matplotlib inline\n",
    "plt.style.use('ggplot')\n",
    "import seaborn as sns\n",
    "\n",
    "import spacy\n",
    "from spacy.tokenizer import Tokenizer\n",
    "from spacy.lang.en.stop_words import STOP_WORDS\n",
    "from spacy.lang.en import English\n",
    "import string\n",
    "\n",
    "from sklearn.feature_extraction.text import CountVectorizer,TfidfVectorizer\n",
    "from sklearn.base import TransformerMixin\n",
    "from sklearn.pipeline import Pipeline\n",
    "from sklearn.linear_model import LogisticRegression\n",
    "from sklearn.ensemble import RandomForestClassifier, GradientBoostingClassifier, AdaBoostClassifier\n",
    "from sklearn.naive_bayes import GaussianNB\n",
    "from imblearn.ensemble import BalancedRandomForestClassifier\n",
    "from sklearn.model_selection import cross_val_score, train_test_split, GridSearchCV\n",
    "from sklearn.metrics import confusion_matrix, accuracy_score, mean_squared_error\n",
    "import re\n",
    "from collections import Counter\n",
    "\n",
    "from sklearn.cluster import KMeans\n",
    "from sklearn.metrics import silhouette_samples, silhouette_score\n",
    "\n",
    "from sklearn.datasets import make_blobs\n",
    "\n",
    "import matplotlib.pyplot as plt\n",
    "import matplotlib.cm as cm"
   ]
  },
  {
   "cell_type": "code",
   "execution_count": 2,
   "metadata": {},
   "outputs": [],
   "source": [
    "df = pd.read_json('../data/lyrics_cleaned.json')"
   ]
  },
  {
   "cell_type": "code",
   "execution_count": 3,
   "metadata": {},
   "outputs": [
    {
     "data": {
      "text/html": [
       "<div>\n",
       "<style scoped>\n",
       "    .dataframe tbody tr th:only-of-type {\n",
       "        vertical-align: middle;\n",
       "    }\n",
       "\n",
       "    .dataframe tbody tr th {\n",
       "        vertical-align: top;\n",
       "    }\n",
       "\n",
       "    .dataframe thead th {\n",
       "        text-align: right;\n",
       "    }\n",
       "</style>\n",
       "<table border=\"1\" class=\"dataframe\">\n",
       "  <thead>\n",
       "    <tr style=\"text-align: right;\">\n",
       "      <th></th>\n",
       "      <th>artist</th>\n",
       "      <th>title</th>\n",
       "      <th>lyrics</th>\n",
       "      <th>character_count</th>\n",
       "      <th>word_count</th>\n",
       "    </tr>\n",
       "  </thead>\n",
       "  <tbody>\n",
       "    <tr>\n",
       "      <th>0</th>\n",
       "      <td>Drake</td>\n",
       "      <td>Toosie Slide</td>\n",
       "      <td>Black leather gloves, no sequins (Yeah, yeah, ...</td>\n",
       "      <td>2371</td>\n",
       "      <td>447</td>\n",
       "    </tr>\n",
       "    <tr>\n",
       "      <th>1</th>\n",
       "      <td>Roddy Ricch</td>\n",
       "      <td>The Box</td>\n",
       "      <td>Pullin' out the coupe at the lot  Told 'em fuc...</td>\n",
       "      <td>2689</td>\n",
       "      <td>551</td>\n",
       "    </tr>\n",
       "    <tr>\n",
       "      <th>2</th>\n",
       "      <td>Dua Lipa</td>\n",
       "      <td>Don't Start Now</td>\n",
       "      <td>If you don't wanna see me  Did a full 180, cra...</td>\n",
       "      <td>1576</td>\n",
       "      <td>304</td>\n",
       "    </tr>\n",
       "    <tr>\n",
       "      <th>3</th>\n",
       "      <td>Doja Cat</td>\n",
       "      <td>Say So</td>\n",
       "      <td>Day and night til morning, keeping me in the m...</td>\n",
       "      <td>2203</td>\n",
       "      <td>446</td>\n",
       "    </tr>\n",
       "    <tr>\n",
       "      <th>4</th>\n",
       "      <td>Post Malone</td>\n",
       "      <td>Circles</td>\n",
       "      <td>Hey, hey, hey, hey  Oh, oh, oh-oh  Oh, oh, oh-...</td>\n",
       "      <td>1570</td>\n",
       "      <td>318</td>\n",
       "    </tr>\n",
       "  </tbody>\n",
       "</table>\n",
       "</div>"
      ],
      "text/plain": [
       "        artist            title  \\\n",
       "0        Drake     Toosie Slide   \n",
       "1  Roddy Ricch          The Box   \n",
       "2     Dua Lipa  Don't Start Now   \n",
       "3     Doja Cat           Say So   \n",
       "4  Post Malone          Circles   \n",
       "\n",
       "                                              lyrics  character_count  \\\n",
       "0  Black leather gloves, no sequins (Yeah, yeah, ...             2371   \n",
       "1  Pullin' out the coupe at the lot  Told 'em fuc...             2689   \n",
       "2  If you don't wanna see me  Did a full 180, cra...             1576   \n",
       "3  Day and night til morning, keeping me in the m...             2203   \n",
       "4  Hey, hey, hey, hey  Oh, oh, oh-oh  Oh, oh, oh-...             1570   \n",
       "\n",
       "   word_count  \n",
       "0         447  \n",
       "1         551  \n",
       "2         304  \n",
       "3         446  \n",
       "4         318  "
      ]
     },
     "execution_count": 3,
     "metadata": {},
     "output_type": "execute_result"
    }
   ],
   "source": [
    "df.head()"
   ]
  },
  {
   "cell_type": "code",
   "execution_count": 4,
   "metadata": {},
   "outputs": [],
   "source": [
    "df.reset_index(drop=True,inplace=True)"
   ]
  },
  {
   "cell_type": "code",
   "execution_count": 5,
   "metadata": {},
   "outputs": [],
   "source": [
    "df = df.drop(['character_count', 'word_count'], axis=1)"
   ]
  },
  {
   "cell_type": "code",
   "execution_count": 6,
   "metadata": {},
   "outputs": [
    {
     "name": "stdout",
     "output_type": "stream",
     "text": [
      "<class 'pandas.core.frame.DataFrame'>\n",
      "RangeIndex: 6252 entries, 0 to 6251\n",
      "Data columns (total 3 columns):\n",
      " #   Column  Non-Null Count  Dtype \n",
      "---  ------  --------------  ----- \n",
      " 0   artist  6252 non-null   object\n",
      " 1   title   6252 non-null   object\n",
      " 2   lyrics  6252 non-null   object\n",
      "dtypes: object(3)\n",
      "memory usage: 146.7+ KB\n"
     ]
    }
   ],
   "source": [
    "df.info()"
   ]
  },
  {
   "cell_type": "code",
   "execution_count": 7,
   "metadata": {},
   "outputs": [
    {
     "data": {
      "text/html": [
       "<div>\n",
       "<style scoped>\n",
       "    .dataframe tbody tr th:only-of-type {\n",
       "        vertical-align: middle;\n",
       "    }\n",
       "\n",
       "    .dataframe tbody tr th {\n",
       "        vertical-align: top;\n",
       "    }\n",
       "\n",
       "    .dataframe thead th {\n",
       "        text-align: right;\n",
       "    }\n",
       "</style>\n",
       "<table border=\"1\" class=\"dataframe\">\n",
       "  <thead>\n",
       "    <tr style=\"text-align: right;\">\n",
       "      <th></th>\n",
       "      <th>artist</th>\n",
       "      <th>title</th>\n",
       "      <th>lyrics</th>\n",
       "    </tr>\n",
       "  </thead>\n",
       "  <tbody>\n",
       "    <tr>\n",
       "      <th>0</th>\n",
       "      <td>Drake</td>\n",
       "      <td>Toosie Slide</td>\n",
       "      <td>Black leather gloves, no sequins (Yeah, yeah, ...</td>\n",
       "    </tr>\n",
       "    <tr>\n",
       "      <th>1</th>\n",
       "      <td>Roddy Ricch</td>\n",
       "      <td>The Box</td>\n",
       "      <td>Pullin' out the coupe at the lot  Told 'em fuc...</td>\n",
       "    </tr>\n",
       "    <tr>\n",
       "      <th>2</th>\n",
       "      <td>Dua Lipa</td>\n",
       "      <td>Don't Start Now</td>\n",
       "      <td>If you don't wanna see me  Did a full 180, cra...</td>\n",
       "    </tr>\n",
       "    <tr>\n",
       "      <th>3</th>\n",
       "      <td>Doja Cat</td>\n",
       "      <td>Say So</td>\n",
       "      <td>Day and night til morning, keeping me in the m...</td>\n",
       "    </tr>\n",
       "    <tr>\n",
       "      <th>4</th>\n",
       "      <td>Post Malone</td>\n",
       "      <td>Circles</td>\n",
       "      <td>Hey, hey, hey, hey  Oh, oh, oh-oh  Oh, oh, oh-...</td>\n",
       "    </tr>\n",
       "  </tbody>\n",
       "</table>\n",
       "</div>"
      ],
      "text/plain": [
       "        artist            title  \\\n",
       "0        Drake     Toosie Slide   \n",
       "1  Roddy Ricch          The Box   \n",
       "2     Dua Lipa  Don't Start Now   \n",
       "3     Doja Cat           Say So   \n",
       "4  Post Malone          Circles   \n",
       "\n",
       "                                              lyrics  \n",
       "0  Black leather gloves, no sequins (Yeah, yeah, ...  \n",
       "1  Pullin' out the coupe at the lot  Told 'em fuc...  \n",
       "2  If you don't wanna see me  Did a full 180, cra...  \n",
       "3  Day and night til morning, keeping me in the m...  \n",
       "4  Hey, hey, hey, hey  Oh, oh, oh-oh  Oh, oh, oh-...  "
      ]
     },
     "execution_count": 7,
     "metadata": {},
     "output_type": "execute_result"
    }
   ],
   "source": [
    "df.head()"
   ]
  },
  {
   "cell_type": "code",
   "execution_count": 8,
   "metadata": {},
   "outputs": [
    {
     "data": {
      "text/html": [
       "<div>\n",
       "<style scoped>\n",
       "    .dataframe tbody tr th:only-of-type {\n",
       "        vertical-align: middle;\n",
       "    }\n",
       "\n",
       "    .dataframe tbody tr th {\n",
       "        vertical-align: top;\n",
       "    }\n",
       "\n",
       "    .dataframe thead th {\n",
       "        text-align: right;\n",
       "    }\n",
       "</style>\n",
       "<table border=\"1\" class=\"dataframe\">\n",
       "  <thead>\n",
       "    <tr style=\"text-align: right;\">\n",
       "      <th></th>\n",
       "      <th>artist</th>\n",
       "      <th>title</th>\n",
       "      <th>lyrics</th>\n",
       "    </tr>\n",
       "  </thead>\n",
       "  <tbody>\n",
       "    <tr>\n",
       "      <th>6247</th>\n",
       "      <td>Lost Boyz</td>\n",
       "      <td>Lifestyles Of The Rich And Shameless</td>\n",
       "      <td>&gt;Freaky Tahverses Mr. CheeksIntro:[Freaky Tah]...</td>\n",
       "    </tr>\n",
       "    <tr>\n",
       "      <th>6248</th>\n",
       "      <td>DJ Quik</td>\n",
       "      <td>Safe + Sound</td>\n",
       "      <td>~Static~ \"Quik you're not a gangster we're not...</td>\n",
       "    </tr>\n",
       "    <tr>\n",
       "      <th>6249</th>\n",
       "      <td>Ty Herndon</td>\n",
       "      <td>What Mattered Most</td>\n",
       "      <td>I thought I knew the girl so well  If she was ...</td>\n",
       "    </tr>\n",
       "    <tr>\n",
       "      <th>6250</th>\n",
       "      <td>Madonna</td>\n",
       "      <td>Bedtime Story</td>\n",
       "      <td>Today  Is the last day  That I'm using words  ...</td>\n",
       "    </tr>\n",
       "    <tr>\n",
       "      <th>6251</th>\n",
       "      <td>Livin' Joy</td>\n",
       "      <td>Dreamer</td>\n",
       "      <td>Love, life and laughter  Is all I beleive.  My...</td>\n",
       "    </tr>\n",
       "  </tbody>\n",
       "</table>\n",
       "</div>"
      ],
      "text/plain": [
       "          artist                                 title  \\\n",
       "6247   Lost Boyz  Lifestyles Of The Rich And Shameless   \n",
       "6248     DJ Quik                          Safe + Sound   \n",
       "6249  Ty Herndon                    What Mattered Most   \n",
       "6250     Madonna                         Bedtime Story   \n",
       "6251  Livin' Joy                               Dreamer   \n",
       "\n",
       "                                                 lyrics  \n",
       "6247  >Freaky Tahverses Mr. CheeksIntro:[Freaky Tah]...  \n",
       "6248  ~Static~ \"Quik you're not a gangster we're not...  \n",
       "6249  I thought I knew the girl so well  If she was ...  \n",
       "6250  Today  Is the last day  That I'm using words  ...  \n",
       "6251  Love, life and laughter  Is all I beleive.  My...  "
      ]
     },
     "execution_count": 8,
     "metadata": {},
     "output_type": "execute_result"
    }
   ],
   "source": [
    "df.tail()"
   ]
  },
  {
   "cell_type": "code",
   "execution_count": 9,
   "metadata": {},
   "outputs": [],
   "source": [
    "punctuations = string.punctuation\n",
    "nlp = spacy.load('en_core_web_sm')\n",
    "stop_words = spacy.lang.en.stop_words.STOP_WORDS\n",
    "parser = English()\n",
    "\n",
    "\n",
    "def remove_bracketed(song):\n",
    "    text = re.sub(\"\\[.*?\\]\", '', song)\n",
    "    text = re.sub(\"\\(.*?\\)\", '', text)\n",
    "    text = re.sub(\"\\{.*?\\}\", '', text)\n",
    "    \n",
    "    return text\n",
    "\n",
    "\n",
    "def spacy_tokenizer(text, use_stopwords=True, custom_stopwords=set()):\n",
    "    text = remove_bracketed(text)\n",
    "    mytokens = parser(text)\n",
    "    mytokens = [word.lemma_.lower().strip() if word.lemma_ != \"-PRON-\" else \"-PRON-\" for word in mytokens ]\n",
    "#     mytokens = [word.lemma_.lower().strip() if word.lemma_ != \"-PRON-\" else word.lower_ for word in mytokens ]\n",
    "    if use_stopwords:\n",
    "        mytokens = [word for word in mytokens if word not in (stop_words | custom_stopwords) and word not in punctuations ]\n",
    "    else:\n",
    "        mytokens = [word for word in mytokens if word not in punctuations ]\n",
    "\n",
    "    return mytokens\n",
    "\n",
    "\n",
    "def tokenize_column(dataframe, column_name, use_stopwords=True, custom_stopwords=set()):\n",
    "    df_ = dataframe.reset_index(drop=True)\n",
    "    token_list = []\n",
    "    for song in df_[column_name]:\n",
    "        token_list.append(spacy_tokenizer(song, use_stopwords, custom_stopwords))\n",
    "    \n",
    "    return token_list\n",
    "\n"
   ]
  },
  {
   "cell_type": "code",
   "execution_count": 10,
   "metadata": {},
   "outputs": [],
   "source": [
    "lyric_stopwords = set(['hey', 'baby', 'babe', 'woo', 'ha', 'like', 'oh', 'ooh', 'woah', 'yeah'])\n",
    "df['lyrics_tokens'] = tokenize_column(df, 'lyrics', use_stopwords=True, custom_stopwords=lyric_stopwords)"
   ]
  },
  {
   "cell_type": "code",
   "execution_count": 11,
   "metadata": {},
   "outputs": [
    {
     "data": {
      "text/html": [
       "<div>\n",
       "<style scoped>\n",
       "    .dataframe tbody tr th:only-of-type {\n",
       "        vertical-align: middle;\n",
       "    }\n",
       "\n",
       "    .dataframe tbody tr th {\n",
       "        vertical-align: top;\n",
       "    }\n",
       "\n",
       "    .dataframe thead th {\n",
       "        text-align: right;\n",
       "    }\n",
       "</style>\n",
       "<table border=\"1\" class=\"dataframe\">\n",
       "  <thead>\n",
       "    <tr style=\"text-align: right;\">\n",
       "      <th></th>\n",
       "      <th>artist</th>\n",
       "      <th>title</th>\n",
       "      <th>lyrics</th>\n",
       "      <th>lyrics_tokens</th>\n",
       "    </tr>\n",
       "  </thead>\n",
       "  <tbody>\n",
       "    <tr>\n",
       "      <th>0</th>\n",
       "      <td>Drake</td>\n",
       "      <td>Toosie Slide</td>\n",
       "      <td>Black leather gloves, no sequins (Yeah, yeah, ...</td>\n",
       "      <td>[black, leather, glove, sequin, buckles, jacke...</td>\n",
       "    </tr>\n",
       "    <tr>\n",
       "      <th>1</th>\n",
       "      <td>Roddy Ricch</td>\n",
       "      <td>The Box</td>\n",
       "      <td>Pullin' out the coupe at the lot  Told 'em fuc...</td>\n",
       "      <td>[pullin, coupe, lot, told, -PRON-, fuck, 12, f...</td>\n",
       "    </tr>\n",
       "    <tr>\n",
       "      <th>2</th>\n",
       "      <td>Dua Lipa</td>\n",
       "      <td>Don't Start Now</td>\n",
       "      <td>If you don't wanna see me  Did a full 180, cra...</td>\n",
       "      <td>[wanna, 180, crazy, thinking, way, heartbreak,...</td>\n",
       "    </tr>\n",
       "    <tr>\n",
       "      <th>3</th>\n",
       "      <td>Doja Cat</td>\n",
       "      <td>Say So</td>\n",
       "      <td>Day and night til morning, keeping me in the m...</td>\n",
       "      <td>[day, night, til, morning, moment, -PRON-, let...</td>\n",
       "    </tr>\n",
       "    <tr>\n",
       "      <th>4</th>\n",
       "      <td>Post Malone</td>\n",
       "      <td>Circles</td>\n",
       "      <td>Hey, hey, hey, hey  Oh, oh, oh-oh  Oh, oh, oh-...</td>\n",
       "      <td>[turn, til, upside, -PRON-, bad, guy, proud, t...</td>\n",
       "    </tr>\n",
       "    <tr>\n",
       "      <th>5</th>\n",
       "      <td>Justin Bieber Featuring Quavo</td>\n",
       "      <td>Intentions</td>\n",
       "      <td>Picture perfect, you don't need no filter  Gor...</td>\n",
       "      <td>[picture, perfect, need, filter, gorgeous, -PR...</td>\n",
       "    </tr>\n",
       "    <tr>\n",
       "      <th>6</th>\n",
       "      <td>DaBaby Featuring Roddy Ricch</td>\n",
       "      <td>ROCKSTAR</td>\n",
       "      <td>Woo, woo  I pull up like  How you pull up, Bab...</td>\n",
       "      <td>[pull, pull, pull, pull, pull, let, -PRON-, br...</td>\n",
       "    </tr>\n",
       "    <tr>\n",
       "      <th>7</th>\n",
       "      <td>Future Featuring Drake</td>\n",
       "      <td>Life Is Good</td>\n",
       "      <td>Workin' on the weekend like usual  Way off in ...</td>\n",
       "      <td>[workin, weekend, usual, way, deep, end, usual...</td>\n",
       "    </tr>\n",
       "    <tr>\n",
       "      <th>8</th>\n",
       "      <td>Billie Eilish</td>\n",
       "      <td>everything i wanted</td>\n",
       "      <td>I had a dream  I got everything I wanted  Not ...</td>\n",
       "      <td>[dream, want, -PRON-, think, -PRON-, bein, hon...</td>\n",
       "    </tr>\n",
       "    <tr>\n",
       "      <th>9</th>\n",
       "      <td>Camila Cabello Featuring DaBaby</td>\n",
       "      <td>My Oh My</td>\n",
       "      <td>Ha, ha, ha, ha  They say he likes a good time ...</td>\n",
       "      <td>[good, time, come, alive, midnight, mama, trus...</td>\n",
       "    </tr>\n",
       "  </tbody>\n",
       "</table>\n",
       "</div>"
      ],
      "text/plain": [
       "                            artist                title  \\\n",
       "0                            Drake         Toosie Slide   \n",
       "1                      Roddy Ricch              The Box   \n",
       "2                         Dua Lipa      Don't Start Now   \n",
       "3                         Doja Cat               Say So   \n",
       "4                      Post Malone              Circles   \n",
       "5    Justin Bieber Featuring Quavo           Intentions   \n",
       "6     DaBaby Featuring Roddy Ricch             ROCKSTAR   \n",
       "7           Future Featuring Drake         Life Is Good   \n",
       "8                    Billie Eilish  everything i wanted   \n",
       "9  Camila Cabello Featuring DaBaby             My Oh My   \n",
       "\n",
       "                                              lyrics  \\\n",
       "0  Black leather gloves, no sequins (Yeah, yeah, ...   \n",
       "1  Pullin' out the coupe at the lot  Told 'em fuc...   \n",
       "2  If you don't wanna see me  Did a full 180, cra...   \n",
       "3  Day and night til morning, keeping me in the m...   \n",
       "4  Hey, hey, hey, hey  Oh, oh, oh-oh  Oh, oh, oh-...   \n",
       "5  Picture perfect, you don't need no filter  Gor...   \n",
       "6  Woo, woo  I pull up like  How you pull up, Bab...   \n",
       "7  Workin' on the weekend like usual  Way off in ...   \n",
       "8  I had a dream  I got everything I wanted  Not ...   \n",
       "9  Ha, ha, ha, ha  They say he likes a good time ...   \n",
       "\n",
       "                                       lyrics_tokens  \n",
       "0  [black, leather, glove, sequin, buckles, jacke...  \n",
       "1  [pullin, coupe, lot, told, -PRON-, fuck, 12, f...  \n",
       "2  [wanna, 180, crazy, thinking, way, heartbreak,...  \n",
       "3  [day, night, til, morning, moment, -PRON-, let...  \n",
       "4  [turn, til, upside, -PRON-, bad, guy, proud, t...  \n",
       "5  [picture, perfect, need, filter, gorgeous, -PR...  \n",
       "6  [pull, pull, pull, pull, pull, let, -PRON-, br...  \n",
       "7  [workin, weekend, usual, way, deep, end, usual...  \n",
       "8  [dream, want, -PRON-, think, -PRON-, bein, hon...  \n",
       "9  [good, time, come, alive, midnight, mama, trus...  "
      ]
     },
     "execution_count": 11,
     "metadata": {},
     "output_type": "execute_result"
    }
   ],
   "source": [
    "df.head(10)"
   ]
  },
  {
   "cell_type": "code",
   "execution_count": 12,
   "metadata": {},
   "outputs": [],
   "source": [
    "idx = np.random.randint(0, 6252)"
   ]
  },
  {
   "cell_type": "code",
   "execution_count": 13,
   "metadata": {},
   "outputs": [
    {
     "name": "stdout",
     "output_type": "stream",
     "text": [
      "Justin Timberlake  -  Not A Bad Thing \n",
      "\n",
      "-----\n",
      "\n",
      " Said all I want from you is to see you tomorrow  And every tomorrow, maybe you'll let me borrow your heart  And is it too much to ask for every Sunday   If I were radical and every other day to start  I know people make promises all the time  Then they turn right around and break them  When someone cuts your heart open with a knife, while you beating  But I could be that guy to heal it over time  And I won't stop until you believe it  Cause baby you're worth it    So don't act like it's a bad thing to fall in love with me  Cause you might fuck around and find your dreams come true, with me  Spend all that time and money just find out my love was free  So don't act like it's a bad thing to fall in love with me, me  It's not a bad thing to fall in love with me, me    Now how about I'd be the last voice you hear at night?  And every other night for the rest of the nights that there are  Every morning I just wanna see you staring back at me  'Cause I know that's a good place to start    I know people make promises all the time  Then they turn right around and break them  When someone cuts your heart open with a knife, while you beating  But I could be that guy to heal it over time  And I won't stop until you believe it  Cause baby you're worth it    So don't act like it's a bad thing to fall in love with me  Cause you might fuck around and find your dreams come true, with me  Spend all that time and money just find out my love was free  So don't act like it's a bad thing to fall in love with me, me  It's not a bad thing to fall in love with me, me  It's not a bad thing to fall in love with me, me  No such a bad thing to fall in love with me    No I won't feel your mind, broken promises, and waste of time  And if you fall, you'll always land right in these arms  These arms of mine    So don't act like it's a bad thing to fall in love with me  Cause you might fuck around and find your dreams come true, with me  Spend all that time and money just find out my love was free  So don't act like it's a bad thing to fall in love with me, me  It's not a bad thing to fall in love with me, me  Not such a bad thing to fall in love with me \n",
      "\n",
      "-----\n",
      "\n",
      " ['said', 'want', 'tomorrow', 'tomorrow', 'maybe', '-PRON-', 'let', 'borrow', 'heart', 'ask', 'sunday', 'radical', 'day', 'start', 'know', 'people', 'promise', 'time', 'turn', 'right', 'break', 'cut', 'heart', 'open', 'knife', 'beat', 'guy', 'heal', 'time', 'stop', 'believe', 'cause', '-PRON-', 'worth', 'act', '-PRON-', 'bad', 'thing', 'fall', 'love', 'cause', 'fuck', 'find', 'dream', 'come', 'true', 'spend', 'time', 'money', 'find', 'love', 'free', 'act', '-PRON-', 'bad', 'thing', 'fall', 'love', '-PRON-', 'bad', 'thing', 'fall', 'love', '-PRON-', 'voice', 'hear', 'night', 'night', 'rest', 'night', 'morning', 'wanna', 'stare', 'know', 'good', 'place', 'start', 'know', 'people', 'promise', 'time', 'turn', 'right', 'break', 'cut', 'heart', 'open', 'knife', 'beat', 'guy', 'heal', 'time', 'stop', 'believe', 'cause', '-PRON-', 'worth', 'act', '-PRON-', 'bad', 'thing', 'fall', 'love', 'cause', 'fuck', 'find', 'dream', 'come', 'true', 'spend', 'time', 'money', 'find', 'love', 'free', 'act', '-PRON-', 'bad', 'thing', 'fall', 'love', '-PRON-', 'bad', 'thing', 'fall', 'love', '-PRON-', 'bad', 'thing', 'fall', 'love', 'bad', 'thing', 'fall', 'love', 'feel', 'mind', 'break', 'promise', 'waste', 'time', 'fall', '-PRON-', 'land', 'right', 'arm', 'arm', 'act', '-PRON-', 'bad', 'thing', 'fall', 'love', 'cause', 'fuck', 'find', 'dream', 'come', 'true', 'spend', 'time', 'money', 'find', 'love', 'free', 'act', '-PRON-', 'bad', 'thing', 'fall', 'love', '-PRON-', 'bad', 'thing', 'fall', 'love', 'bad', 'thing', 'fall', 'love']\n"
     ]
    }
   ],
   "source": [
    "print(df.iloc[idx, 0], ' - ', df.iloc[idx, 1],'\\n\\n-----\\n\\n', df.iloc[idx, 2], '\\n\\n-----\\n\\n', df.iloc[idx, 3])"
   ]
  },
  {
   "cell_type": "code",
   "execution_count": 14,
   "metadata": {},
   "outputs": [],
   "source": [
    "barbra = df[df['artist'] == 'Duck Sauce']['lyrics'][2191]"
   ]
  },
  {
   "cell_type": "code",
   "execution_count": 15,
   "metadata": {},
   "outputs": [
    {
     "data": {
      "text/plain": [
       "'Barbra Streisand  Woowoowoowoowoowoowoowoowoowoowoowoowoowoowoowoowoowoow  Oowoowoowoowoowoowoowoowoowoowoowoowoowoowoowoowoowoowo   Owoowoowoowoowoo  Barbra Streisand    Woowoowoowoowoowoowoowoowoowoowoowoowoowoowoowoowoowoow  Oowoowoowoowoowoowoowoowoowoowoowoowoowoowoowoowoowoowo  Owoowoowoowoowoo    Barbra Streisand    Woowoowoowoowoowoowoowoowoowoowoowoowoowoowoowoowoowoow  Oowoowoowoowoowoowoowoowoowoowoowoowoowoowoowoowoowoowo  Owoowoowoowoowoo    Barbra Streisand    Woowoowoowoowoowoowoowoowoowoowoowoowoowoowoowoowoowoow  Oowoowoowoowoowoowoowoowoowoowoowoowoowoowoowoowoowoowo  Owoowoowoowoowoowoowoowoowoowoowoowoowoowoowoowoowoowoo  Woowoowoowoowoowoowoowoowoowoowoowoowoowoowoowoowoowoow  Oowoowoowoowoowoowoowoowoowoowoowoowoo    Barbra Streisand    Woowoowoowoowoowoowoowoowoowoowoowoowoowoowoowoowoowoow  Oowoowoowoowoowoowoowoowoowoowoowoowoowoowoowoowoowoowo  Owoowoowoowoowoo    Barbra Streisand    Wowowo wowowo wowowowoowoo  Woowoowoowoowoowoowoowoowoowoowoo wowowo wowowo  Wowowowoowoo woowoowoowoowoowoowoowoowoo    Barbra Streisand    Woowoowoowoowoowoowoowoowoowoowoowoowoowoowoowoowoowoow  Oowoowoowoowoowoowoowoowoowoowoowoowoowoowoowoowoowoowo  Owoowoowoowoowoo    Barbra Streisand    Barbra Streisand    (Merci à Hugo pour cettes paroles)'"
      ]
     },
     "execution_count": 15,
     "metadata": {},
     "output_type": "execute_result"
    }
   ],
   "source": [
    "barbra"
   ]
  },
  {
   "cell_type": "code",
   "execution_count": 16,
   "metadata": {},
   "outputs": [
    {
     "data": {
      "text/plain": [
       "{'(merci',\n",
       " 'barbra',\n",
       " 'cettes',\n",
       " 'hugo',\n",
       " 'o',\n",
       " 'oo',\n",
       " 'paroles)',\n",
       " 'pour',\n",
       " 'streisand',\n",
       " 'w',\n",
       " 'à'}"
      ]
     },
     "execution_count": 16,
     "metadata": {},
     "output_type": "execute_result"
    }
   ],
   "source": [
    "set((re.sub(\"woo*\", '', barbra.lower())).split())"
   ]
  },
  {
   "cell_type": "code",
   "execution_count": 17,
   "metadata": {},
   "outputs": [
    {
     "data": {
      "text/html": [
       "<div>\n",
       "<style scoped>\n",
       "    .dataframe tbody tr th:only-of-type {\n",
       "        vertical-align: middle;\n",
       "    }\n",
       "\n",
       "    .dataframe tbody tr th {\n",
       "        vertical-align: top;\n",
       "    }\n",
       "\n",
       "    .dataframe thead th {\n",
       "        text-align: right;\n",
       "    }\n",
       "</style>\n",
       "<table border=\"1\" class=\"dataframe\">\n",
       "  <thead>\n",
       "    <tr style=\"text-align: right;\">\n",
       "      <th></th>\n",
       "      <th>artist</th>\n",
       "      <th>title</th>\n",
       "      <th>lyrics</th>\n",
       "      <th>lyrics_tokens</th>\n",
       "    </tr>\n",
       "  </thead>\n",
       "  <tbody>\n",
       "    <tr>\n",
       "      <th>0</th>\n",
       "      <td>Drake</td>\n",
       "      <td>Toosie Slide</td>\n",
       "      <td>Black leather gloves, no sequins (Yeah, yeah, ...</td>\n",
       "      <td>[black, leather, glove, sequin, buckles, jacke...</td>\n",
       "    </tr>\n",
       "    <tr>\n",
       "      <th>1</th>\n",
       "      <td>Roddy Ricch</td>\n",
       "      <td>The Box</td>\n",
       "      <td>Pullin' out the coupe at the lot  Told 'em fuc...</td>\n",
       "      <td>[pullin, coupe, lot, told, -PRON-, fuck, 12, f...</td>\n",
       "    </tr>\n",
       "    <tr>\n",
       "      <th>2</th>\n",
       "      <td>Dua Lipa</td>\n",
       "      <td>Don't Start Now</td>\n",
       "      <td>If you don't wanna see me  Did a full 180, cra...</td>\n",
       "      <td>[wanna, 180, crazy, thinking, way, heartbreak,...</td>\n",
       "    </tr>\n",
       "    <tr>\n",
       "      <th>3</th>\n",
       "      <td>Doja Cat</td>\n",
       "      <td>Say So</td>\n",
       "      <td>Day and night til morning, keeping me in the m...</td>\n",
       "      <td>[day, night, til, morning, moment, -PRON-, let...</td>\n",
       "    </tr>\n",
       "    <tr>\n",
       "      <th>4</th>\n",
       "      <td>Post Malone</td>\n",
       "      <td>Circles</td>\n",
       "      <td>Hey, hey, hey, hey  Oh, oh, oh-oh  Oh, oh, oh-...</td>\n",
       "      <td>[turn, til, upside, -PRON-, bad, guy, proud, t...</td>\n",
       "    </tr>\n",
       "  </tbody>\n",
       "</table>\n",
       "</div>"
      ],
      "text/plain": [
       "        artist            title  \\\n",
       "0        Drake     Toosie Slide   \n",
       "1  Roddy Ricch          The Box   \n",
       "2     Dua Lipa  Don't Start Now   \n",
       "3     Doja Cat           Say So   \n",
       "4  Post Malone          Circles   \n",
       "\n",
       "                                              lyrics  \\\n",
       "0  Black leather gloves, no sequins (Yeah, yeah, ...   \n",
       "1  Pullin' out the coupe at the lot  Told 'em fuc...   \n",
       "2  If you don't wanna see me  Did a full 180, cra...   \n",
       "3  Day and night til morning, keeping me in the m...   \n",
       "4  Hey, hey, hey, hey  Oh, oh, oh-oh  Oh, oh, oh-...   \n",
       "\n",
       "                                       lyrics_tokens  \n",
       "0  [black, leather, glove, sequin, buckles, jacke...  \n",
       "1  [pullin, coupe, lot, told, -PRON-, fuck, 12, f...  \n",
       "2  [wanna, 180, crazy, thinking, way, heartbreak,...  \n",
       "3  [day, night, til, morning, moment, -PRON-, let...  \n",
       "4  [turn, til, upside, -PRON-, bad, guy, proud, t...  "
      ]
     },
     "execution_count": 17,
     "metadata": {},
     "output_type": "execute_result"
    }
   ],
   "source": [
    "df.head()"
   ]
  },
  {
   "cell_type": "code",
   "execution_count": 18,
   "metadata": {},
   "outputs": [
    {
     "data": {
      "text/plain": [
       "4"
      ]
     },
     "execution_count": 18,
     "metadata": {},
     "output_type": "execute_result"
    }
   ],
   "source": [
    "len(df.columns)"
   ]
  },
  {
   "cell_type": "code",
   "execution_count": 19,
   "metadata": {},
   "outputs": [],
   "source": [
    "df['word_count'] = 0\n",
    "df['unique_word_count'] = 0\n",
    "for idx, row in enumerate(df['lyrics']):\n",
    "    df.iloc[idx, len(df.columns)-2] = len(row.split())\n",
    "    df.iloc[idx, len(df.columns)-1] = len(set(row.split()))\n",
    "\n",
    "    \n",
    "df['token_count'] = 0\n",
    "df['unique_token_count'] = 0\n",
    "for idx, row in enumerate(df['lyrics_tokens']):\n",
    "    df.iloc[idx, len(df.columns)-2] = len(row)\n",
    "    df.iloc[idx, len(df.columns)-1] = len(set(row))"
   ]
  },
  {
   "cell_type": "code",
   "execution_count": 20,
   "metadata": {},
   "outputs": [
    {
     "data": {
      "text/html": [
       "<div>\n",
       "<style scoped>\n",
       "    .dataframe tbody tr th:only-of-type {\n",
       "        vertical-align: middle;\n",
       "    }\n",
       "\n",
       "    .dataframe tbody tr th {\n",
       "        vertical-align: top;\n",
       "    }\n",
       "\n",
       "    .dataframe thead th {\n",
       "        text-align: right;\n",
       "    }\n",
       "</style>\n",
       "<table border=\"1\" class=\"dataframe\">\n",
       "  <thead>\n",
       "    <tr style=\"text-align: right;\">\n",
       "      <th></th>\n",
       "      <th>artist</th>\n",
       "      <th>title</th>\n",
       "      <th>lyrics</th>\n",
       "      <th>lyrics_tokens</th>\n",
       "      <th>word_count</th>\n",
       "      <th>unique_word_count</th>\n",
       "      <th>token_count</th>\n",
       "      <th>unique_token_count</th>\n",
       "    </tr>\n",
       "  </thead>\n",
       "  <tbody>\n",
       "    <tr>\n",
       "      <th>0</th>\n",
       "      <td>Drake</td>\n",
       "      <td>Toosie Slide</td>\n",
       "      <td>Black leather gloves, no sequins (Yeah, yeah, ...</td>\n",
       "      <td>[black, leather, glove, sequin, buckles, jacke...</td>\n",
       "      <td>447</td>\n",
       "      <td>166</td>\n",
       "      <td>206</td>\n",
       "      <td>71</td>\n",
       "    </tr>\n",
       "    <tr>\n",
       "      <th>1</th>\n",
       "      <td>Roddy Ricch</td>\n",
       "      <td>The Box</td>\n",
       "      <td>Pullin' out the coupe at the lot  Told 'em fuc...</td>\n",
       "      <td>[pullin, coupe, lot, told, -PRON-, fuck, 12, f...</td>\n",
       "      <td>551</td>\n",
       "      <td>209</td>\n",
       "      <td>249</td>\n",
       "      <td>124</td>\n",
       "    </tr>\n",
       "    <tr>\n",
       "      <th>2</th>\n",
       "      <td>Dua Lipa</td>\n",
       "      <td>Don't Start Now</td>\n",
       "      <td>If you don't wanna see me  Did a full 180, cra...</td>\n",
       "      <td>[wanna, 180, crazy, thinking, way, heartbreak,...</td>\n",
       "      <td>304</td>\n",
       "      <td>100</td>\n",
       "      <td>87</td>\n",
       "      <td>31</td>\n",
       "    </tr>\n",
       "    <tr>\n",
       "      <th>3</th>\n",
       "      <td>Doja Cat</td>\n",
       "      <td>Say So</td>\n",
       "      <td>Day and night til morning, keeping me in the m...</td>\n",
       "      <td>[day, night, til, morning, moment, -PRON-, let...</td>\n",
       "      <td>446</td>\n",
       "      <td>164</td>\n",
       "      <td>135</td>\n",
       "      <td>74</td>\n",
       "    </tr>\n",
       "    <tr>\n",
       "      <th>4</th>\n",
       "      <td>Post Malone</td>\n",
       "      <td>Circles</td>\n",
       "      <td>Hey, hey, hey, hey  Oh, oh, oh-oh  Oh, oh, oh-...</td>\n",
       "      <td>[turn, til, upside, -PRON-, bad, guy, proud, t...</td>\n",
       "      <td>318</td>\n",
       "      <td>118</td>\n",
       "      <td>134</td>\n",
       "      <td>38</td>\n",
       "    </tr>\n",
       "  </tbody>\n",
       "</table>\n",
       "</div>"
      ],
      "text/plain": [
       "        artist            title  \\\n",
       "0        Drake     Toosie Slide   \n",
       "1  Roddy Ricch          The Box   \n",
       "2     Dua Lipa  Don't Start Now   \n",
       "3     Doja Cat           Say So   \n",
       "4  Post Malone          Circles   \n",
       "\n",
       "                                              lyrics  \\\n",
       "0  Black leather gloves, no sequins (Yeah, yeah, ...   \n",
       "1  Pullin' out the coupe at the lot  Told 'em fuc...   \n",
       "2  If you don't wanna see me  Did a full 180, cra...   \n",
       "3  Day and night til morning, keeping me in the m...   \n",
       "4  Hey, hey, hey, hey  Oh, oh, oh-oh  Oh, oh, oh-...   \n",
       "\n",
       "                                       lyrics_tokens  word_count  \\\n",
       "0  [black, leather, glove, sequin, buckles, jacke...         447   \n",
       "1  [pullin, coupe, lot, told, -PRON-, fuck, 12, f...         551   \n",
       "2  [wanna, 180, crazy, thinking, way, heartbreak,...         304   \n",
       "3  [day, night, til, morning, moment, -PRON-, let...         446   \n",
       "4  [turn, til, upside, -PRON-, bad, guy, proud, t...         318   \n",
       "\n",
       "   unique_word_count  token_count  unique_token_count  \n",
       "0                166          206                  71  \n",
       "1                209          249                 124  \n",
       "2                100           87                  31  \n",
       "3                164          135                  74  \n",
       "4                118          134                  38  "
      ]
     },
     "execution_count": 20,
     "metadata": {},
     "output_type": "execute_result"
    }
   ],
   "source": [
    "df.head()"
   ]
  },
  {
   "cell_type": "code",
   "execution_count": 21,
   "metadata": {},
   "outputs": [
    {
     "data": {
      "image/png": "[encoded data removed]",
      "text/plain": [
       "<Figure size 720x432 with 2 Axes>"
      ]
     },
     "metadata": {},
     "output_type": "display_data"
    }
   ],
   "source": [
    "fig, ax = plt.subplots(2, 1, figsize=(10, 6), sharex=True, sharey=True)\n",
    "ax[0].hist(df['word_count'], bins=100, label='Word Count', alpha=.25)\n",
    "ax[0].hist(df['token_count'], bins=100, label='Token Count', alpha=.25)\n",
    "ax[1].hist(df['unique_word_count'], bins=100, label='Unique Word Count', alpha=.25)\n",
    "ax[1].hist(df['unique_token_count'], bins=100, label='Unique Token Count', alpha=.25)\n",
    "ax[0].legend(loc='best')\n",
    "ax[1].legend(loc='best');"
   ]
  },
  {
   "cell_type": "code",
   "execution_count": 88,
   "metadata": {},
   "outputs": [
    {
     "data": {
      "text/plain": [
       "''"
      ]
     },
     "execution_count": 88,
     "metadata": {},
     "output_type": "execute_result"
    },
    {
     "data": {
      "image/png": "[encoded data removed]",
      "text/plain": [
       "<Figure size 432x432 with 1 Axes>"
      ]
     },
     "metadata": {},
     "output_type": "display_data"
    }
   ],
   "source": [
    "fig, ax = plt.subplots(figsize=(6, 6), sharex=True, sharey=True)\n",
    "ax.scatter(df['word_count'], df['unique_word_count'], alpha=0.5, s=6)\n",
    "# ax[1].scatter(df['token_count'], df['unique_token_count'], alpha=0.5, s=6)\n",
    "ax.set_xlabel('Word Count')\n",
    "# ax[1].set_xlabel('Token Count')\n",
    "ax.set_ylabel('Unique Word Count')\n",
    "# ax[1].set_ylabel('Unique Token Count')\n",
    "ax.set_title('Unique Words')\n",
    ";"
   ]
  },
  {
   "cell_type": "code",
   "execution_count": 23,
   "metadata": {},
   "outputs": [
    {
     "data": {
      "text/html": [
       "<div>\n",
       "<style scoped>\n",
       "    .dataframe tbody tr th:only-of-type {\n",
       "        vertical-align: middle;\n",
       "    }\n",
       "\n",
       "    .dataframe tbody tr th {\n",
       "        vertical-align: top;\n",
       "    }\n",
       "\n",
       "    .dataframe thead th {\n",
       "        text-align: right;\n",
       "    }\n",
       "</style>\n",
       "<table border=\"1\" class=\"dataframe\">\n",
       "  <thead>\n",
       "    <tr style=\"text-align: right;\">\n",
       "      <th></th>\n",
       "      <th>artist</th>\n",
       "      <th>title</th>\n",
       "      <th>lyrics</th>\n",
       "      <th>lyrics_tokens</th>\n",
       "      <th>word_count</th>\n",
       "      <th>unique_word_count</th>\n",
       "      <th>token_count</th>\n",
       "      <th>unique_token_count</th>\n",
       "    </tr>\n",
       "  </thead>\n",
       "  <tbody>\n",
       "    <tr>\n",
       "      <th>6147</th>\n",
       "      <td>Nicki French</td>\n",
       "      <td>Total Eclipse Of The Heart</td>\n",
       "      <td>Turnaround, Every now and then I get a little ...</td>\n",
       "      <td>[turnaround, little, bite, lonely, -PRON-, com...</td>\n",
       "      <td>1186</td>\n",
       "      <td>143</td>\n",
       "      <td>420</td>\n",
       "      <td>60</td>\n",
       "    </tr>\n",
       "  </tbody>\n",
       "</table>\n",
       "</div>"
      ],
      "text/plain": [
       "            artist                       title  \\\n",
       "6147  Nicki French  Total Eclipse Of The Heart   \n",
       "\n",
       "                                                 lyrics  \\\n",
       "6147  Turnaround, Every now and then I get a little ...   \n",
       "\n",
       "                                          lyrics_tokens  word_count  \\\n",
       "6147  [turnaround, little, bite, lonely, -PRON-, com...        1186   \n",
       "\n",
       "      unique_word_count  token_count  unique_token_count  \n",
       "6147                143          420                  60  "
      ]
     },
     "execution_count": 23,
     "metadata": {},
     "output_type": "execute_result"
    }
   ],
   "source": [
    "df[(df['word_count'] > 1100) & (df['unique_word_count'] < 200)]"
   ]
  },
  {
   "cell_type": "code",
   "execution_count": 24,
   "metadata": {},
   "outputs": [
    {
     "name": "stdout",
     "output_type": "stream",
     "text": [
      "0.1205733558178752\n"
     ]
    }
   ],
   "source": [
    "idx = df[(df['word_count'] > 1100) & (df['unique_word_count'] < 200)].index[0]\n",
    "wc = df.iloc[idx,:]['word_count']\n",
    "unique = df.iloc[idx,:]['unique_word_count']\n",
    "print(unique / wc)"
   ]
  },
  {
   "cell_type": "code",
   "execution_count": 25,
   "metadata": {
    "scrolled": true
   },
   "outputs": [
    {
     "data": {
      "text/plain": [
       "\"Turnaround, Every now and then I get a little bit lonely and you're never coming round  Turnaround, Every now and then I get a little bit tired of listening to the sound of my tears  Turnaround, Every now and then I get a little bit nervous that the best of all the years have gone by   Turnaround, Every now and then I get a little bit terrified and then I see the look in your eyes  Turnaround bright eyes, Every now and then I fall apart  Turnaround bright eyes, Every now and then I fall apart    Turnaround, Every now and then I get a little bit restless and I dream of something wild  Turnaround, Every now and then I get a little bit helpless and I'm lying like a child in your arms  Turnaround, Every now and then I get a little bit angry and I know I've got to get out and cry  Turnaround, Every now and then I get a little bit terrified but then I see the look in your eyes  Turnaround bright eyes, Every now and then I fall apart  Turnaround bright eyes, Every now and then I fall apart    And I need you now tonight  And I need you more than ever  And if you only hold me tight  We'll be holding on forever  And we'll only be making it right  Cause we'll never be wrong together  We can take it to the end of the line  Your love is like a shadow on me all of the time  I don't know what to do and I'm always in the dark  We're living in a powder keg and giving off sparks  I really need you tonight  Forever's gonna start tonight  Forever's gonna start tonight    Once upon a time I was falling in love  But now I'm only falling apart  There's nothing I can do  A total eclipse of the heart  Once upon a time there was light in my life  But now there's only love in the dark  Nothing I can say  A total eclipse of the heart    INSTRUMENTAL    Turnaround bright eyes  Turnaround bright eyes  Turnaround, Every now and then I know you'll never be the boy you always wanted to be  Turnaround, Every now then I know you'll always be the only boy who wanted me the way that I am  Turnaround, Every now and then I know there's no one in the universe as magical and wonderous as you  Turnaround, Every now and then I know there's nothing any better and there's nothing that I just wouldn't do  Turnaround bright eyes, Every now and then I fall apart  Turnaround bright eyes, Every now and then I fall apart    And I need you now tonight  And I need you more than ever  And if you'll only hold me tight  We'll be holding on forever  And we'll only be making it right  Cause we'll never be wrong together  We can take it to the end of the line  Your love is like a shadow on me all of the time  I don't know what to do and I'm always in the dark  We're living in a powder keg and giving off sparks  I really need you tonight  Forever's gonna start tonight  Forever's gonna start tonight    Once upon a time I was falling in love  But now I'm only falling apart  Nothing I can do  A total eclipse of the heart  Once upon a time there was light in my life  But now there's only love in the dark  Nothing I can say  A total eclipse of the heart  Turnaround, Every now and then I get a little bit lonely and you're never coming round  Turnaround, Every now and then I get a little bit tired of listening to the sound of my tears  Turnaround, Every now and then I get a little bit nervous that the best of all the years have gone by  Turnaround, Every now and then I get a little bit terrified and then I see the look in your eyes  Turnaround bright eyes, Every now and then I fall apart  Turnaround bright eyes, Every now and then I fall apart    Turnaround, Every now and then I get a little bit restless and I dream of something wild  Turnaround, Every now and then I get a little bit helpless and I'm lying like a child in your arms  Turnaround, Every now and then I get a little bit angry and I know I've got to get out and cry  Turnaround, Every now and then I get a little bit terrified but then I see the look in your eyes  Turnaround bright eyes, Every now and then I fall apart  Turnaround bright eyes, Every now and then I fall apart    And I need you now tonight  And I need you more than ever  And if you only hold me tight  We'll be holding on forever  And we'll only be making it right  Cause we'll never be wrong together  We can take it to the end of the line  Your love is like a shadow on me all of the time  I don't know what to do and I'm always in the dark  We're living in a powder keg and giving off sparks  I really need you tonight  Forever's gonna start tonight  Forever's gonna start tonight    Once upon a time I was falling in love  But now I'm only falling apart  There's nothing I can do  A total eclipse of the heart  Once upon a time there was light in my life  But now there's only love in the dark  Nothing I can say  A total eclipse of the heart    INSTRUMENTAL    Turnaround bright eyes  Turnaround bright eyes  Turnaround, Every now and then I know you'll never be the boy you always wanted to be  Turnaround, Every now then I know you'll always be the only boy who wanted me the way that I am  Turnaround, Every now and then I know there's no one in the universe as magical and wonderous as you  Turnaround, Every now and then I know there's nothing any better and there's nothing that I just wouldn't do  Turnaround bright eyes, Every now and then I fall apart  Turnaround bright eyes, Every now and then I fall apart    And I need you now tonight  And I need you more than ever  And if you'll only hold me tight  We'll be holding on forever  And we'll only be making it right  Cause we'll never be wrong together  We can take it to the end of the line  Your love is like a shadow on me all of the time  I don't know what to do and I'm always in the dark  We're living in a powder keg and giving off sparks  I really need you tonight  Forever's gonna start tonight  Forever's gonna start tonight    Once upon a time I was falling in love  But now I'm only falling apart  Nothing I can do  A total eclipse of the heart  Once upon a time there was light in my life  But now there's only love in the dark  Nothing I can say  A total eclipse of the heart\""
      ]
     },
     "execution_count": 25,
     "metadata": {},
     "output_type": "execute_result"
    }
   ],
   "source": [
    "df.iloc[idx,:]['lyrics']"
   ]
  },
  {
   "cell_type": "code",
   "execution_count": 26,
   "metadata": {},
   "outputs": [
    {
     "data": {
      "text/html": [
       "<div>\n",
       "<style scoped>\n",
       "    .dataframe tbody tr th:only-of-type {\n",
       "        vertical-align: middle;\n",
       "    }\n",
       "\n",
       "    .dataframe tbody tr th {\n",
       "        vertical-align: top;\n",
       "    }\n",
       "\n",
       "    .dataframe thead th {\n",
       "        text-align: right;\n",
       "    }\n",
       "</style>\n",
       "<table border=\"1\" class=\"dataframe\">\n",
       "  <thead>\n",
       "    <tr style=\"text-align: right;\">\n",
       "      <th></th>\n",
       "      <th>artist</th>\n",
       "      <th>title</th>\n",
       "      <th>lyrics</th>\n",
       "      <th>lyrics_tokens</th>\n",
       "      <th>word_count</th>\n",
       "      <th>unique_word_count</th>\n",
       "      <th>token_count</th>\n",
       "      <th>unique_token_count</th>\n",
       "    </tr>\n",
       "  </thead>\n",
       "  <tbody>\n",
       "    <tr>\n",
       "      <th>6127</th>\n",
       "      <td>Kool G Rap</td>\n",
       "      <td>Fast Life</td>\n",
       "      <td>(feat. Nas)  The time has come, we gotta expan...</td>\n",
       "      <td>[time, come, expand, operation, distribution, ...</td>\n",
       "      <td>732</td>\n",
       "      <td>477</td>\n",
       "      <td>376</td>\n",
       "      <td>316</td>\n",
       "    </tr>\n",
       "  </tbody>\n",
       "</table>\n",
       "</div>"
      ],
      "text/plain": [
       "          artist      title  \\\n",
       "6127  Kool G Rap  Fast Life   \n",
       "\n",
       "                                                 lyrics  \\\n",
       "6127  (feat. Nas)  The time has come, we gotta expan...   \n",
       "\n",
       "                                          lyrics_tokens  word_count  \\\n",
       "6127  [time, come, expand, operation, distribution, ...         732   \n",
       "\n",
       "      unique_word_count  token_count  unique_token_count  \n",
       "6127                477          376                 316  "
      ]
     },
     "execution_count": 26,
     "metadata": {},
     "output_type": "execute_result"
    }
   ],
   "source": [
    "df[(df['word_count'] < 750) & (df['unique_word_count'] > 450)]"
   ]
  },
  {
   "cell_type": "code",
   "execution_count": 27,
   "metadata": {},
   "outputs": [
    {
     "name": "stdout",
     "output_type": "stream",
     "text": [
      "0.6516393442622951\n"
     ]
    }
   ],
   "source": [
    "idx = df[(df['word_count'] < 750) & (df['unique_word_count'] > 450)].index[0]\n",
    "wc = df.iloc[idx,:]['word_count']\n",
    "unique = df.iloc[idx,:]['unique_word_count']\n",
    "print(unique / wc)"
   ]
  },
  {
   "cell_type": "code",
   "execution_count": 28,
   "metadata": {
    "scrolled": true
   },
   "outputs": [
    {
     "data": {
      "text/plain": [
       "'(feat. Nas)  The time has come, we gotta expand, the whole operation   Distribution, New York, to Chicago, L.A.  We gotta set our own market, and enforce it  [Verse One: Kool G Rap]    Champagne wishes of caviar dreams ?a penis didn\\'t cream?  With sales of fish scales from triple beams I gleam  Livin the live of rowdy packin fifty cali\\'s  Rockin lizard Bally\\'s while we do our drug deal in a dark alley  Up in casinos just me and my dino primo  Pushin beam-o\\'s then parlay in Reno with two fly latinos  Nas, he runs the whole staff, we count mad for seen bad  We\\'ve seen a half a milli dashin out there on the Queens half  Three major players gettin papers by the layers  And those that portray us on the block get rocked like Domateus  Fakers get used to shootin targets, soon as the dark hits  Front on the drug market, bodies get rolled up in a carpet  Those that cheat us try to beat us we got hookers with heaters  that\\'ll stray pop and put more shells in your top than Adidas  Da leaders, lookin straight crimy in our Giorgio Armani\\'s  You wanna harm me and Nas you gots ta come get through a whole army  The celo rollers money folders sippin bola holdin mad payola  Slangin a Coke without the Cola  Me and black don\\'t fake jacks but we might sling one  It ain\\'t no shame in our game we do our thing son    [Chorus]    Livin the fast life, in fast cars  Everywhere we go, people know who we are  A team from out of Queens with the american dream  So we\\'re plottin up a scheme to get the seven figure cream  [x2]    [Verse Two: Nas Escobar]    Yo I got, guns from Italy, smoke trees, considerably  Mid-state and Green it seems, is where all my niggaz be  The ghetto misery, shootouts and liquor stores  A perpendicular, angle of the clout war  Police searchin up my Lex over who\\'s petrol  My tech blows straight off the roof and tests yo\\' respect though  But dough don\\'t respect me, it got me handcuffed  The rough life, I just be up nights, breathin with scuffed Nike\\'s  Pour my beers for my peoples under the stairs  These years I got they names in my swears  Poppin Cristal like it\\'s my first child, lickin shots, holiday style  Rockin Steele sweaters, Wallaby down  Twenty-four carats, countin cabbage, like the arabs  The marriage of me and the mic is just like magic  Elegant performance, bubble Lex full insurance  Guzzlin Guinness shootin catchin cases concurrent  It\\'s Nas, seven hundred wives, King Solomon size  We on the rise, me and G, ghetto wise guys  The luciano Frankie Aiel, Bugsy Seagal  Green papers with eagles from a tray that\\'s illegal    [singer]  Brother you\\'ve got to make it happen  Yeahhhahhyeahhh, get this money, yeahhh  Brother you\\'ve got to make it happen  When you\\'re living in the fast life, heyy yeah yeah    [Verse Three: G Rap, Nas]    [Rap] Aiyyo my lifestyle\\'s exquisite, yayo like a blizzard  [Nas] It\\'s choir attire standin on ground with one pivot  [Rap] Two players rockin silk blazers and diamonds like glaciers  [Nas] Lands with namebrand seats reclinin like in spaceships  [Rap] Bodies on ice  [Nas] Livin trife, rollin fixed up dice  [Rap] Gamblin Grants  [Nas] Handlin stamps  [duo] Moves are sheist  [Nas] My bankrolls, got the cops comin in plain clothes  [Rap] Tryin to arraign again cause of our fame that\\'s how the game goes  [Nas] True  [Rap] Right out the slammer with the fame and glamour  Cookin up grams with Arm & Hammer supplyin scramblers in Alabama  [Nas] Rub out faces and leave no traces  My aces got mad body cases, preserve spaces at the horse races  Servin us Dom P my cliquo  Dimes with magnifico, puttin in cut inside ?perico?  Heat for foes, shoppin sprees with my fleet for clothes  in Carribean suites, deep, rippin beats with flows  [Rap] Aiyyo, we went from standin on blocks, without some socks  sellin rocks, to pickin up stock and boat docks with glocks  and got poppy seed fields with million dollar bills  Packin all the blue steel we keeps it real inside the battlefield  [Nas] Yeah so here\\'s a toast to the funds and things  Gun smokes in rings, graveyards is buried with kings    [Chorus]    [singer does same part again with variations to fade, mostly \"I\" for \"you\"]'"
      ]
     },
     "execution_count": 28,
     "metadata": {},
     "output_type": "execute_result"
    }
   ],
   "source": [
    "df.iloc[idx,:]['lyrics']"
   ]
  },
  {
   "cell_type": "code",
   "execution_count": 29,
   "metadata": {},
   "outputs": [
    {
     "data": {
      "text/html": [
       "<div>\n",
       "<style scoped>\n",
       "    .dataframe tbody tr th:only-of-type {\n",
       "        vertical-align: middle;\n",
       "    }\n",
       "\n",
       "    .dataframe tbody tr th {\n",
       "        vertical-align: top;\n",
       "    }\n",
       "\n",
       "    .dataframe thead th {\n",
       "        text-align: right;\n",
       "    }\n",
       "</style>\n",
       "<table border=\"1\" class=\"dataframe\">\n",
       "  <thead>\n",
       "    <tr style=\"text-align: right;\">\n",
       "      <th></th>\n",
       "      <th>artist</th>\n",
       "      <th>title</th>\n",
       "      <th>lyrics</th>\n",
       "      <th>lyrics_tokens</th>\n",
       "      <th>word_count</th>\n",
       "      <th>unique_word_count</th>\n",
       "      <th>token_count</th>\n",
       "      <th>unique_token_count</th>\n",
       "    </tr>\n",
       "  </thead>\n",
       "  <tbody>\n",
       "    <tr>\n",
       "      <th>1520</th>\n",
       "      <td>Eminem</td>\n",
       "      <td>Rap God</td>\n",
       "      <td>Look, I was gonna go easy on you not to hurt y...</td>\n",
       "      <td>[look, easy, hurt, feeling, -PRON-, chance, wr...</td>\n",
       "      <td>1539</td>\n",
       "      <td>722</td>\n",
       "      <td>689</td>\n",
       "      <td>435</td>\n",
       "    </tr>\n",
       "  </tbody>\n",
       "</table>\n",
       "</div>"
      ],
      "text/plain": [
       "      artist    title                                             lyrics  \\\n",
       "1520  Eminem  Rap God  Look, I was gonna go easy on you not to hurt y...   \n",
       "\n",
       "                                          lyrics_tokens  word_count  \\\n",
       "1520  [look, easy, hurt, feeling, -PRON-, chance, wr...        1539   \n",
       "\n",
       "      unique_word_count  token_count  unique_token_count  \n",
       "1520                722          689                 435  "
      ]
     },
     "execution_count": 29,
     "metadata": {},
     "output_type": "execute_result"
    }
   ],
   "source": [
    "df[df['title'] == 'Rap God']"
   ]
  },
  {
   "cell_type": "code",
   "execution_count": 30,
   "metadata": {},
   "outputs": [
    {
     "name": "stdout",
     "output_type": "stream",
     "text": [
      "0.4691358024691358\n"
     ]
    }
   ],
   "source": [
    "wc = df[df['title'] == 'Rap God']['word_count'][1520]\n",
    "unique = df[df['title'] == 'Rap God']['unique_word_count'][1520]\n",
    "print(unique / wc)"
   ]
  },
  {
   "cell_type": "code",
   "execution_count": 31,
   "metadata": {},
   "outputs": [
    {
     "data": {
      "text/html": [
       "<div>\n",
       "<style scoped>\n",
       "    .dataframe tbody tr th:only-of-type {\n",
       "        vertical-align: middle;\n",
       "    }\n",
       "\n",
       "    .dataframe tbody tr th {\n",
       "        vertical-align: top;\n",
       "    }\n",
       "\n",
       "    .dataframe thead th {\n",
       "        text-align: right;\n",
       "    }\n",
       "</style>\n",
       "<table border=\"1\" class=\"dataframe\">\n",
       "  <thead>\n",
       "    <tr style=\"text-align: right;\">\n",
       "      <th></th>\n",
       "      <th>artist</th>\n",
       "      <th>title</th>\n",
       "      <th>lyrics</th>\n",
       "      <th>lyrics_tokens</th>\n",
       "      <th>word_count</th>\n",
       "      <th>unique_word_count</th>\n",
       "      <th>token_count</th>\n",
       "      <th>unique_token_count</th>\n",
       "    </tr>\n",
       "  </thead>\n",
       "  <tbody>\n",
       "    <tr>\n",
       "      <th>1520</th>\n",
       "      <td>Eminem</td>\n",
       "      <td>Rap God</td>\n",
       "      <td>Look, I was gonna go easy on you not to hurt y...</td>\n",
       "      <td>[look, easy, hurt, feeling, -PRON-, chance, wr...</td>\n",
       "      <td>1539</td>\n",
       "      <td>722</td>\n",
       "      <td>689</td>\n",
       "      <td>435</td>\n",
       "    </tr>\n",
       "  </tbody>\n",
       "</table>\n",
       "</div>"
      ],
      "text/plain": [
       "      artist    title                                             lyrics  \\\n",
       "1520  Eminem  Rap God  Look, I was gonna go easy on you not to hurt y...   \n",
       "\n",
       "                                          lyrics_tokens  word_count  \\\n",
       "1520  [look, easy, hurt, feeling, -PRON-, chance, wr...        1539   \n",
       "\n",
       "      unique_word_count  token_count  unique_token_count  \n",
       "1520                722          689                 435  "
      ]
     },
     "execution_count": 31,
     "metadata": {},
     "output_type": "execute_result"
    }
   ],
   "source": [
    "df[(df['token_count'] > 600) & (df['unique_token_count'] >400)]"
   ]
  },
  {
   "cell_type": "code",
   "execution_count": null,
   "metadata": {},
   "outputs": [],
   "source": []
  },
  {
   "cell_type": "code",
   "execution_count": 32,
   "metadata": {},
   "outputs": [],
   "source": [
    "def tf(term, document_tokens):\n",
    "    term_occ = document_tokens.count(term)\n",
    "    total_tokens = len(document_tokens)\n",
    "    return term_occ / total_tokens\n",
    "\n",
    "\n",
    "\n",
    "def get_tf(document_tokens):\n",
    "    term_freqs = {}\n",
    "    for token in document_tokens:\n",
    "        if token not in term_freqs:\n",
    "            term_freqs[token] = tf(token, document_tokens)\n",
    "    return term_freqs\n",
    "    \n",
    "\n",
    "def get_idf_dict(corpus):\n",
    "    occ_dict = {}\n",
    "    for doc in corpus:\n",
    "        for token in doc:\n",
    "            if token not in occ_dict:\n",
    "                occ_dict[token] = 1\n",
    "            else:\n",
    "                occ_dict[token] += 1\n",
    "    return occ_dict\n",
    "\n",
    "def get_doc_freq_dict(corpus):\n",
    "    doc_occs = Counter([word for row in corpus for word in set(row)])\n",
    "    doc_freq = {k: (v / float(len(corpus))) for k, v in doc_occs.items()}\n",
    "    return doc_freq\n",
    "\n",
    "\n",
    "def vectorize_tokens(pandas_series):\n",
    "    docs = pandas_series.to_numpy()\n",
    "    doc_freq = get_doc_freq_dict(working_df['lyrics_tokens'])\n",
    "    vocabulary = [k for k,v in doc_freq.items()]\n",
    "    vectors = np.zeros((len(docs),len(vocabulary)))\n",
    "\n",
    "    for i in range(len(docs)):\n",
    "        for j in range(len(vocabulary)):\n",
    "            term     = vocabulary[j]\n",
    "            term_tf  = tf(term, docs[i])   # 0.0 if term not found in doc\n",
    "            term_idf = np.log(1 + (1 / doc_freq[term])) # smooth formula\n",
    "            vectors[i,j] = term_tf * term_idf\n",
    "    return vectors, vocabulary\n",
    "\n"
   ]
  },
  {
   "cell_type": "code",
   "execution_count": 33,
   "metadata": {
    "scrolled": true
   },
   "outputs": [
    {
     "data": {
      "text/plain": [
       "artist\n",
       "Taylor Swift           58\n",
       "Kenny Chesney          42\n",
       "Tim McGraw             39\n",
       "Keith Urban            37\n",
       "Drake                  33\n",
       "Rascal Flatts          32\n",
       "Brad Paisley           32\n",
       "George Strait          30\n",
       "Toby Keith             30\n",
       "Jason Aldean           29\n",
       "Carrie Underwood       28\n",
       "Blake Shelton          27\n",
       "Eminem                 26\n",
       "Rihanna                25\n",
       "Luke Bryan             25\n",
       "Kelly Clarkson         23\n",
       "P!nk                   23\n",
       "Dierks Bentley         23\n",
       "Beyonce                23\n",
       "Britney Spears         22\n",
       "Alan Jackson           21\n",
       "Usher                  20\n",
       "Madonna                20\n",
       "Maroon 5               19\n",
       "Chris Brown            19\n",
       "Brooks & Dunn          18\n",
       "R. Kelly               18\n",
       "Katy Perry             18\n",
       "J. Cole                17\n",
       "Nickelback             17\n",
       "Montgomery Gentry      17\n",
       "Eric Church            17\n",
       "Miranda Lambert        17\n",
       "Justin Timberlake      17\n",
       "Kendrick Lamar         16\n",
       "Billy Currington       16\n",
       "Dixie Chicks           16\n",
       "Lady Antebellum        16\n",
       "Jake Owen              15\n",
       "Backstreet Boys        15\n",
       "Lady Gaga              15\n",
       "Zac Brown Band         15\n",
       "Demi Lovato            15\n",
       "Mary J. Blige          15\n",
       "Christina Aguilera     15\n",
       "Lonestar               15\n",
       "Martina McBride        15\n",
       "The Black Eyed Peas    15\n",
       "Fall Out Boy           14\n",
       "Nicki Minaj            14\n",
       "Name: title, dtype: int64"
      ]
     },
     "execution_count": 33,
     "metadata": {},
     "output_type": "execute_result"
    }
   ],
   "source": [
    "top_artist = df.groupby(by='artist').count().sort_values(by='title',ascending=False).loc[:,'title']\n",
    "top_artist[:50]"
   ]
  },
  {
   "cell_type": "code",
   "execution_count": 34,
   "metadata": {},
   "outputs": [],
   "source": [
    "artist_list = list(top_artist[:5].index)\n",
    "working_df = df[df['artist'].isin(artist_list)]\n",
    "\n",
    "song_is_artist = pd.get_dummies(working_df['artist'], prefix='is')"
   ]
  },
  {
   "cell_type": "code",
   "execution_count": 35,
   "metadata": {},
   "outputs": [
    {
     "data": {
      "text/html": [
       "<div>\n",
       "<style scoped>\n",
       "    .dataframe tbody tr th:only-of-type {\n",
       "        vertical-align: middle;\n",
       "    }\n",
       "\n",
       "    .dataframe tbody tr th {\n",
       "        vertical-align: top;\n",
       "    }\n",
       "\n",
       "    .dataframe thead th {\n",
       "        text-align: right;\n",
       "    }\n",
       "</style>\n",
       "<table border=\"1\" class=\"dataframe\">\n",
       "  <thead>\n",
       "    <tr style=\"text-align: right;\">\n",
       "      <th></th>\n",
       "      <th>is_Drake</th>\n",
       "      <th>is_Keith Urban</th>\n",
       "      <th>is_Kenny Chesney</th>\n",
       "      <th>is_Taylor Swift</th>\n",
       "      <th>is_Tim McGraw</th>\n",
       "    </tr>\n",
       "  </thead>\n",
       "  <tbody>\n",
       "    <tr>\n",
       "      <th>0</th>\n",
       "      <td>1</td>\n",
       "      <td>0</td>\n",
       "      <td>0</td>\n",
       "      <td>0</td>\n",
       "      <td>0</td>\n",
       "    </tr>\n",
       "    <tr>\n",
       "      <th>65</th>\n",
       "      <td>0</td>\n",
       "      <td>0</td>\n",
       "      <td>1</td>\n",
       "      <td>0</td>\n",
       "      <td>0</td>\n",
       "    </tr>\n",
       "    <tr>\n",
       "      <th>75</th>\n",
       "      <td>0</td>\n",
       "      <td>1</td>\n",
       "      <td>0</td>\n",
       "      <td>0</td>\n",
       "      <td>0</td>\n",
       "    </tr>\n",
       "    <tr>\n",
       "      <th>149</th>\n",
       "      <td>0</td>\n",
       "      <td>0</td>\n",
       "      <td>0</td>\n",
       "      <td>1</td>\n",
       "      <td>0</td>\n",
       "    </tr>\n",
       "    <tr>\n",
       "      <th>150</th>\n",
       "      <td>0</td>\n",
       "      <td>0</td>\n",
       "      <td>0</td>\n",
       "      <td>1</td>\n",
       "      <td>0</td>\n",
       "    </tr>\n",
       "  </tbody>\n",
       "</table>\n",
       "</div>"
      ],
      "text/plain": [
       "     is_Drake  is_Keith Urban  is_Kenny Chesney  is_Taylor Swift  \\\n",
       "0           1               0                 0                0   \n",
       "65          0               0                 1                0   \n",
       "75          0               1                 0                0   \n",
       "149         0               0                 0                1   \n",
       "150         0               0                 0                1   \n",
       "\n",
       "     is_Tim McGraw  \n",
       "0                0  \n",
       "65               0  \n",
       "75               0  \n",
       "149              0  \n",
       "150              0  "
      ]
     },
     "execution_count": 35,
     "metadata": {},
     "output_type": "execute_result"
    }
   ],
   "source": [
    "song_is_artist.head()"
   ]
  },
  {
   "cell_type": "code",
   "execution_count": 36,
   "metadata": {},
   "outputs": [],
   "source": [
    "arr, vocab = vectorize_tokens(working_df['lyrics_tokens'])\n",
    "\n",
    "model_df = pd.DataFrame(arr, columns=vocab)"
   ]
  },
  {
   "cell_type": "code",
   "execution_count": 37,
   "metadata": {},
   "outputs": [],
   "source": [
    "def run_model(X, y, model_obj):\n",
    "    X_train, X_test, y_train, y_test = train_test_split(X, y, \n",
    "                                                        test_size=.20)\n",
    "    model = model_obj\n",
    "    \n",
    "    model.fit(X_train, y_train)\n",
    "\n",
    "    return model.score(X_test, y_test)\n",
    "\n",
    "\n",
    "def get_all_scores(df, dummy_targets_df, model_obj):\n",
    "    target_scores = {}\n",
    "    X = df.to_numpy()\n",
    "    vocab_to_remove = set()\n",
    "    for idx, target in enumerate(dummy_targets_df.columns):\n",
    "        y = dummy_targets_df.iloc[:,idx].to_numpy()\n",
    "        score = run_model(X, y, model_obj)\n",
    "        target_scores[target] = {'score': round(score, 3), 'imbalance': round((sum(y) / len(y)), 3)}\n",
    "    \n",
    "    return target_scores"
   ]
  },
  {
   "cell_type": "code",
   "execution_count": 38,
   "metadata": {},
   "outputs": [],
   "source": [
    "def get_vocab_to_add(trained_model, col_names, add_perc=0.2):\n",
    "    num_to_remove = int(len(col_names) * add_perc)\n",
    "    feat_scores = pd.Series(rfc.feature_importances_,\n",
    "                               index=col_names)\n",
    "    top_feats = feat_scores.sort_values()[-num_to_remove:]\n",
    "    return top_feats"
   ]
  },
  {
   "cell_type": "code",
   "execution_count": 97,
   "metadata": {
    "scrolled": false
   },
   "outputs": [],
   "source": [
    "def plot_conf_matrix(actuals, predictions):\n",
    "    cf_matrix = confusion_matrix(actuals, predictions)\n",
    "    group_names = ['True Neg','False Pos','False Neg','True Pos']\n",
    "    group_counts = [\"{0:0.0f}\".format(value) for value in cf_matrix.flatten()]\n",
    "    group_percentages = [\"{0:.2%}\".format(value) for value in cf_matrix.flatten()/np.sum(cf_matrix)]\n",
    "    labels = [f\"{v1}\\n{v2}\\n{v3}\" for v1, v2, v3 in zip(group_names,group_counts,group_percentages)]\n",
    "    labels = np.asarray(labels).reshape(2,2)\n",
    "    \n",
    "    sns.heatmap(cf_matrix, \n",
    "                annot=labels, \n",
    "                fmt='', \n",
    "                cmap='Blues', \n",
    "                xticklabels=['Predicted Negative', 'Predicted Positive'], \n",
    "                yticklabels=['Actual Negative', 'Actual Positive'], \n",
    "                cbar=False, )\n",
    "    plt.yticks(rotation=0, \n",
    "               va=\"center\", \n",
    "               wrap=True)\n",
    "\n",
    "    \n",
    "    tn, fp, fn, tp = cf_matrix.flatten()\n",
    "    precision = tp / (tp + fp)\n",
    "    recall = tp / (tp + fn)\n",
    "    accuracy = (tp + tn) / (tn + fp + fn + tp)\n",
    "    print(f\"Precision: {round(precision, 3)} \\nRecal: {round(recall, 3)} \\nAccuracy: {round(accuracy, 3)}\")"
   ]
  },
  {
   "cell_type": "code",
   "execution_count": 39,
   "metadata": {
    "scrolled": false
   },
   "outputs": [],
   "source": [
    "# get_all_scores(model_df, song_is_artist, GaussianNB())"
   ]
  },
  {
   "cell_type": "code",
   "execution_count": null,
   "metadata": {},
   "outputs": [],
   "source": []
  },
  {
   "cell_type": "code",
   "execution_count": 40,
   "metadata": {},
   "outputs": [],
   "source": [
    "# is_artist = 'is_Taylor Swift'\n",
    "\n",
    "# arr, vocab_cols = vectorize_tokens(working_df['lyrics_tokens'])\n",
    "# model_df = pd.DataFrame(arr, columns=vocab)\n",
    "\n",
    "# X = arr\n",
    "# y = song_is_artist.iloc[:,song_is_artist.columns.get_loc(is_artist)]\n",
    "\n",
    "# X_train, X_test, y_train, y_test = train_test_split(X, y, \n",
    "#                                                         test_size=.20)"
   ]
  },
  {
   "cell_type": "code",
   "execution_count": 41,
   "metadata": {
    "scrolled": true
   },
   "outputs": [],
   "source": [
    "# rfc = RandomForestClassifier(n_estimators=500,\n",
    "#                              max_features='auto',\n",
    "#                              oob_score=True).fit(X_train, y_train)\n",
    "# rfc.score(X_test, y_test)"
   ]
  },
  {
   "cell_type": "code",
   "execution_count": 42,
   "metadata": {},
   "outputs": [],
   "source": [
    "# gbcl = GradientBoostingClassifier(learning_rate=.01, \n",
    "#                                   n_estimators=100, \n",
    "#                                   criterion='mae').fit(X_train, y_train)\n",
    "# gbcl.score(X_test, y_test)"
   ]
  },
  {
   "cell_type": "code",
   "execution_count": 43,
   "metadata": {
    "scrolled": true
   },
   "outputs": [],
   "source": [
    "# gnb = GaussianNB().fit(X_train, y_train)\n",
    "# gnb.score(X_test, y_test)"
   ]
  },
  {
   "cell_type": "code",
   "execution_count": 44,
   "metadata": {},
   "outputs": [],
   "source": [
    "# model = GradientBoostingClassifier()\n",
    "# learning_rate_param = [.01, .001]\n",
    "# n_estimators_param = np.arange(100,3100,1000)\n",
    "# parameters = {'n_estimators' : n_estimators_param,\n",
    "#              'learning_rate' : learning_rate_param}\n",
    "# clf = GridSearchCV(model, parameters, cv=5, n_jobs=-1)\n",
    "# clf.fit(X_train,y_train)\n",
    "# print('Accuracy score: {:.3}'.format(clf.score(X_test, y_test)))"
   ]
  },
  {
   "cell_type": "code",
   "execution_count": null,
   "metadata": {},
   "outputs": [],
   "source": []
  },
  {
   "cell_type": "code",
   "execution_count": 45,
   "metadata": {},
   "outputs": [],
   "source": [
    "# feat_scores = pd.Series(rfc.feature_importances_,\n",
    "#                            index=vocab_cols)\n",
    "# feat_scores = feat_scores.sort_values()[-50:]\n",
    "\n",
    "# ax = feat_scores.plot(kind='barh', \n",
    "#                       figsize=(10,8),\n",
    "#                       color='b')\n",
    "# ax.set_title('Average Gini Importance')\n",
    "# ax.set_xlabel('Average contribution to information gain');\n",
    "\n",
    "# get_vocab_to_add(rfc, vocab_cols, add_perc=0.01)"
   ]
  },
  {
   "cell_type": "code",
   "execution_count": null,
   "metadata": {},
   "outputs": [],
   "source": []
  },
  {
   "cell_type": "code",
   "execution_count": null,
   "metadata": {},
   "outputs": [],
   "source": []
  },
  {
   "cell_type": "code",
   "execution_count": 46,
   "metadata": {},
   "outputs": [],
   "source": [
    "lyric_stopwords = set(['hey', 'baby', 'babe', 'woo', 'ha', 'like', 'oh', 'ooh', 'woah', 'yeah'])\n",
    "all_stop_words = lyric_stopwords.union(STOP_WORDS)"
   ]
  },
  {
   "cell_type": "code",
   "execution_count": 47,
   "metadata": {},
   "outputs": [
    {
     "data": {
      "text/plain": [
       "['Taylor Swift',\n",
       " 'Kenny Chesney',\n",
       " 'Tim McGraw',\n",
       " 'Keith Urban',\n",
       " 'Drake',\n",
       " 'Rascal Flatts',\n",
       " 'Brad Paisley',\n",
       " 'George Strait',\n",
       " 'Toby Keith',\n",
       " 'Jason Aldean',\n",
       " 'Carrie Underwood',\n",
       " 'Blake Shelton',\n",
       " 'Eminem',\n",
       " 'Rihanna',\n",
       " 'Luke Bryan']"
      ]
     },
     "execution_count": 47,
     "metadata": {},
     "output_type": "execute_result"
    }
   ],
   "source": [
    "artist_list = list(top_artist[:15].index)\n",
    "working_df = df[df['artist'].isin(artist_list)]\n",
    "\n",
    "song_is_artist = pd.get_dummies(working_df['artist'], prefix='is')\n",
    "\n",
    "artist_list"
   ]
  },
  {
   "cell_type": "code",
   "execution_count": 103,
   "metadata": {},
   "outputs": [
    {
     "name": "stdout",
     "output_type": "stream",
     "text": [
      "<class 'pandas.core.frame.DataFrame'>\n",
      "Int64Index: 493 entries, 0 to 6110\n",
      "Data columns (total 8 columns):\n",
      " #   Column              Non-Null Count  Dtype \n",
      "---  ------              --------------  ----- \n",
      " 0   artist              493 non-null    object\n",
      " 1   title               493 non-null    object\n",
      " 2   lyrics              493 non-null    object\n",
      " 3   lyrics_tokens       493 non-null    object\n",
      " 4   word_count          493 non-null    int64 \n",
      " 5   unique_word_count   493 non-null    int64 \n",
      " 6   token_count         493 non-null    int64 \n",
      " 7   unique_token_count  493 non-null    int64 \n",
      "dtypes: int64(4), object(4)\n",
      "memory usage: 34.7+ KB\n"
     ]
    }
   ],
   "source": [
    "working_df.info()"
   ]
  },
  {
   "cell_type": "code",
   "execution_count": null,
   "metadata": {},
   "outputs": [],
   "source": [
    "artist='Taylor Swift'\n",
    "# for artist in artist_list:\n",
    "is_artist = 'is_{}'.format(artist)\n",
    "y = song_is_artist.iloc[:,song_is_artist.columns.get_loc(is_artist)]\n",
    "\n",
    "X_train, X_test, y_train, y_test = train_test_split(working_df['lyrics'], \n",
    "                                                    y, \n",
    "                                                    test_size=.20)\n",
    "\n",
    "vectorizer = TfidfVectorizer(stop_words=STOP_WORDS,\n",
    "                             max_features=5000\n",
    "                            )\n",
    "vectorizer.fit(X_train)\n",
    "X_train_vec = vectorizer.transform(X_train)\n",
    "features = vectorizer.get_feature_names()\n",
    "\n",
    "imbrf = BalancedRandomForestClassifier(n_estimators=5000,\n",
    "                                       max_features='auto', \n",
    "                                       sampling_strategy=.8\n",
    "                                      ).fit(X_train_vec, y_train)\n",
    "\n",
    "X_test_vec = vectorizer.transform(X_test)\n",
    "\n",
    "y_pred = imbrf.predict(X_test_vec)"
   ]
  },
  {
   "cell_type": "code",
   "execution_count": null,
   "metadata": {},
   "outputs": [],
   "source": []
  },
  {
   "cell_type": "code",
   "execution_count": 109,
   "metadata": {},
   "outputs": [
    {
     "name": "stdout",
     "output_type": "stream",
     "text": [
      "Total songs: \t 493 \n",
      "Total target: \t 58 \n",
      "Percentage is target: \t 0.118 \n",
      "Percentage is not target: \t 0.882\n"
     ]
    }
   ],
   "source": [
    "print('Total songs: \\t', len(working_df), \n",
    "      '\\nTotal target: \\t', sum(y), \n",
    "      '\\nPercentage is target: \\t', round((sum(y) / len(working_df)), 3), \n",
    "      '\\nPercentage is not target: \\t', round(((len(y) - sum(y)) / len(working_df)), 3))"
   ]
  },
  {
   "cell_type": "code",
   "execution_count": 98,
   "metadata": {
    "scrolled": false
   },
   "outputs": [
    {
     "name": "stdout",
     "output_type": "stream",
     "text": [
      "Precision: 0.714 \n",
      "Recal: 0.625 \n",
      "Accuracy: 0.949\n"
     ]
    },
    {
     "data": {
      "text/plain": [
       "Text(0.5, 1, 'is_Taylor Swift')"
      ]
     },
     "execution_count": 98,
     "metadata": {},
     "output_type": "execute_result"
    },
    {
     "data": {
      "image/png": "[encoded data removed]",
      "text/plain": [
       "<Figure size 432x288 with 1 Axes>"
      ]
     },
     "metadata": {},
     "output_type": "display_data"
    }
   ],
   "source": [
    "plot_conf_matrix(y_test, y_pred)\n",
    "plt.title(is_artist)"
   ]
  },
  {
   "cell_type": "code",
   "execution_count": null,
   "metadata": {},
   "outputs": [],
   "source": []
  },
  {
   "cell_type": "code",
   "execution_count": 105,
   "metadata": {},
   "outputs": [],
   "source": [
    "aggr_feat_imp_dict = {}\n",
    "for score, term in zip(imbrf.feature_importances_, features):\n",
    "    if term not in aggr_feat_imp_dict:\n",
    "        aggr_feat_imp_dict[term] = score\n",
    "    else:\n",
    "        aggr_feat_imp_dict[term] += score"
   ]
  },
  {
   "cell_type": "code",
   "execution_count": 107,
   "metadata": {
    "scrolled": true
   },
   "outputs": [],
   "source": [
    "# aggr_feat_imp_dict"
   ]
  },
  {
   "cell_type": "code",
   "execution_count": 65,
   "metadata": {
    "scrolled": true
   },
   "outputs": [],
   "source": [
    "# max(aggr_feat_imp_dict.values())"
   ]
  },
  {
   "cell_type": "code",
   "execution_count": 108,
   "metadata": {},
   "outputs": [],
   "source": [
    "important_feats_dict = {}\n",
    "not_important_feats_dict = {}\n",
    "for k, v in aggr_feat_imp_dict.items():\n",
    "    if v > 0.01:\n",
    "        important_feats_dict[k] = v\n",
    "    else:\n",
    "        not_important_feats_dict[k] = v"
   ]
  },
  {
   "cell_type": "code",
   "execution_count": 67,
   "metadata": {
    "scrolled": true
   },
   "outputs": [],
   "source": [
    "# not_important_feats_dict"
   ]
  },
  {
   "cell_type": "code",
   "execution_count": null,
   "metadata": {},
   "outputs": [],
   "source": []
  },
  {
   "cell_type": "code",
   "execution_count": 68,
   "metadata": {},
   "outputs": [],
   "source": [
    "# feat_scores = pd.Series(imbrf.feature_importances_,\n",
    "#                            index=features)\n",
    "# feat_scores = feat_scores.sort_values()[:50]\n",
    "\n",
    "# ax = feat_scores.plot(kind='barh', \n",
    "#                       figsize=(10,8),\n",
    "#                       color='b')\n",
    "# ax.set_title('Average Gini Importance')\n",
    "# ax.set_xlabel('Average contribution to information gain');"
   ]
  },
  {
   "cell_type": "code",
   "execution_count": 110,
   "metadata": {},
   "outputs": [],
   "source": [
    "more_stopwords = all_stop_words.union(set(not_important_feats_dict.keys()))"
   ]
  },
  {
   "cell_type": "code",
   "execution_count": 186,
   "metadata": {},
   "outputs": [],
   "source": [
    "even_more_stopwords = more_stopwords.union(set(['ambidex', \n",
    "                                               '000', \n",
    "                                               'aw', \n",
    "                                               'aaw', \n",
    "                                               '18', \n",
    "                                               '55', \n",
    "                                                'got', \n",
    "                                                'll', \n",
    "                                                'don', \n",
    "                                                've', \n",
    "                                                'gonna', \n",
    "                                                'ain', \n",
    "                                                'em', \n",
    "                                                'ayy', \n",
    "                                                'chorus', \n",
    "                                                'know',\n",
    "                                                'kimkeen23', \n",
    "                                                'cause', \n",
    "                                                '1x', 'rd','april1182']))"
   ]
  },
  {
   "cell_type": "code",
   "execution_count": 179,
   "metadata": {},
   "outputs": [],
   "source": [
    "artist_list = list(top_artist[:50].index)\n",
    "working_df = df[df['artist'].isin(artist_list)]\n",
    "\n",
    "song_is_artist = pd.get_dummies(working_df['artist'], prefix='is')\n"
   ]
  },
  {
   "cell_type": "code",
   "execution_count": 187,
   "metadata": {},
   "outputs": [],
   "source": [
    "vectorizer = TfidfVectorizer(stop_words=even_more_stopwords, \n",
    "                             max_features=4000)\n",
    "X = vectorizer.fit_transform(working_df['lyrics'])\n",
    "features = vectorizer.get_feature_names()"
   ]
  },
  {
   "cell_type": "code",
   "execution_count": 188,
   "metadata": {},
   "outputs": [
    {
     "name": "stdout",
     "output_type": "stream",
     "text": [
      "Top features (words) for each cluster:\n",
      "0: hurry, loneliness, boo, lullaby, freak\n",
      "1: halfway, yeahi, fergie, borderline, oooooo\n",
      "2: thanks, taller, jeni, algerienne, hum\n",
      "3: sympathy, needing, insecure, sweetness, motivate\n",
      "4: oo, ahhhahh, bolts, uhoo, ohhhhhh\n"
     ]
    }
   ],
   "source": [
    "kmeans = KMeans(n_clusters=5, \n",
    "                n_init=20)\n",
    "kmeans.fit(X)\n",
    "\n",
    "top_centroids = kmeans.cluster_centers_.argsort()[:,-1:-6:-1]\n",
    "print(\"Top features (words) for each cluster:\")\n",
    "for num, centroid in enumerate(top_centroids):\n",
    "    print(\"%d: %s\" % (num, \", \".join(features[i] for i in centroid)))"
   ]
  },
  {
   "cell_type": "code",
   "execution_count": 123,
   "metadata": {},
   "outputs": [],
   "source": [
    "from sklearn.decomposition import NMF"
   ]
  },
  {
   "cell_type": "code",
   "execution_count": 145,
   "metadata": {},
   "outputs": [],
   "source": [
    "def hand_label_topics(H, vocabulary):\n",
    "    '''\n",
    "    Print the most influential words of each latent topic, and prompt the user\n",
    "    to label each topic. The user should use their humanness to figure out what\n",
    "    each latent topic is capturing.\n",
    "    '''\n",
    "    hand_labels = []\n",
    "    for i, row in enumerate(H):\n",
    "        top_five = np.argsort(row)[::-1][:5]\n",
    "        print('Topic', i + 1)\n",
    "        print('-->', ' '.join(vocabulary[top_five]))\n",
    "#         label = input('please label this topic: ')\n",
    "#         hand_labels.append(label)\n",
    "#         print()\n",
    "    return hand_labels"
   ]
  },
  {
   "cell_type": "code",
   "execution_count": 189,
   "metadata": {},
   "outputs": [
    {
     "name": "stdout",
     "output_type": "stream",
     "text": [
      "Topic 1\n",
      "--> thanks taller tastes jeni arizona\n",
      "Topic 2\n",
      "--> lullaby precious guide lo someones\n",
      "Topic 3\n",
      "--> hurry lasted smelling gates pause\n",
      "Topic 4\n",
      "--> oo uhoo riverbank dontcha coz\n",
      "Topic 5\n",
      "--> loneliness emptiness prettier property tragical\n"
     ]
    },
    {
     "data": {
      "text/plain": [
       "[]"
      ]
     },
     "execution_count": 189,
     "metadata": {},
     "output_type": "execute_result"
    }
   ],
   "source": [
    "model = NMF(n_components=5, init='random')\n",
    "W = model.fit_transform(X)\n",
    "H = model.components_\n",
    "features = np.array(features)\n",
    "hand_label_topics(H, features)"
   ]
  },
  {
   "cell_type": "code",
   "execution_count": null,
   "metadata": {},
   "outputs": [],
   "source": []
  },
  {
   "cell_type": "code",
   "execution_count": null,
   "metadata": {},
   "outputs": [],
   "source": [
    "# vectorizer = TfidfVectorizer(stop_words=even_more_stopwords)\n",
    "# X = vectorizer.fit_transform(working_df['lyrics'])\n",
    "# features = vectorizer.get_feature_names()\n",
    "\n",
    "# silhouette_scores = {}\n",
    "# for n_clusters in range(2, 1000):\n",
    "#     clusterer = KMeans(n_clusters=n_clusters, random_state=10)\n",
    "#     cluster_labels = clusterer.fit_predict(X)\n",
    "#     silhouette_avg = silhouette_score(X, cluster_labels)\n",
    "#     silhouette_scores[n_clusters] = silhouette_avg\n",
    "#     if n_clusters % 10 == 0:\n",
    "#         print(\"For n_clusters =\", n_clusters,\n",
    "#               \"The average silhouette_score is :\", silhouette_avg)\n"
   ]
  },
  {
   "cell_type": "code",
   "execution_count": null,
   "metadata": {},
   "outputs": [],
   "source": [
    "silhouette_scores"
   ]
  },
  {
   "cell_type": "code",
   "execution_count": null,
   "metadata": {},
   "outputs": [],
   "source": [
    "# fig, ax = plt.subplots(figsize=(10, 6))\n",
    "# ax.plot(list(silhouette_scores.keys()), \n",
    "#          list(silhouette_scores.values()))\n",
    "# ax.set_xlabel('Number of Clusters')\n",
    "# ax.set_ylabel('Sillhouette Score');"
   ]
  },
  {
   "cell_type": "markdown",
   "metadata": {},
   "source": [
    "### Considering that this is only looking at 10 artists and 362 songs, the KMeans model is not working well. This may mean the features are not set up well for finding clusters. "
   ]
  },
  {
   "cell_type": "code",
   "execution_count": null,
   "metadata": {},
   "outputs": [],
   "source": [
    "max(silhouette_scores.values())"
   ]
  },
  {
   "cell_type": "code",
   "execution_count": null,
   "metadata": {},
   "outputs": [],
   "source": [
    "working_df.info()"
   ]
  },
  {
   "cell_type": "code",
   "execution_count": null,
   "metadata": {},
   "outputs": [],
   "source": [
    "working_df['artist'].unique()"
   ]
  },
  {
   "cell_type": "code",
   "execution_count": null,
   "metadata": {},
   "outputs": [],
   "source": []
  }
 ],
 "metadata": {
  "kernelspec": {
   "display_name": "Python 3",
   "language": "python",
   "name": "python3"
  },
  "language_info": {
   "codemirror_mode": {
    "name": "ipython",
    "version": 3
   },
   "file_extension": ".py",
   "mimetype": "text/x-python",
   "name": "python",
   "nbconvert_exporter": "python",
   "pygments_lexer": "ipython3",
   "version": "3.7.7"
  }
 },
 "nbformat": 4,
 "nbformat_minor": 4
}
