{
 "cells": [
  {
   "cell_type": "code",
   "execution_count": 145,
   "metadata": {},
   "outputs": [],
   "source": [
    "import pandas as pd\n",
    "import numpy as np\n",
    "import matplotlib.pyplot as plt\n",
    "%matplotlib inline\n",
    "plt.style.use('ggplot')\n",
    "\n",
    "import spacy\n",
    "from spacy.tokenizer import Tokenizer\n",
    "from spacy.lang.en.stop_words import STOP_WORDS\n",
    "from spacy.lang.en import English\n",
    "import string\n",
    "\n",
    "from sklearn.feature_extraction.text import CountVectorizer,TfidfVectorizer\n",
    "from sklearn.base import TransformerMixin\n",
    "from sklearn.pipeline import Pipeline\n",
    "from sklearn.ensemble import RandomForestClassifier, RandomForestRegressor\n",
    "from sklearn.model_selection import cross_val_score, train_test_split, GridSearchCV\n",
    "from sklearn.metrics import confusion_matrix, accuracy_score, mean_squared_error\n",
    "import re\n",
    "from collections import Counter"
   ]
  },
  {
   "cell_type": "code",
   "execution_count": 2,
   "metadata": {},
   "outputs": [],
   "source": [
    "df = pd.read_json('../data/lyrics_cleaned.json')"
   ]
  },
  {
   "cell_type": "code",
   "execution_count": 3,
   "metadata": {},
   "outputs": [
    {
     "data": {
      "text/html": [
       "<div>\n",
       "<style scoped>\n",
       "    .dataframe tbody tr th:only-of-type {\n",
       "        vertical-align: middle;\n",
       "    }\n",
       "\n",
       "    .dataframe tbody tr th {\n",
       "        vertical-align: top;\n",
       "    }\n",
       "\n",
       "    .dataframe thead th {\n",
       "        text-align: right;\n",
       "    }\n",
       "</style>\n",
       "<table border=\"1\" class=\"dataframe\">\n",
       "  <thead>\n",
       "    <tr style=\"text-align: right;\">\n",
       "      <th></th>\n",
       "      <th>artist</th>\n",
       "      <th>title</th>\n",
       "      <th>lyrics</th>\n",
       "      <th>character_count</th>\n",
       "      <th>word_count</th>\n",
       "    </tr>\n",
       "  </thead>\n",
       "  <tbody>\n",
       "    <tr>\n",
       "      <th>0</th>\n",
       "      <td>Drake</td>\n",
       "      <td>Toosie Slide</td>\n",
       "      <td>Black leather gloves, no sequins (Yeah, yeah, ...</td>\n",
       "      <td>2371</td>\n",
       "      <td>447</td>\n",
       "    </tr>\n",
       "    <tr>\n",
       "      <th>1</th>\n",
       "      <td>Roddy Ricch</td>\n",
       "      <td>The Box</td>\n",
       "      <td>Pullin' out the coupe at the lot  Told 'em fuc...</td>\n",
       "      <td>2689</td>\n",
       "      <td>551</td>\n",
       "    </tr>\n",
       "    <tr>\n",
       "      <th>2</th>\n",
       "      <td>Dua Lipa</td>\n",
       "      <td>Don't Start Now</td>\n",
       "      <td>If you don't wanna see me  Did a full 180, cra...</td>\n",
       "      <td>1576</td>\n",
       "      <td>304</td>\n",
       "    </tr>\n",
       "    <tr>\n",
       "      <th>3</th>\n",
       "      <td>Doja Cat</td>\n",
       "      <td>Say So</td>\n",
       "      <td>Day and night til morning, keeping me in the m...</td>\n",
       "      <td>2203</td>\n",
       "      <td>446</td>\n",
       "    </tr>\n",
       "    <tr>\n",
       "      <th>4</th>\n",
       "      <td>Post Malone</td>\n",
       "      <td>Circles</td>\n",
       "      <td>Hey, hey, hey, hey  Oh, oh, oh-oh  Oh, oh, oh-...</td>\n",
       "      <td>1570</td>\n",
       "      <td>318</td>\n",
       "    </tr>\n",
       "  </tbody>\n",
       "</table>\n",
       "</div>"
      ],
      "text/plain": [
       "        artist            title  \\\n",
       "0        Drake     Toosie Slide   \n",
       "1  Roddy Ricch          The Box   \n",
       "2     Dua Lipa  Don't Start Now   \n",
       "3     Doja Cat           Say So   \n",
       "4  Post Malone          Circles   \n",
       "\n",
       "                                              lyrics  character_count  \\\n",
       "0  Black leather gloves, no sequins (Yeah, yeah, ...             2371   \n",
       "1  Pullin' out the coupe at the lot  Told 'em fuc...             2689   \n",
       "2  If you don't wanna see me  Did a full 180, cra...             1576   \n",
       "3  Day and night til morning, keeping me in the m...             2203   \n",
       "4  Hey, hey, hey, hey  Oh, oh, oh-oh  Oh, oh, oh-...             1570   \n",
       "\n",
       "   word_count  \n",
       "0         447  \n",
       "1         551  \n",
       "2         304  \n",
       "3         446  \n",
       "4         318  "
      ]
     },
     "execution_count": 3,
     "metadata": {},
     "output_type": "execute_result"
    }
   ],
   "source": [
    "df.head()"
   ]
  },
  {
   "cell_type": "code",
   "execution_count": 4,
   "metadata": {},
   "outputs": [],
   "source": [
    "df.reset_index(drop=True,inplace=True)"
   ]
  },
  {
   "cell_type": "code",
   "execution_count": 5,
   "metadata": {},
   "outputs": [
    {
     "data": {
      "text/plain": [
       "\">Freaky Tahverses Mr. CheeksIntro:[Freaky Tah]Everybody's buckin, don't give it a damneverbody...everbody(echo)Verse 1[Mr.Cheeks]Straight from cop killer Queensa juvenile named Jack >Jackat the age of 17 >uh huhyo this kid Jack started slingin crack >started slingin crackhe's on the road to riches >richesbaggin bitches >bitcheshe's in clubs takin pitchersdrink your finger always into sesshis lifestyles buckwild honey child >yeahgot a shorty named Val >Valshe stays on the Isle >ahhhhe started slingin at the age of 17 >uhh huhhis hearts made of steel >eh yokid his minds full of green >full of greenhe got his first ouncemade a grand 400 >hundred3 bills to get freshhe other bills to get blunted >to be bluntedand wit the letter G >Ghe bought the letter O >Onext thing you know manhe's rakin in the dough >rakin in the doughhe put his people downcuz say thats only right >aightfor dem to get keysdem and dem is mad tight >is mad tightset-up organation organize on the block>organize...blocknobody's slingin on the blockeh yo we got this block on lockand it's the.... >huhChorusLifestyles of the rich & shameless >shamelesssome die wit the name >wit the namesome die nameless >some die namelessit's all the same game >It's onit's all the same pain >It's onit's all the same pain >It's Onit's all the same game >It's OnVerse 2The verse 2'sabout this girl named Yvette >Vetteshe lived out in Queenspushed the red Corvette >Corvetteshe's pumpin weight >uh huhin and outta state >in and outta stateoutta state license plate >eh yosee her lifestyle is straight weight >hahshe's into lickin shots >yeahstickin blocks gotta shorty on the team>uhh huhshortie's into pickin locksmakin G's takin trips cross seas >seasjust enough to be flashincash they be stashin >hahshe's wit the cats >huh huhthey love packin gats >huhbulletproof vest bulletproof baseball hatsher and the queens stay right gettin high tooLex, Coups and Jeeps >ahhgot beeps can & lai brew >brewit's all the same shame >huhjust a diffrent name >huhshorty's sniffin cane >huhjust to maintain >huhto a nice shorty rock O-D'd >shorty what who O-D'sbring me the chorus >shoulda chilledpass me the weed >I would pass the weedChorusVerse 3I used to hustle up on Linden in the vanme and my man did that thing hand in hand20 bills up>huhhuhbut verse itttime to rap but the fiends kept commin backIm tryin to put my lifestyle in order >aightthe games mad deepI keep my feet above the water >above the watercaught a bid got a wife and kid >huhthe name just burned in the flame >huhso out the game I slid >slidso now Im into makin hits wit my men >huhI hustle wit my style >huhcook up works wit my pen >trueMr. Cheeks represent in the gutter >gutterFreaky Tah gettin lai thats my brudda >thats my bruddaIn the game >huhand hit you in the brain >huhand if I was cocaine >huhbelieve it Im your main >huhTally up it's the Lost Boyz crew anFreaky Tah, Spigg Nice and Pretty Lou an..Chorus/Outr\""
      ]
     },
     "execution_count": 5,
     "metadata": {},
     "output_type": "execute_result"
    }
   ],
   "source": [
    "df.iloc[6247,:]['lyrics']"
   ]
  },
  {
   "cell_type": "code",
   "execution_count": 6,
   "metadata": {},
   "outputs": [],
   "source": [
    "df = df.drop(['character_count', 'word_count'], axis=1)"
   ]
  },
  {
   "cell_type": "code",
   "execution_count": 7,
   "metadata": {},
   "outputs": [
    {
     "name": "stdout",
     "output_type": "stream",
     "text": [
      "<class 'pandas.core.frame.DataFrame'>\n",
      "RangeIndex: 6252 entries, 0 to 6251\n",
      "Data columns (total 3 columns):\n",
      " #   Column  Non-Null Count  Dtype \n",
      "---  ------  --------------  ----- \n",
      " 0   artist  6252 non-null   object\n",
      " 1   title   6252 non-null   object\n",
      " 2   lyrics  6252 non-null   object\n",
      "dtypes: object(3)\n",
      "memory usage: 146.7+ KB\n"
     ]
    }
   ],
   "source": [
    "df.info()"
   ]
  },
  {
   "cell_type": "code",
   "execution_count": 8,
   "metadata": {},
   "outputs": [
    {
     "data": {
      "text/html": [
       "<div>\n",
       "<style scoped>\n",
       "    .dataframe tbody tr th:only-of-type {\n",
       "        vertical-align: middle;\n",
       "    }\n",
       "\n",
       "    .dataframe tbody tr th {\n",
       "        vertical-align: top;\n",
       "    }\n",
       "\n",
       "    .dataframe thead th {\n",
       "        text-align: right;\n",
       "    }\n",
       "</style>\n",
       "<table border=\"1\" class=\"dataframe\">\n",
       "  <thead>\n",
       "    <tr style=\"text-align: right;\">\n",
       "      <th></th>\n",
       "      <th>artist</th>\n",
       "      <th>title</th>\n",
       "      <th>lyrics</th>\n",
       "    </tr>\n",
       "  </thead>\n",
       "  <tbody>\n",
       "    <tr>\n",
       "      <th>0</th>\n",
       "      <td>Drake</td>\n",
       "      <td>Toosie Slide</td>\n",
       "      <td>Black leather gloves, no sequins (Yeah, yeah, ...</td>\n",
       "    </tr>\n",
       "    <tr>\n",
       "      <th>1</th>\n",
       "      <td>Roddy Ricch</td>\n",
       "      <td>The Box</td>\n",
       "      <td>Pullin' out the coupe at the lot  Told 'em fuc...</td>\n",
       "    </tr>\n",
       "    <tr>\n",
       "      <th>2</th>\n",
       "      <td>Dua Lipa</td>\n",
       "      <td>Don't Start Now</td>\n",
       "      <td>If you don't wanna see me  Did a full 180, cra...</td>\n",
       "    </tr>\n",
       "    <tr>\n",
       "      <th>3</th>\n",
       "      <td>Doja Cat</td>\n",
       "      <td>Say So</td>\n",
       "      <td>Day and night til morning, keeping me in the m...</td>\n",
       "    </tr>\n",
       "    <tr>\n",
       "      <th>4</th>\n",
       "      <td>Post Malone</td>\n",
       "      <td>Circles</td>\n",
       "      <td>Hey, hey, hey, hey  Oh, oh, oh-oh  Oh, oh, oh-...</td>\n",
       "    </tr>\n",
       "  </tbody>\n",
       "</table>\n",
       "</div>"
      ],
      "text/plain": [
       "        artist            title  \\\n",
       "0        Drake     Toosie Slide   \n",
       "1  Roddy Ricch          The Box   \n",
       "2     Dua Lipa  Don't Start Now   \n",
       "3     Doja Cat           Say So   \n",
       "4  Post Malone          Circles   \n",
       "\n",
       "                                              lyrics  \n",
       "0  Black leather gloves, no sequins (Yeah, yeah, ...  \n",
       "1  Pullin' out the coupe at the lot  Told 'em fuc...  \n",
       "2  If you don't wanna see me  Did a full 180, cra...  \n",
       "3  Day and night til morning, keeping me in the m...  \n",
       "4  Hey, hey, hey, hey  Oh, oh, oh-oh  Oh, oh, oh-...  "
      ]
     },
     "execution_count": 8,
     "metadata": {},
     "output_type": "execute_result"
    }
   ],
   "source": [
    "df.head()"
   ]
  },
  {
   "cell_type": "code",
   "execution_count": 9,
   "metadata": {},
   "outputs": [
    {
     "data": {
      "text/html": [
       "<div>\n",
       "<style scoped>\n",
       "    .dataframe tbody tr th:only-of-type {\n",
       "        vertical-align: middle;\n",
       "    }\n",
       "\n",
       "    .dataframe tbody tr th {\n",
       "        vertical-align: top;\n",
       "    }\n",
       "\n",
       "    .dataframe thead th {\n",
       "        text-align: right;\n",
       "    }\n",
       "</style>\n",
       "<table border=\"1\" class=\"dataframe\">\n",
       "  <thead>\n",
       "    <tr style=\"text-align: right;\">\n",
       "      <th></th>\n",
       "      <th>artist</th>\n",
       "      <th>title</th>\n",
       "      <th>lyrics</th>\n",
       "    </tr>\n",
       "  </thead>\n",
       "  <tbody>\n",
       "    <tr>\n",
       "      <th>6247</th>\n",
       "      <td>Lost Boyz</td>\n",
       "      <td>Lifestyles Of The Rich And Shameless</td>\n",
       "      <td>&gt;Freaky Tahverses Mr. CheeksIntro:[Freaky Tah]...</td>\n",
       "    </tr>\n",
       "    <tr>\n",
       "      <th>6248</th>\n",
       "      <td>DJ Quik</td>\n",
       "      <td>Safe + Sound</td>\n",
       "      <td>~Static~ \"Quik you're not a gangster we're not...</td>\n",
       "    </tr>\n",
       "    <tr>\n",
       "      <th>6249</th>\n",
       "      <td>Ty Herndon</td>\n",
       "      <td>What Mattered Most</td>\n",
       "      <td>I thought I knew the girl so well  If she was ...</td>\n",
       "    </tr>\n",
       "    <tr>\n",
       "      <th>6250</th>\n",
       "      <td>Madonna</td>\n",
       "      <td>Bedtime Story</td>\n",
       "      <td>Today  Is the last day  That I'm using words  ...</td>\n",
       "    </tr>\n",
       "    <tr>\n",
       "      <th>6251</th>\n",
       "      <td>Livin' Joy</td>\n",
       "      <td>Dreamer</td>\n",
       "      <td>Love, life and laughter  Is all I beleive.  My...</td>\n",
       "    </tr>\n",
       "  </tbody>\n",
       "</table>\n",
       "</div>"
      ],
      "text/plain": [
       "          artist                                 title  \\\n",
       "6247   Lost Boyz  Lifestyles Of The Rich And Shameless   \n",
       "6248     DJ Quik                          Safe + Sound   \n",
       "6249  Ty Herndon                    What Mattered Most   \n",
       "6250     Madonna                         Bedtime Story   \n",
       "6251  Livin' Joy                               Dreamer   \n",
       "\n",
       "                                                 lyrics  \n",
       "6247  >Freaky Tahverses Mr. CheeksIntro:[Freaky Tah]...  \n",
       "6248  ~Static~ \"Quik you're not a gangster we're not...  \n",
       "6249  I thought I knew the girl so well  If she was ...  \n",
       "6250  Today  Is the last day  That I'm using words  ...  \n",
       "6251  Love, life and laughter  Is all I beleive.  My...  "
      ]
     },
     "execution_count": 9,
     "metadata": {},
     "output_type": "execute_result"
    }
   ],
   "source": [
    "df.tail()"
   ]
  },
  {
   "cell_type": "code",
   "execution_count": 10,
   "metadata": {},
   "outputs": [],
   "source": [
    "# class predictors(TransformerMixin):\n",
    "#     def transform(self, X, **transform_params):\n",
    "#         return [clean_text(text) for text in X]\n",
    "\n",
    "#     def fit(self, X, y=None, **fit_params):\n",
    "#         return self\n",
    "\n",
    "#     def get_params(self, deep=True):\n",
    "#         return {}\n",
    "\n",
    "# def clean_text(text):\n",
    "#     return text.strip().lower()"
   ]
  },
  {
   "cell_type": "code",
   "execution_count": 11,
   "metadata": {},
   "outputs": [],
   "source": [
    "# idx = np.random.randint(0, 6252)\n",
    "# text = df.iloc[idx, 1]\n",
    "# text"
   ]
  },
  {
   "cell_type": "code",
   "execution_count": 12,
   "metadata": {},
   "outputs": [],
   "source": [
    "punctuations = string.punctuation\n",
    "nlp = spacy.load('en_core_web_sm')\n",
    "stop_words = spacy.lang.en.stop_words.STOP_WORDS\n",
    "parser = English()\n",
    "\n",
    "\n",
    "def remove_bracketed(song):\n",
    "    text = re.sub(\"\\[.*?\\]\", '', song)\n",
    "    text = re.sub(\"\\(.*?\\)\", '', text)\n",
    "    text = re.sub(\"\\{.*?\\}\", '', text)\n",
    "    \n",
    "    return text\n",
    "\n",
    "\n",
    "def spacy_tokenizer(text, use_stopwords=True, custom_stopwords=set()):\n",
    "    text = remove_bracketed(text)\n",
    "    mytokens = parser(text)\n",
    "    mytokens = [word.lemma_.lower().strip() if word.lemma_ != \"-PRON-\" else word.lower_ for word in mytokens ]\n",
    "    if use_stopwords:\n",
    "        mytokens = [word for word in mytokens if word not in (stop_words | custom_stopwords) and word not in punctuations ]\n",
    "    else:\n",
    "        mytokens = [word for word in mytokens if word not in punctuations ]\n",
    "\n",
    "    \n",
    "    return mytokens\n",
    "\n",
    "\n",
    "def tokenize_column(dataframe, column_name, use_stopwords=True, custom_stopwords=set()):\n",
    "    df_ = dataframe.reset_index(drop=True)\n",
    "    token_list = []\n",
    "    for song in df_[column_name]:\n",
    "        token_list.append(spacy_tokenizer(song, use_stopwords, custom_stopwords))\n",
    "    \n",
    "    return token_list\n",
    "\n"
   ]
  },
  {
   "cell_type": "code",
   "execution_count": 13,
   "metadata": {},
   "outputs": [],
   "source": [
    "lyric_stopwords = set(['hey', 'baby', 'woo', 'ha', 'like', 'oh', 'ooh', 'woah'])\n",
    "df['lyrics_tokens'] = tokenize_column(df, 'lyrics', use_stopwords=True, custom_stopwords=lyric_stopwords)"
   ]
  },
  {
   "cell_type": "code",
   "execution_count": 14,
   "metadata": {},
   "outputs": [
    {
     "data": {
      "text/html": [
       "<div>\n",
       "<style scoped>\n",
       "    .dataframe tbody tr th:only-of-type {\n",
       "        vertical-align: middle;\n",
       "    }\n",
       "\n",
       "    .dataframe tbody tr th {\n",
       "        vertical-align: top;\n",
       "    }\n",
       "\n",
       "    .dataframe thead th {\n",
       "        text-align: right;\n",
       "    }\n",
       "</style>\n",
       "<table border=\"1\" class=\"dataframe\">\n",
       "  <thead>\n",
       "    <tr style=\"text-align: right;\">\n",
       "      <th></th>\n",
       "      <th>artist</th>\n",
       "      <th>title</th>\n",
       "      <th>lyrics</th>\n",
       "      <th>lyrics_tokens</th>\n",
       "    </tr>\n",
       "  </thead>\n",
       "  <tbody>\n",
       "    <tr>\n",
       "      <th>0</th>\n",
       "      <td>Drake</td>\n",
       "      <td>Toosie Slide</td>\n",
       "      <td>Black leather gloves, no sequins (Yeah, yeah, ...</td>\n",
       "      <td>[black, leather, glove, sequin, buckles, jacke...</td>\n",
       "    </tr>\n",
       "    <tr>\n",
       "      <th>1</th>\n",
       "      <td>Roddy Ricch</td>\n",
       "      <td>The Box</td>\n",
       "      <td>Pullin' out the coupe at the lot  Told 'em fuc...</td>\n",
       "      <td>[pullin, coupe, lot, told, 'em, fuck, 12, fuck...</td>\n",
       "    </tr>\n",
       "    <tr>\n",
       "      <th>2</th>\n",
       "      <td>Dua Lipa</td>\n",
       "      <td>Don't Start Now</td>\n",
       "      <td>If you don't wanna see me  Did a full 180, cra...</td>\n",
       "      <td>[wanna, 180, crazy, thinking, way, heartbreak,...</td>\n",
       "    </tr>\n",
       "    <tr>\n",
       "      <th>3</th>\n",
       "      <td>Doja Cat</td>\n",
       "      <td>Say So</td>\n",
       "      <td>Day and night til morning, keeping me in the m...</td>\n",
       "      <td>[day, night, til, morning, moment, let, know, ...</td>\n",
       "    </tr>\n",
       "    <tr>\n",
       "      <th>4</th>\n",
       "      <td>Post Malone</td>\n",
       "      <td>Circles</td>\n",
       "      <td>Hey, hey, hey, hey  Oh, oh, oh-oh  Oh, oh, oh-...</td>\n",
       "      <td>[turn, til, upside, bad, guy, proud, try, beli...</td>\n",
       "    </tr>\n",
       "    <tr>\n",
       "      <th>5</th>\n",
       "      <td>Justin Bieber Featuring Quavo</td>\n",
       "      <td>Intentions</td>\n",
       "      <td>Picture perfect, you don't need no filter  Gor...</td>\n",
       "      <td>[picture, perfect, need, filter, gorgeous, 'em...</td>\n",
       "    </tr>\n",
       "    <tr>\n",
       "      <th>6</th>\n",
       "      <td>DaBaby Featuring Roddy Ricch</td>\n",
       "      <td>ROCKSTAR</td>\n",
       "      <td>Woo, woo  I pull up like  How you pull up, Bab...</td>\n",
       "      <td>[pull, pull, pull, pull, pull, let, brand, new...</td>\n",
       "    </tr>\n",
       "    <tr>\n",
       "      <th>7</th>\n",
       "      <td>Future Featuring Drake</td>\n",
       "      <td>Life Is Good</td>\n",
       "      <td>Workin' on the weekend like usual  Way off in ...</td>\n",
       "      <td>[workin, weekend, usual, way, deep, end, usual...</td>\n",
       "    </tr>\n",
       "    <tr>\n",
       "      <th>8</th>\n",
       "      <td>Billie Eilish</td>\n",
       "      <td>everything i wanted</td>\n",
       "      <td>I had a dream  I got everything I wanted  Not ...</td>\n",
       "      <td>[dream, want, think, bein, honest, nightmare, ...</td>\n",
       "    </tr>\n",
       "    <tr>\n",
       "      <th>9</th>\n",
       "      <td>Camila Cabello Featuring DaBaby</td>\n",
       "      <td>My Oh My</td>\n",
       "      <td>Ha, ha, ha, ha  They say he likes a good time ...</td>\n",
       "      <td>[good, time, come, alive, midnight, mama, trus...</td>\n",
       "    </tr>\n",
       "  </tbody>\n",
       "</table>\n",
       "</div>"
      ],
      "text/plain": [
       "                            artist                title  \\\n",
       "0                            Drake         Toosie Slide   \n",
       "1                      Roddy Ricch              The Box   \n",
       "2                         Dua Lipa      Don't Start Now   \n",
       "3                         Doja Cat               Say So   \n",
       "4                      Post Malone              Circles   \n",
       "5    Justin Bieber Featuring Quavo           Intentions   \n",
       "6     DaBaby Featuring Roddy Ricch             ROCKSTAR   \n",
       "7           Future Featuring Drake         Life Is Good   \n",
       "8                    Billie Eilish  everything i wanted   \n",
       "9  Camila Cabello Featuring DaBaby             My Oh My   \n",
       "\n",
       "                                              lyrics  \\\n",
       "0  Black leather gloves, no sequins (Yeah, yeah, ...   \n",
       "1  Pullin' out the coupe at the lot  Told 'em fuc...   \n",
       "2  If you don't wanna see me  Did a full 180, cra...   \n",
       "3  Day and night til morning, keeping me in the m...   \n",
       "4  Hey, hey, hey, hey  Oh, oh, oh-oh  Oh, oh, oh-...   \n",
       "5  Picture perfect, you don't need no filter  Gor...   \n",
       "6  Woo, woo  I pull up like  How you pull up, Bab...   \n",
       "7  Workin' on the weekend like usual  Way off in ...   \n",
       "8  I had a dream  I got everything I wanted  Not ...   \n",
       "9  Ha, ha, ha, ha  They say he likes a good time ...   \n",
       "\n",
       "                                       lyrics_tokens  \n",
       "0  [black, leather, glove, sequin, buckles, jacke...  \n",
       "1  [pullin, coupe, lot, told, 'em, fuck, 12, fuck...  \n",
       "2  [wanna, 180, crazy, thinking, way, heartbreak,...  \n",
       "3  [day, night, til, morning, moment, let, know, ...  \n",
       "4  [turn, til, upside, bad, guy, proud, try, beli...  \n",
       "5  [picture, perfect, need, filter, gorgeous, 'em...  \n",
       "6  [pull, pull, pull, pull, pull, let, brand, new...  \n",
       "7  [workin, weekend, usual, way, deep, end, usual...  \n",
       "8  [dream, want, think, bein, honest, nightmare, ...  \n",
       "9  [good, time, come, alive, midnight, mama, trus...  "
      ]
     },
     "execution_count": 14,
     "metadata": {},
     "output_type": "execute_result"
    }
   ],
   "source": [
    "df.head(10)"
   ]
  },
  {
   "cell_type": "code",
   "execution_count": 15,
   "metadata": {},
   "outputs": [],
   "source": [
    "idx = np.random.randint(0, 6252)"
   ]
  },
  {
   "cell_type": "code",
   "execution_count": 16,
   "metadata": {},
   "outputs": [
    {
     "name": "stdout",
     "output_type": "stream",
     "text": [
      "Of Monsters And Men  -  Little Talks \n",
      "\n",
      "-----\n",
      "\n",
      " Hey! Hey! Hey!  I don't like walking around this old and empty house  So hold my hand, I'll walk with you my dear   The stairs creak as I sleep, it's keeping me awake  It's the house telling you to close your eyes  Some days I can't even trust myself  It's killing me to see you this way    'Cause though the truth may vary  This ship will carry  Our bodies safe to shore    Hey! Hey! Hey!  There's an old voice in my head that's holding me back  Well tell her that I miss our little talks  Soon it will all be over and buried with our past  We used to play outside when we were young,  And full of life and full of love    Some days I don't know if I am wrong or right  Your mind is playing tricks on you, my dear    'Cause though the truth may vary  This ship will carry  Our bodies safe to shore    Hey!  Don't listen to a word I say  Hey!  The screams all sound the same  Hey!    Though the truth may vary  This ship will carry  Our bodies safe to shore    You're gone gone gone away  I watched you disappear  All that's left is a ghost of you  Now we're torn torn torn apart, there's nothing we can do  Just let me go we'll meet again soon  Now wait wait wait for me  Please hang around  I'll see you when I fall asleep    Hey!  Don't listen to a word I say  Hey!  The screams all sound the same  Hey!    Though the truth may vary  This ship will carry  Our bodies safe to shore    Don't listen to a word I say  Hey!  The screams all sound the same  Hey!    Though the truth may vary  This ship will carry  Our bodies safe to shore    Though the truth may vary  This ship will carry  Our bodies safe to shore    Though the truth may vary  This ship will carry  Our bodies safe to shore \n",
      "\n",
      "-----\n",
      "\n",
      " ['walk', 'old', 'house', 'hold', 'hand', 'walk', 'dear', 'stair', 'creak', 'sleep', 'awake', 'house', 'tell', 'close', 'eye', 'day', 'trust', 'kill', 'way', 'truth', 'vary', 'ship', 'carry', 'body', 'safe', 'shore', 'old', 'voice', 'head', 'hold', 'tell', 'miss', 'little', 'talk', 'soon', 'bury', 'past', 'use', 'play', 'outside', 'young', 'life', 'love', 'day', 'know', 'wrong', 'right', 'mind', 'play', 'trick', 'dear', 'truth', 'vary', 'ship', 'carry', 'body', 'safe', 'shore', 'listen', 'word', 'scream', 'sound', 'truth', 'vary', 'ship', 'carry', 'body', 'safe', 'shore', 'away', 'watch', 'disappear', 'leave', 'ghost', 'tear', 'tear', 'tear', 'apart', 'let', 'meet', 'soon', 'wait', 'wait', 'wait', 'hang', 'fall', 'asleep', 'listen', 'word', 'scream', 'sound', 'truth', 'vary', 'ship', 'carry', 'body', 'safe', 'shore', 'listen', 'word', 'scream', 'sound', 'truth', 'vary', 'ship', 'carry', 'body', 'safe', 'shore', 'truth', 'vary', 'ship', 'carry', 'body', 'safe', 'shore', 'truth', 'vary', 'ship', 'carry', 'body', 'safe', 'shore']\n"
     ]
    }
   ],
   "source": [
    "print(df.iloc[idx, 0], ' - ', df.iloc[idx, 1],'\\n\\n-----\\n\\n', df.iloc[idx, 2], '\\n\\n-----\\n\\n', df.iloc[idx, 3])"
   ]
  },
  {
   "cell_type": "code",
   "execution_count": 17,
   "metadata": {},
   "outputs": [],
   "source": [
    "barbra = df[df['artist'] == 'Duck Sauce']['lyrics'][2191]"
   ]
  },
  {
   "cell_type": "code",
   "execution_count": 18,
   "metadata": {},
   "outputs": [
    {
     "data": {
      "text/plain": [
       "'Barbra Streisand  Woowoowoowoowoowoowoowoowoowoowoowoowoowoowoowoowoowoow  Oowoowoowoowoowoowoowoowoowoowoowoowoowoowoowoowoowoowo   Owoowoowoowoowoo  Barbra Streisand    Woowoowoowoowoowoowoowoowoowoowoowoowoowoowoowoowoowoow  Oowoowoowoowoowoowoowoowoowoowoowoowoowoowoowoowoowoowo  Owoowoowoowoowoo    Barbra Streisand    Woowoowoowoowoowoowoowoowoowoowoowoowoowoowoowoowoowoow  Oowoowoowoowoowoowoowoowoowoowoowoowoowoowoowoowoowoowo  Owoowoowoowoowoo    Barbra Streisand    Woowoowoowoowoowoowoowoowoowoowoowoowoowoowoowoowoowoow  Oowoowoowoowoowoowoowoowoowoowoowoowoowoowoowoowoowoowo  Owoowoowoowoowoowoowoowoowoowoowoowoowoowoowoowoowoowoo  Woowoowoowoowoowoowoowoowoowoowoowoowoowoowoowoowoowoow  Oowoowoowoowoowoowoowoowoowoowoowoowoo    Barbra Streisand    Woowoowoowoowoowoowoowoowoowoowoowoowoowoowoowoowoowoow  Oowoowoowoowoowoowoowoowoowoowoowoowoowoowoowoowoowoowo  Owoowoowoowoowoo    Barbra Streisand    Wowowo wowowo wowowowoowoo  Woowoowoowoowoowoowoowoowoowoowoo wowowo wowowo  Wowowowoowoo woowoowoowoowoowoowoowoowoo    Barbra Streisand    Woowoowoowoowoowoowoowoowoowoowoowoowoowoowoowoowoowoow  Oowoowoowoowoowoowoowoowoowoowoowoowoowoowoowoowoowoowo  Owoowoowoowoowoo    Barbra Streisand    Barbra Streisand    (Merci à Hugo pour cettes paroles)'"
      ]
     },
     "execution_count": 18,
     "metadata": {},
     "output_type": "execute_result"
    }
   ],
   "source": [
    "barbra"
   ]
  },
  {
   "cell_type": "code",
   "execution_count": 19,
   "metadata": {},
   "outputs": [
    {
     "data": {
      "text/plain": [
       "{'(merci',\n",
       " 'barbra',\n",
       " 'cettes',\n",
       " 'hugo',\n",
       " 'o',\n",
       " 'oo',\n",
       " 'paroles)',\n",
       " 'pour',\n",
       " 'streisand',\n",
       " 'w',\n",
       " 'à'}"
      ]
     },
     "execution_count": 19,
     "metadata": {},
     "output_type": "execute_result"
    }
   ],
   "source": [
    "set((re.sub(\"woo*\", '', barbra.lower())).split())"
   ]
  },
  {
   "cell_type": "code",
   "execution_count": 20,
   "metadata": {},
   "outputs": [
    {
     "data": {
      "text/html": [
       "<div>\n",
       "<style scoped>\n",
       "    .dataframe tbody tr th:only-of-type {\n",
       "        vertical-align: middle;\n",
       "    }\n",
       "\n",
       "    .dataframe tbody tr th {\n",
       "        vertical-align: top;\n",
       "    }\n",
       "\n",
       "    .dataframe thead th {\n",
       "        text-align: right;\n",
       "    }\n",
       "</style>\n",
       "<table border=\"1\" class=\"dataframe\">\n",
       "  <thead>\n",
       "    <tr style=\"text-align: right;\">\n",
       "      <th></th>\n",
       "      <th>artist</th>\n",
       "      <th>title</th>\n",
       "      <th>lyrics</th>\n",
       "      <th>lyrics_tokens</th>\n",
       "    </tr>\n",
       "  </thead>\n",
       "  <tbody>\n",
       "    <tr>\n",
       "      <th>0</th>\n",
       "      <td>Drake</td>\n",
       "      <td>Toosie Slide</td>\n",
       "      <td>Black leather gloves, no sequins (Yeah, yeah, ...</td>\n",
       "      <td>[black, leather, glove, sequin, buckles, jacke...</td>\n",
       "    </tr>\n",
       "    <tr>\n",
       "      <th>1</th>\n",
       "      <td>Roddy Ricch</td>\n",
       "      <td>The Box</td>\n",
       "      <td>Pullin' out the coupe at the lot  Told 'em fuc...</td>\n",
       "      <td>[pullin, coupe, lot, told, 'em, fuck, 12, fuck...</td>\n",
       "    </tr>\n",
       "    <tr>\n",
       "      <th>2</th>\n",
       "      <td>Dua Lipa</td>\n",
       "      <td>Don't Start Now</td>\n",
       "      <td>If you don't wanna see me  Did a full 180, cra...</td>\n",
       "      <td>[wanna, 180, crazy, thinking, way, heartbreak,...</td>\n",
       "    </tr>\n",
       "    <tr>\n",
       "      <th>3</th>\n",
       "      <td>Doja Cat</td>\n",
       "      <td>Say So</td>\n",
       "      <td>Day and night til morning, keeping me in the m...</td>\n",
       "      <td>[day, night, til, morning, moment, let, know, ...</td>\n",
       "    </tr>\n",
       "    <tr>\n",
       "      <th>4</th>\n",
       "      <td>Post Malone</td>\n",
       "      <td>Circles</td>\n",
       "      <td>Hey, hey, hey, hey  Oh, oh, oh-oh  Oh, oh, oh-...</td>\n",
       "      <td>[turn, til, upside, bad, guy, proud, try, beli...</td>\n",
       "    </tr>\n",
       "  </tbody>\n",
       "</table>\n",
       "</div>"
      ],
      "text/plain": [
       "        artist            title  \\\n",
       "0        Drake     Toosie Slide   \n",
       "1  Roddy Ricch          The Box   \n",
       "2     Dua Lipa  Don't Start Now   \n",
       "3     Doja Cat           Say So   \n",
       "4  Post Malone          Circles   \n",
       "\n",
       "                                              lyrics  \\\n",
       "0  Black leather gloves, no sequins (Yeah, yeah, ...   \n",
       "1  Pullin' out the coupe at the lot  Told 'em fuc...   \n",
       "2  If you don't wanna see me  Did a full 180, cra...   \n",
       "3  Day and night til morning, keeping me in the m...   \n",
       "4  Hey, hey, hey, hey  Oh, oh, oh-oh  Oh, oh, oh-...   \n",
       "\n",
       "                                       lyrics_tokens  \n",
       "0  [black, leather, glove, sequin, buckles, jacke...  \n",
       "1  [pullin, coupe, lot, told, 'em, fuck, 12, fuck...  \n",
       "2  [wanna, 180, crazy, thinking, way, heartbreak,...  \n",
       "3  [day, night, til, morning, moment, let, know, ...  \n",
       "4  [turn, til, upside, bad, guy, proud, try, beli...  "
      ]
     },
     "execution_count": 20,
     "metadata": {},
     "output_type": "execute_result"
    }
   ],
   "source": [
    "df.head()"
   ]
  },
  {
   "cell_type": "code",
   "execution_count": 21,
   "metadata": {},
   "outputs": [
    {
     "data": {
      "text/plain": [
       "4"
      ]
     },
     "execution_count": 21,
     "metadata": {},
     "output_type": "execute_result"
    }
   ],
   "source": [
    "len(df.columns)"
   ]
  },
  {
   "cell_type": "code",
   "execution_count": 22,
   "metadata": {},
   "outputs": [],
   "source": [
    "df['word_count'] = 0\n",
    "df['unique_word_count'] = 0\n",
    "for idx, row in enumerate(df['lyrics']):\n",
    "    df.iloc[idx, len(df.columns)-2] = len(row.split())\n",
    "    df.iloc[idx, len(df.columns)-1] = len(set(row.split()))\n",
    "\n",
    "    \n",
    "df['token_count'] = 0\n",
    "df['unique_token_count'] = 0\n",
    "for idx, row in enumerate(df['lyrics_tokens']):\n",
    "    df.iloc[idx, len(df.columns)-2] = len(row)\n",
    "    df.iloc[idx, len(df.columns)-1] = len(set(row))"
   ]
  },
  {
   "cell_type": "code",
   "execution_count": 23,
   "metadata": {},
   "outputs": [
    {
     "data": {
      "text/html": [
       "<div>\n",
       "<style scoped>\n",
       "    .dataframe tbody tr th:only-of-type {\n",
       "        vertical-align: middle;\n",
       "    }\n",
       "\n",
       "    .dataframe tbody tr th {\n",
       "        vertical-align: top;\n",
       "    }\n",
       "\n",
       "    .dataframe thead th {\n",
       "        text-align: right;\n",
       "    }\n",
       "</style>\n",
       "<table border=\"1\" class=\"dataframe\">\n",
       "  <thead>\n",
       "    <tr style=\"text-align: right;\">\n",
       "      <th></th>\n",
       "      <th>artist</th>\n",
       "      <th>title</th>\n",
       "      <th>lyrics</th>\n",
       "      <th>lyrics_tokens</th>\n",
       "      <th>word_count</th>\n",
       "      <th>unique_word_count</th>\n",
       "      <th>token_count</th>\n",
       "      <th>unique_token_count</th>\n",
       "    </tr>\n",
       "  </thead>\n",
       "  <tbody>\n",
       "    <tr>\n",
       "      <th>0</th>\n",
       "      <td>Drake</td>\n",
       "      <td>Toosie Slide</td>\n",
       "      <td>Black leather gloves, no sequins (Yeah, yeah, ...</td>\n",
       "      <td>[black, leather, glove, sequin, buckles, jacke...</td>\n",
       "      <td>447</td>\n",
       "      <td>166</td>\n",
       "      <td>192</td>\n",
       "      <td>71</td>\n",
       "    </tr>\n",
       "    <tr>\n",
       "      <th>1</th>\n",
       "      <td>Roddy Ricch</td>\n",
       "      <td>The Box</td>\n",
       "      <td>Pullin' out the coupe at the lot  Told 'em fuc...</td>\n",
       "      <td>[pullin, coupe, lot, told, 'em, fuck, 12, fuck...</td>\n",
       "      <td>551</td>\n",
       "      <td>209</td>\n",
       "      <td>240</td>\n",
       "      <td>124</td>\n",
       "    </tr>\n",
       "    <tr>\n",
       "      <th>2</th>\n",
       "      <td>Dua Lipa</td>\n",
       "      <td>Don't Start Now</td>\n",
       "      <td>If you don't wanna see me  Did a full 180, cra...</td>\n",
       "      <td>[wanna, 180, crazy, thinking, way, heartbreak,...</td>\n",
       "      <td>304</td>\n",
       "      <td>100</td>\n",
       "      <td>79</td>\n",
       "      <td>30</td>\n",
       "    </tr>\n",
       "    <tr>\n",
       "      <th>3</th>\n",
       "      <td>Doja Cat</td>\n",
       "      <td>Say So</td>\n",
       "      <td>Day and night til morning, keeping me in the m...</td>\n",
       "      <td>[day, night, til, morning, moment, let, know, ...</td>\n",
       "      <td>446</td>\n",
       "      <td>164</td>\n",
       "      <td>130</td>\n",
       "      <td>74</td>\n",
       "    </tr>\n",
       "    <tr>\n",
       "      <th>4</th>\n",
       "      <td>Post Malone</td>\n",
       "      <td>Circles</td>\n",
       "      <td>Hey, hey, hey, hey  Oh, oh, oh-oh  Oh, oh, oh-...</td>\n",
       "      <td>[turn, til, upside, bad, guy, proud, try, beli...</td>\n",
       "      <td>318</td>\n",
       "      <td>118</td>\n",
       "      <td>119</td>\n",
       "      <td>37</td>\n",
       "    </tr>\n",
       "  </tbody>\n",
       "</table>\n",
       "</div>"
      ],
      "text/plain": [
       "        artist            title  \\\n",
       "0        Drake     Toosie Slide   \n",
       "1  Roddy Ricch          The Box   \n",
       "2     Dua Lipa  Don't Start Now   \n",
       "3     Doja Cat           Say So   \n",
       "4  Post Malone          Circles   \n",
       "\n",
       "                                              lyrics  \\\n",
       "0  Black leather gloves, no sequins (Yeah, yeah, ...   \n",
       "1  Pullin' out the coupe at the lot  Told 'em fuc...   \n",
       "2  If you don't wanna see me  Did a full 180, cra...   \n",
       "3  Day and night til morning, keeping me in the m...   \n",
       "4  Hey, hey, hey, hey  Oh, oh, oh-oh  Oh, oh, oh-...   \n",
       "\n",
       "                                       lyrics_tokens  word_count  \\\n",
       "0  [black, leather, glove, sequin, buckles, jacke...         447   \n",
       "1  [pullin, coupe, lot, told, 'em, fuck, 12, fuck...         551   \n",
       "2  [wanna, 180, crazy, thinking, way, heartbreak,...         304   \n",
       "3  [day, night, til, morning, moment, let, know, ...         446   \n",
       "4  [turn, til, upside, bad, guy, proud, try, beli...         318   \n",
       "\n",
       "   unique_word_count  token_count  unique_token_count  \n",
       "0                166          192                  71  \n",
       "1                209          240                 124  \n",
       "2                100           79                  30  \n",
       "3                164          130                  74  \n",
       "4                118          119                  37  "
      ]
     },
     "execution_count": 23,
     "metadata": {},
     "output_type": "execute_result"
    }
   ],
   "source": [
    "df.head()"
   ]
  },
  {
   "cell_type": "code",
   "execution_count": 70,
   "metadata": {},
   "outputs": [
    {
     "data": {
      "image/png": "[encoded data removed]",
      "text/plain": [
       "<Figure size 720x432 with 2 Axes>"
      ]
     },
     "metadata": {},
     "output_type": "display_data"
    }
   ],
   "source": [
    "fig, ax = plt.subplots(2, 1, figsize=(10, 6), sharex=True, sharey=True)\n",
    "ax[0].hist(df['word_count'], bins=100, label='Word Count', alpha=.25)\n",
    "ax[0].hist(df['token_count'], bins=100, label='Token Count', alpha=.25)\n",
    "ax[1].hist(df['unique_word_count'], bins=100, label='Unique Word Count', alpha=.25)\n",
    "ax[1].hist(df['unique_token_count'], bins=100, label='Unique Token Count', alpha=.25)\n",
    "ax[0].legend(loc='best')\n",
    "ax[1].legend(loc='best');"
   ]
  },
  {
   "cell_type": "code",
   "execution_count": 57,
   "metadata": {},
   "outputs": [
    {
     "data": {
      "text/plain": [
       "''"
      ]
     },
     "execution_count": 57,
     "metadata": {},
     "output_type": "execute_result"
    },
    {
     "data": {
      "image/png": "[encoded data removed]",
      "text/plain": [
       "<Figure size 720x720 with 2 Axes>"
      ]
     },
     "metadata": {},
     "output_type": "display_data"
    }
   ],
   "source": [
    "fig, ax = plt.subplots(2, 1, figsize=(10, 10), sharex=True, sharey=True)\n",
    "ax[0].scatter(df['word_count'], df['unique_word_count'])\n",
    "ax[1].scatter(df['token_count'], df['unique_token_count'])\n",
    "ax[0].set_xlabel('Word Count')\n",
    "ax[1].set_xlabel('Token Count')\n",
    "ax[0].set_ylabel('Unique Word Count')\n",
    "ax[1].set_ylabel('Unique Token Count')\n",
    ";"
   ]
  },
  {
   "cell_type": "code",
   "execution_count": 55,
   "metadata": {},
   "outputs": [
    {
     "data": {
      "text/html": [
       "<div>\n",
       "<style scoped>\n",
       "    .dataframe tbody tr th:only-of-type {\n",
       "        vertical-align: middle;\n",
       "    }\n",
       "\n",
       "    .dataframe tbody tr th {\n",
       "        vertical-align: top;\n",
       "    }\n",
       "\n",
       "    .dataframe thead th {\n",
       "        text-align: right;\n",
       "    }\n",
       "</style>\n",
       "<table border=\"1\" class=\"dataframe\">\n",
       "  <thead>\n",
       "    <tr style=\"text-align: right;\">\n",
       "      <th></th>\n",
       "      <th>artist</th>\n",
       "      <th>title</th>\n",
       "      <th>lyrics</th>\n",
       "      <th>lyrics_tokens</th>\n",
       "      <th>word_count</th>\n",
       "      <th>unique_word_count</th>\n",
       "      <th>token_count</th>\n",
       "      <th>unique_token_count</th>\n",
       "    </tr>\n",
       "  </thead>\n",
       "  <tbody>\n",
       "    <tr>\n",
       "      <th>6147</th>\n",
       "      <td>Nicki French</td>\n",
       "      <td>Total Eclipse Of The Heart</td>\n",
       "      <td>Turnaround, Every now and then I get a little ...</td>\n",
       "      <td>[turnaround, little, bite, lonely, come, round...</td>\n",
       "      <td>1186</td>\n",
       "      <td>143</td>\n",
       "      <td>384</td>\n",
       "      <td>59</td>\n",
       "    </tr>\n",
       "  </tbody>\n",
       "</table>\n",
       "</div>"
      ],
      "text/plain": [
       "            artist                       title  \\\n",
       "6147  Nicki French  Total Eclipse Of The Heart   \n",
       "\n",
       "                                                 lyrics  \\\n",
       "6147  Turnaround, Every now and then I get a little ...   \n",
       "\n",
       "                                          lyrics_tokens  word_count  \\\n",
       "6147  [turnaround, little, bite, lonely, come, round...        1186   \n",
       "\n",
       "      unique_word_count  token_count  unique_token_count  \n",
       "6147                143          384                  59  "
      ]
     },
     "execution_count": 55,
     "metadata": {},
     "output_type": "execute_result"
    }
   ],
   "source": [
    "df[(df['word_count'] > 1100) & (df['unique_word_count'] < 200)]"
   ]
  },
  {
   "cell_type": "code",
   "execution_count": 83,
   "metadata": {},
   "outputs": [
    {
     "name": "stdout",
     "output_type": "stream",
     "text": [
      "0.1205733558178752\n"
     ]
    }
   ],
   "source": [
    "idx = df[(df['word_count'] > 1100) & (df['unique_word_count'] < 200)].index[0]\n",
    "wc = df.iloc[idx,:]['word_count']\n",
    "unique = df.iloc[idx,:]['unique_word_count']\n",
    "print(unique / wc)"
   ]
  },
  {
   "cell_type": "code",
   "execution_count": 85,
   "metadata": {
    "scrolled": true
   },
   "outputs": [
    {
     "data": {
      "text/plain": [
       "\"Turnaround, Every now and then I get a little bit lonely and you're never coming round  Turnaround, Every now and then I get a little bit tired of listening to the sound of my tears  Turnaround, Every now and then I get a little bit nervous that the best of all the years have gone by   Turnaround, Every now and then I get a little bit terrified and then I see the look in your eyes  Turnaround bright eyes, Every now and then I fall apart  Turnaround bright eyes, Every now and then I fall apart    Turnaround, Every now and then I get a little bit restless and I dream of something wild  Turnaround, Every now and then I get a little bit helpless and I'm lying like a child in your arms  Turnaround, Every now and then I get a little bit angry and I know I've got to get out and cry  Turnaround, Every now and then I get a little bit terrified but then I see the look in your eyes  Turnaround bright eyes, Every now and then I fall apart  Turnaround bright eyes, Every now and then I fall apart    And I need you now tonight  And I need you more than ever  And if you only hold me tight  We'll be holding on forever  And we'll only be making it right  Cause we'll never be wrong together  We can take it to the end of the line  Your love is like a shadow on me all of the time  I don't know what to do and I'm always in the dark  We're living in a powder keg and giving off sparks  I really need you tonight  Forever's gonna start tonight  Forever's gonna start tonight    Once upon a time I was falling in love  But now I'm only falling apart  There's nothing I can do  A total eclipse of the heart  Once upon a time there was light in my life  But now there's only love in the dark  Nothing I can say  A total eclipse of the heart    INSTRUMENTAL    Turnaround bright eyes  Turnaround bright eyes  Turnaround, Every now and then I know you'll never be the boy you always wanted to be  Turnaround, Every now then I know you'll always be the only boy who wanted me the way that I am  Turnaround, Every now and then I know there's no one in the universe as magical and wonderous as you  Turnaround, Every now and then I know there's nothing any better and there's nothing that I just wouldn't do  Turnaround bright eyes, Every now and then I fall apart  Turnaround bright eyes, Every now and then I fall apart    And I need you now tonight  And I need you more than ever  And if you'll only hold me tight  We'll be holding on forever  And we'll only be making it right  Cause we'll never be wrong together  We can take it to the end of the line  Your love is like a shadow on me all of the time  I don't know what to do and I'm always in the dark  We're living in a powder keg and giving off sparks  I really need you tonight  Forever's gonna start tonight  Forever's gonna start tonight    Once upon a time I was falling in love  But now I'm only falling apart  Nothing I can do  A total eclipse of the heart  Once upon a time there was light in my life  But now there's only love in the dark  Nothing I can say  A total eclipse of the heart  Turnaround, Every now and then I get a little bit lonely and you're never coming round  Turnaround, Every now and then I get a little bit tired of listening to the sound of my tears  Turnaround, Every now and then I get a little bit nervous that the best of all the years have gone by  Turnaround, Every now and then I get a little bit terrified and then I see the look in your eyes  Turnaround bright eyes, Every now and then I fall apart  Turnaround bright eyes, Every now and then I fall apart    Turnaround, Every now and then I get a little bit restless and I dream of something wild  Turnaround, Every now and then I get a little bit helpless and I'm lying like a child in your arms  Turnaround, Every now and then I get a little bit angry and I know I've got to get out and cry  Turnaround, Every now and then I get a little bit terrified but then I see the look in your eyes  Turnaround bright eyes, Every now and then I fall apart  Turnaround bright eyes, Every now and then I fall apart    And I need you now tonight  And I need you more than ever  And if you only hold me tight  We'll be holding on forever  And we'll only be making it right  Cause we'll never be wrong together  We can take it to the end of the line  Your love is like a shadow on me all of the time  I don't know what to do and I'm always in the dark  We're living in a powder keg and giving off sparks  I really need you tonight  Forever's gonna start tonight  Forever's gonna start tonight    Once upon a time I was falling in love  But now I'm only falling apart  There's nothing I can do  A total eclipse of the heart  Once upon a time there was light in my life  But now there's only love in the dark  Nothing I can say  A total eclipse of the heart    INSTRUMENTAL    Turnaround bright eyes  Turnaround bright eyes  Turnaround, Every now and then I know you'll never be the boy you always wanted to be  Turnaround, Every now then I know you'll always be the only boy who wanted me the way that I am  Turnaround, Every now and then I know there's no one in the universe as magical and wonderous as you  Turnaround, Every now and then I know there's nothing any better and there's nothing that I just wouldn't do  Turnaround bright eyes, Every now and then I fall apart  Turnaround bright eyes, Every now and then I fall apart    And I need you now tonight  And I need you more than ever  And if you'll only hold me tight  We'll be holding on forever  And we'll only be making it right  Cause we'll never be wrong together  We can take it to the end of the line  Your love is like a shadow on me all of the time  I don't know what to do and I'm always in the dark  We're living in a powder keg and giving off sparks  I really need you tonight  Forever's gonna start tonight  Forever's gonna start tonight    Once upon a time I was falling in love  But now I'm only falling apart  Nothing I can do  A total eclipse of the heart  Once upon a time there was light in my life  But now there's only love in the dark  Nothing I can say  A total eclipse of the heart\""
      ]
     },
     "execution_count": 85,
     "metadata": {},
     "output_type": "execute_result"
    }
   ],
   "source": [
    "df.iloc[idx,:]['lyrics']"
   ]
  },
  {
   "cell_type": "code",
   "execution_count": 58,
   "metadata": {},
   "outputs": [
    {
     "data": {
      "text/html": [
       "<div>\n",
       "<style scoped>\n",
       "    .dataframe tbody tr th:only-of-type {\n",
       "        vertical-align: middle;\n",
       "    }\n",
       "\n",
       "    .dataframe tbody tr th {\n",
       "        vertical-align: top;\n",
       "    }\n",
       "\n",
       "    .dataframe thead th {\n",
       "        text-align: right;\n",
       "    }\n",
       "</style>\n",
       "<table border=\"1\" class=\"dataframe\">\n",
       "  <thead>\n",
       "    <tr style=\"text-align: right;\">\n",
       "      <th></th>\n",
       "      <th>artist</th>\n",
       "      <th>title</th>\n",
       "      <th>lyrics</th>\n",
       "      <th>lyrics_tokens</th>\n",
       "      <th>word_count</th>\n",
       "      <th>unique_word_count</th>\n",
       "      <th>token_count</th>\n",
       "      <th>unique_token_count</th>\n",
       "    </tr>\n",
       "  </thead>\n",
       "  <tbody>\n",
       "    <tr>\n",
       "      <th>6127</th>\n",
       "      <td>Kool G Rap</td>\n",
       "      <td>Fast Life</td>\n",
       "      <td>(feat. Nas)  The time has come, we gotta expan...</td>\n",
       "      <td>[time, come, expand, operation, distribution, ...</td>\n",
       "      <td>732</td>\n",
       "      <td>477</td>\n",
       "      <td>369</td>\n",
       "      <td>316</td>\n",
       "    </tr>\n",
       "  </tbody>\n",
       "</table>\n",
       "</div>"
      ],
      "text/plain": [
       "          artist      title  \\\n",
       "6127  Kool G Rap  Fast Life   \n",
       "\n",
       "                                                 lyrics  \\\n",
       "6127  (feat. Nas)  The time has come, we gotta expan...   \n",
       "\n",
       "                                          lyrics_tokens  word_count  \\\n",
       "6127  [time, come, expand, operation, distribution, ...         732   \n",
       "\n",
       "      unique_word_count  token_count  unique_token_count  \n",
       "6127                477          369                 316  "
      ]
     },
     "execution_count": 58,
     "metadata": {},
     "output_type": "execute_result"
    }
   ],
   "source": [
    "df[(df['word_count'] < 750) & (df['unique_word_count'] > 450)]"
   ]
  },
  {
   "cell_type": "code",
   "execution_count": 81,
   "metadata": {},
   "outputs": [
    {
     "name": "stdout",
     "output_type": "stream",
     "text": [
      "0.6516393442622951\n"
     ]
    }
   ],
   "source": [
    "idx = df[(df['word_count'] < 750) & (df['unique_word_count'] > 450)].index[0]\n",
    "wc = df.iloc[idx,:]['word_count']\n",
    "unique = df.iloc[idx,:]['unique_word_count']\n",
    "print(unique / wc)"
   ]
  },
  {
   "cell_type": "code",
   "execution_count": 82,
   "metadata": {
    "scrolled": true
   },
   "outputs": [
    {
     "data": {
      "text/plain": [
       "'(feat. Nas)  The time has come, we gotta expand, the whole operation   Distribution, New York, to Chicago, L.A.  We gotta set our own market, and enforce it  [Verse One: Kool G Rap]    Champagne wishes of caviar dreams ?a penis didn\\'t cream?  With sales of fish scales from triple beams I gleam  Livin the live of rowdy packin fifty cali\\'s  Rockin lizard Bally\\'s while we do our drug deal in a dark alley  Up in casinos just me and my dino primo  Pushin beam-o\\'s then parlay in Reno with two fly latinos  Nas, he runs the whole staff, we count mad for seen bad  We\\'ve seen a half a milli dashin out there on the Queens half  Three major players gettin papers by the layers  And those that portray us on the block get rocked like Domateus  Fakers get used to shootin targets, soon as the dark hits  Front on the drug market, bodies get rolled up in a carpet  Those that cheat us try to beat us we got hookers with heaters  that\\'ll stray pop and put more shells in your top than Adidas  Da leaders, lookin straight crimy in our Giorgio Armani\\'s  You wanna harm me and Nas you gots ta come get through a whole army  The celo rollers money folders sippin bola holdin mad payola  Slangin a Coke without the Cola  Me and black don\\'t fake jacks but we might sling one  It ain\\'t no shame in our game we do our thing son    [Chorus]    Livin the fast life, in fast cars  Everywhere we go, people know who we are  A team from out of Queens with the american dream  So we\\'re plottin up a scheme to get the seven figure cream  [x2]    [Verse Two: Nas Escobar]    Yo I got, guns from Italy, smoke trees, considerably  Mid-state and Green it seems, is where all my niggaz be  The ghetto misery, shootouts and liquor stores  A perpendicular, angle of the clout war  Police searchin up my Lex over who\\'s petrol  My tech blows straight off the roof and tests yo\\' respect though  But dough don\\'t respect me, it got me handcuffed  The rough life, I just be up nights, breathin with scuffed Nike\\'s  Pour my beers for my peoples under the stairs  These years I got they names in my swears  Poppin Cristal like it\\'s my first child, lickin shots, holiday style  Rockin Steele sweaters, Wallaby down  Twenty-four carats, countin cabbage, like the arabs  The marriage of me and the mic is just like magic  Elegant performance, bubble Lex full insurance  Guzzlin Guinness shootin catchin cases concurrent  It\\'s Nas, seven hundred wives, King Solomon size  We on the rise, me and G, ghetto wise guys  The luciano Frankie Aiel, Bugsy Seagal  Green papers with eagles from a tray that\\'s illegal    [singer]  Brother you\\'ve got to make it happen  Yeahhhahhyeahhh, get this money, yeahhh  Brother you\\'ve got to make it happen  When you\\'re living in the fast life, heyy yeah yeah    [Verse Three: G Rap, Nas]    [Rap] Aiyyo my lifestyle\\'s exquisite, yayo like a blizzard  [Nas] It\\'s choir attire standin on ground with one pivot  [Rap] Two players rockin silk blazers and diamonds like glaciers  [Nas] Lands with namebrand seats reclinin like in spaceships  [Rap] Bodies on ice  [Nas] Livin trife, rollin fixed up dice  [Rap] Gamblin Grants  [Nas] Handlin stamps  [duo] Moves are sheist  [Nas] My bankrolls, got the cops comin in plain clothes  [Rap] Tryin to arraign again cause of our fame that\\'s how the game goes  [Nas] True  [Rap] Right out the slammer with the fame and glamour  Cookin up grams with Arm & Hammer supplyin scramblers in Alabama  [Nas] Rub out faces and leave no traces  My aces got mad body cases, preserve spaces at the horse races  Servin us Dom P my cliquo  Dimes with magnifico, puttin in cut inside ?perico?  Heat for foes, shoppin sprees with my fleet for clothes  in Carribean suites, deep, rippin beats with flows  [Rap] Aiyyo, we went from standin on blocks, without some socks  sellin rocks, to pickin up stock and boat docks with glocks  and got poppy seed fields with million dollar bills  Packin all the blue steel we keeps it real inside the battlefield  [Nas] Yeah so here\\'s a toast to the funds and things  Gun smokes in rings, graveyards is buried with kings    [Chorus]    [singer does same part again with variations to fade, mostly \"I\" for \"you\"]'"
      ]
     },
     "execution_count": 82,
     "metadata": {},
     "output_type": "execute_result"
    }
   ],
   "source": [
    "df.iloc[idx,:]['lyrics']"
   ]
  },
  {
   "cell_type": "code",
   "execution_count": 67,
   "metadata": {},
   "outputs": [
    {
     "data": {
      "text/html": [
       "<div>\n",
       "<style scoped>\n",
       "    .dataframe tbody tr th:only-of-type {\n",
       "        vertical-align: middle;\n",
       "    }\n",
       "\n",
       "    .dataframe tbody tr th {\n",
       "        vertical-align: top;\n",
       "    }\n",
       "\n",
       "    .dataframe thead th {\n",
       "        text-align: right;\n",
       "    }\n",
       "</style>\n",
       "<table border=\"1\" class=\"dataframe\">\n",
       "  <thead>\n",
       "    <tr style=\"text-align: right;\">\n",
       "      <th></th>\n",
       "      <th>artist</th>\n",
       "      <th>title</th>\n",
       "      <th>lyrics</th>\n",
       "      <th>lyrics_tokens</th>\n",
       "      <th>word_count</th>\n",
       "      <th>unique_word_count</th>\n",
       "      <th>token_count</th>\n",
       "      <th>unique_token_count</th>\n",
       "    </tr>\n",
       "  </thead>\n",
       "  <tbody>\n",
       "    <tr>\n",
       "      <th>1520</th>\n",
       "      <td>Eminem</td>\n",
       "      <td>Rap God</td>\n",
       "      <td>Look, I was gonna go easy on you not to hurt y...</td>\n",
       "      <td>[look, easy, hurt, feeling, chance, wrong, fee...</td>\n",
       "      <td>1539</td>\n",
       "      <td>722</td>\n",
       "      <td>630</td>\n",
       "      <td>435</td>\n",
       "    </tr>\n",
       "  </tbody>\n",
       "</table>\n",
       "</div>"
      ],
      "text/plain": [
       "      artist    title                                             lyrics  \\\n",
       "1520  Eminem  Rap God  Look, I was gonna go easy on you not to hurt y...   \n",
       "\n",
       "                                          lyrics_tokens  word_count  \\\n",
       "1520  [look, easy, hurt, feeling, chance, wrong, fee...        1539   \n",
       "\n",
       "      unique_word_count  token_count  unique_token_count  \n",
       "1520                722          630                 435  "
      ]
     },
     "execution_count": 67,
     "metadata": {},
     "output_type": "execute_result"
    }
   ],
   "source": [
    "df[df['title'] == 'Rap God']"
   ]
  },
  {
   "cell_type": "code",
   "execution_count": 69,
   "metadata": {},
   "outputs": [
    {
     "name": "stdout",
     "output_type": "stream",
     "text": [
      "0.4691358024691358\n"
     ]
    }
   ],
   "source": [
    "wc = df[df['title'] == 'Rap God']['word_count'][1520]\n",
    "unique = df[df['title'] == 'Rap God']['unique_word_count'][1520]\n",
    "print(unique / wc)"
   ]
  },
  {
   "cell_type": "code",
   "execution_count": 71,
   "metadata": {},
   "outputs": [
    {
     "data": {
      "text/html": [
       "<div>\n",
       "<style scoped>\n",
       "    .dataframe tbody tr th:only-of-type {\n",
       "        vertical-align: middle;\n",
       "    }\n",
       "\n",
       "    .dataframe tbody tr th {\n",
       "        vertical-align: top;\n",
       "    }\n",
       "\n",
       "    .dataframe thead th {\n",
       "        text-align: right;\n",
       "    }\n",
       "</style>\n",
       "<table border=\"1\" class=\"dataframe\">\n",
       "  <thead>\n",
       "    <tr style=\"text-align: right;\">\n",
       "      <th></th>\n",
       "      <th>artist</th>\n",
       "      <th>title</th>\n",
       "      <th>lyrics</th>\n",
       "      <th>lyrics_tokens</th>\n",
       "      <th>word_count</th>\n",
       "      <th>unique_word_count</th>\n",
       "      <th>token_count</th>\n",
       "      <th>unique_token_count</th>\n",
       "    </tr>\n",
       "  </thead>\n",
       "  <tbody>\n",
       "    <tr>\n",
       "      <th>1520</th>\n",
       "      <td>Eminem</td>\n",
       "      <td>Rap God</td>\n",
       "      <td>Look, I was gonna go easy on you not to hurt y...</td>\n",
       "      <td>[look, easy, hurt, feeling, chance, wrong, fee...</td>\n",
       "      <td>1539</td>\n",
       "      <td>722</td>\n",
       "      <td>630</td>\n",
       "      <td>435</td>\n",
       "    </tr>\n",
       "  </tbody>\n",
       "</table>\n",
       "</div>"
      ],
      "text/plain": [
       "      artist    title                                             lyrics  \\\n",
       "1520  Eminem  Rap God  Look, I was gonna go easy on you not to hurt y...   \n",
       "\n",
       "                                          lyrics_tokens  word_count  \\\n",
       "1520  [look, easy, hurt, feeling, chance, wrong, fee...        1539   \n",
       "\n",
       "      unique_word_count  token_count  unique_token_count  \n",
       "1520                722          630                 435  "
      ]
     },
     "execution_count": 71,
     "metadata": {},
     "output_type": "execute_result"
    }
   ],
   "source": [
    "df[(df['token_count'] > 600) & (df['unique_token_count'] >400)]"
   ]
  },
  {
   "cell_type": "code",
   "execution_count": null,
   "metadata": {},
   "outputs": [],
   "source": []
  },
  {
   "cell_type": "code",
   "execution_count": null,
   "metadata": {},
   "outputs": [],
   "source": []
  },
  {
   "cell_type": "code",
   "execution_count": null,
   "metadata": {},
   "outputs": [],
   "source": []
  },
  {
   "cell_type": "code",
   "execution_count": 98,
   "metadata": {},
   "outputs": [
    {
     "data": {
      "text/plain": [
       "artist\n",
       "Taylor Swift           58\n",
       "Kenny Chesney          42\n",
       "Tim McGraw             39\n",
       "Keith Urban            37\n",
       "Drake                  33\n",
       "Rascal Flatts          32\n",
       "Brad Paisley           32\n",
       "George Strait          30\n",
       "Toby Keith             30\n",
       "Jason Aldean           29\n",
       "Carrie Underwood       28\n",
       "Blake Shelton          27\n",
       "Eminem                 26\n",
       "Rihanna                25\n",
       "Luke Bryan             25\n",
       "Kelly Clarkson         23\n",
       "P!nk                   23\n",
       "Dierks Bentley         23\n",
       "Beyonce                23\n",
       "Britney Spears         22\n",
       "Alan Jackson           21\n",
       "Usher                  20\n",
       "Madonna                20\n",
       "Maroon 5               19\n",
       "Chris Brown            19\n",
       "Brooks & Dunn          18\n",
       "R. Kelly               18\n",
       "Katy Perry             18\n",
       "J. Cole                17\n",
       "Nickelback             17\n",
       "Montgomery Gentry      17\n",
       "Eric Church            17\n",
       "Miranda Lambert        17\n",
       "Justin Timberlake      17\n",
       "Kendrick Lamar         16\n",
       "Billy Currington       16\n",
       "Dixie Chicks           16\n",
       "Lady Antebellum        16\n",
       "Jake Owen              15\n",
       "Backstreet Boys        15\n",
       "Lady Gaga              15\n",
       "Zac Brown Band         15\n",
       "Demi Lovato            15\n",
       "Mary J. Blige          15\n",
       "Christina Aguilera     15\n",
       "Lonestar               15\n",
       "Martina McBride        15\n",
       "The Black Eyed Peas    15\n",
       "Fall Out Boy           14\n",
       "Nicki Minaj            14\n",
       "Name: title, dtype: int64"
      ]
     },
     "execution_count": 98,
     "metadata": {},
     "output_type": "execute_result"
    }
   ],
   "source": [
    "top_artist = df.groupby(by='artist').count().sort_values(by='title',ascending=False).loc[:,'title']\n",
    "top_artist[:50]"
   ]
  },
  {
   "cell_type": "code",
   "execution_count": 154,
   "metadata": {},
   "outputs": [],
   "source": [
    "artist_list = ['Eminem', 'Britney Spears']\n",
    "working_df = df[df['artist'].isin(artist_list)]\n",
    "\n",
    "song_is_artist = pd.get_dummies(working_df['artist'], prefix='is')"
   ]
  },
  {
   "cell_type": "code",
   "execution_count": 150,
   "metadata": {},
   "outputs": [],
   "source": [
    "def tf(term, document_tokens):\n",
    "    term_occ = document_tokens.count(term)\n",
    "    total_tokens = len(document_tokens)\n",
    "    return term_occ / total_tokens\n",
    "\n",
    "\n",
    "\n",
    "def get_tf(document_tokens):\n",
    "    term_freqs = {}\n",
    "    for token in document_tokens:\n",
    "        if token not in term_freqs:\n",
    "            term_freqs[token] = tf(token, document_tokens)\n",
    "    return term_freqs\n",
    "    \n",
    "\n",
    "def get_idf_dict(corpus):\n",
    "    occ_dict = {}\n",
    "    for doc in corpus:\n",
    "        for token in doc:\n",
    "            if token not in occ_dict:\n",
    "                occ_dict[token] = 1\n",
    "            else:\n",
    "                occ_dict[token] += 1\n",
    "    return occ_dict\n",
    "\n",
    "def get_doc_freq_dict(corpus):\n",
    "    doc_occs = Counter([word for row in corpus for word in set(row)])\n",
    "    doc_freq = {k: (v / float(len(docs))) for k, v in doc_occs.items()}\n",
    "    return doc_freq\n",
    "\n",
    "\n",
    "def vectorize_tokens(pandas_series):\n",
    "    docs = pandas_series.to_numpy()\n",
    "    doc_freq = get_doc_freq_dict(working_df['lyrics_tokens'])\n",
    "    vocabulary = [k for k,v in doc_freq.items()]\n",
    "    vectors = np.zeros((len(docs),len(vocabulary)))\n",
    "\n",
    "    for i in range(len(docs)):\n",
    "        for j in range(len(vocabulary)):\n",
    "            term     = vocabulary[j]\n",
    "            term_tf  = tf(term, docs[i])   # 0.0 if term not found in doc\n",
    "            term_idf = np.log(1 + (1 / doc_freq[term])) # smooth formula\n",
    "            vectors[i,j] = term_tf * term_idf\n",
    "    return vectors, vocabulary\n",
    "\n"
   ]
  },
  {
   "cell_type": "code",
   "execution_count": 307,
   "metadata": {
    "scrolled": true
   },
   "outputs": [
    {
     "data": {
      "text/plain": [
       "artist\n",
       "Taylor Swift           58\n",
       "Kenny Chesney          42\n",
       "Tim McGraw             39\n",
       "Keith Urban            37\n",
       "Drake                  33\n",
       "Rascal Flatts          32\n",
       "Brad Paisley           32\n",
       "George Strait          30\n",
       "Toby Keith             30\n",
       "Jason Aldean           29\n",
       "Carrie Underwood       28\n",
       "Blake Shelton          27\n",
       "Eminem                 26\n",
       "Rihanna                25\n",
       "Luke Bryan             25\n",
       "Kelly Clarkson         23\n",
       "P!nk                   23\n",
       "Dierks Bentley         23\n",
       "Beyonce                23\n",
       "Britney Spears         22\n",
       "Alan Jackson           21\n",
       "Usher                  20\n",
       "Madonna                20\n",
       "Maroon 5               19\n",
       "Chris Brown            19\n",
       "Brooks & Dunn          18\n",
       "R. Kelly               18\n",
       "Katy Perry             18\n",
       "J. Cole                17\n",
       "Nickelback             17\n",
       "Montgomery Gentry      17\n",
       "Eric Church            17\n",
       "Miranda Lambert        17\n",
       "Justin Timberlake      17\n",
       "Kendrick Lamar         16\n",
       "Billy Currington       16\n",
       "Dixie Chicks           16\n",
       "Lady Antebellum        16\n",
       "Jake Owen              15\n",
       "Backstreet Boys        15\n",
       "Lady Gaga              15\n",
       "Zac Brown Band         15\n",
       "Demi Lovato            15\n",
       "Mary J. Blige          15\n",
       "Christina Aguilera     15\n",
       "Lonestar               15\n",
       "Martina McBride        15\n",
       "The Black Eyed Peas    15\n",
       "Fall Out Boy           14\n",
       "Nicki Minaj            14\n",
       "Name: title, dtype: int64"
      ]
     },
     "execution_count": 307,
     "metadata": {},
     "output_type": "execute_result"
    }
   ],
   "source": [
    "top_artist = df.groupby(by='artist').count().sort_values(by='title',ascending=False).loc[:,'title']\n",
    "top_artist[:50]"
   ]
  },
  {
   "cell_type": "code",
   "execution_count": 308,
   "metadata": {},
   "outputs": [],
   "source": [
    "artist_list = ['Eminem', 'Britney Spears', 'Taylor Swift']\n",
    "working_df = df[df['artist'].isin(artist_list)]\n",
    "\n",
    "song_is_artist = pd.get_dummies(working_df['artist'], prefix='is')"
   ]
  },
  {
   "cell_type": "code",
   "execution_count": 310,
   "metadata": {},
   "outputs": [
    {
     "data": {
      "text/html": [
       "<div>\n",
       "<style scoped>\n",
       "    .dataframe tbody tr th:only-of-type {\n",
       "        vertical-align: middle;\n",
       "    }\n",
       "\n",
       "    .dataframe tbody tr th {\n",
       "        vertical-align: top;\n",
       "    }\n",
       "\n",
       "    .dataframe thead th {\n",
       "        text-align: right;\n",
       "    }\n",
       "</style>\n",
       "<table border=\"1\" class=\"dataframe\">\n",
       "  <thead>\n",
       "    <tr style=\"text-align: right;\">\n",
       "      <th></th>\n",
       "      <th>is_Britney Spears</th>\n",
       "      <th>is_Eminem</th>\n",
       "      <th>is_Taylor Swift</th>\n",
       "    </tr>\n",
       "  </thead>\n",
       "  <tbody>\n",
       "    <tr>\n",
       "      <th>84</th>\n",
       "      <td>0</td>\n",
       "      <td>1</td>\n",
       "      <td>0</td>\n",
       "    </tr>\n",
       "    <tr>\n",
       "      <th>114</th>\n",
       "      <td>0</td>\n",
       "      <td>1</td>\n",
       "      <td>0</td>\n",
       "    </tr>\n",
       "    <tr>\n",
       "      <th>117</th>\n",
       "      <td>0</td>\n",
       "      <td>1</td>\n",
       "      <td>0</td>\n",
       "    </tr>\n",
       "    <tr>\n",
       "      <th>124</th>\n",
       "      <td>0</td>\n",
       "      <td>1</td>\n",
       "      <td>0</td>\n",
       "    </tr>\n",
       "    <tr>\n",
       "      <th>131</th>\n",
       "      <td>0</td>\n",
       "      <td>1</td>\n",
       "      <td>0</td>\n",
       "    </tr>\n",
       "  </tbody>\n",
       "</table>\n",
       "</div>"
      ],
      "text/plain": [
       "     is_Britney Spears  is_Eminem  is_Taylor Swift\n",
       "84                   0          1                0\n",
       "114                  0          1                0\n",
       "117                  0          1                0\n",
       "124                  0          1                0\n",
       "131                  0          1                0"
      ]
     },
     "execution_count": 310,
     "metadata": {},
     "output_type": "execute_result"
    }
   ],
   "source": []
  },
  {
   "cell_type": "code",
   "execution_count": 293,
   "metadata": {},
   "outputs": [],
   "source": [
    "arr, vocab = vectorize_tokens(working_df['lyrics_tokens'])"
   ]
  },
  {
   "cell_type": "code",
   "execution_count": 294,
   "metadata": {},
   "outputs": [],
   "source": [
    "model_df = pd.DataFrame(arr, columns=vocab)"
   ]
  },
  {
   "cell_type": "code",
   "execution_count": 296,
   "metadata": {},
   "outputs": [],
   "source": [
    "X = arr\n",
    "y = song_is_artist.iloc[:,0]\n",
    "\n",
    "X_train, X_test, y_train, y_test = train_test_split(X, y, \n",
    "                                                    test_size=.20)\n",
    "\n",
    "rfc = RandomForestClassifier(n_estimators=500,\n",
    "                             max_features='auto',\n",
    "                             oob_score=True)\n",
    "rfc.fit(X_train, y_train)\n",
    "\n",
    "rfc.oob_score_"
   ]
  },
  {
   "cell_type": "code",
   "execution_count": null,
   "metadata": {},
   "outputs": [],
   "source": []
  },
  {
   "cell_type": "code",
   "execution_count": 306,
   "metadata": {},
   "outputs": [
    {
     "data": {
      "image/png": "[encoded data removed]",
      "text/plain": [
       "<Figure size 720x576 with 1 Axes>"
      ]
     },
     "metadata": {},
     "output_type": "display_data"
    }
   ],
   "source": [
    "feat_scores = pd.Series(rfc.feature_importances_,\n",
    "                           index=model_df.columns)\n",
    "feat_scores = feat_scores.sort_values()[-25:]\n",
    "ax = feat_scores.plot(kind='barh', \n",
    "                      figsize=(10,8),\n",
    "                      color='b')\n",
    "ax.set_title('Average Gini Importance')\n",
    "ax.set_xlabel('Average contribution to information gain');"
   ]
  },
  {
   "cell_type": "code",
   "execution_count": null,
   "metadata": {},
   "outputs": [],
   "source": []
  }
 ],
 "metadata": {
  "kernelspec": {
   "display_name": "Python 3",
   "language": "python",
   "name": "python3"
  },
  "language_info": {
   "codemirror_mode": {
    "name": "ipython",
    "version": 3
   },
   "file_extension": ".py",
   "mimetype": "text/x-python",
   "name": "python",
   "nbconvert_exporter": "python",
   "pygments_lexer": "ipython3",
   "version": "3.7.7"
  }
 },
 "nbformat": 4,
 "nbformat_minor": 4
}
