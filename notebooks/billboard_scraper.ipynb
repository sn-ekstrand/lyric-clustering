{
 "cells": [
  {
   "cell_type": "code",
   "execution_count": 2,
   "metadata": {},
   "outputs": [],
   "source": [
    "import pandas as pd\n",
    "import numpy as np\n",
    "import time\n",
    "from datetime import timedelta, date\n",
    "from pymongo import MongoClient\n",
    "import requests\n",
    "from bs4 import BeautifulSoup\n",
    "import json\n",
    "import logging"
   ]
  },
  {
   "cell_type": "code",
   "execution_count": 3,
   "metadata": {},
   "outputs": [],
   "source": [
    "client = MongoClient('localhost', 27017)\n",
    "db = client['songs']\n",
    "raw_html = db['raw_html']\n",
    "song_collection = db['song_collection']"
   ]
  },
  {
   "cell_type": "code",
   "execution_count": 13,
   "metadata": {},
   "outputs": [],
   "source": [
    "week = date(year=2020, month=5, day=2)\n",
    "years = 50\n",
    "weeks_delta = 13\n",
    "songs = set()\n",
    "for w in range(years * int(52 / weeks_delta)):\n",
    "    url = 'https://www.billboard.com/charts/hot-100/{}'.format(str(week))\n",
    "    try:\n",
    "        r = requests.get(url)\n",
    "    except Exception:\n",
    "        continue\n",
    "    raw_html.insert_one({'week': week, 'url': url, 'html': r.text})\n",
    "    soup = BeautifulSoup(r.text, 'html.parser')\n",
    "    for s in soup.find_all('span', \"chart-element__information\"):\n",
    "        artist = s.find('span', 'chart-element__information__artist').text\n",
    "        title = s.find('span', 'chart-element__information__song').text\n",
    "        songs.add((artist, title))\n",
    "    song_collection.insert_one({'week': str(week), 'songs': songs})    \n",
    "    week -= timedelta(weeks=weeks_delta)\n",
    "    time.sleep(np.random.randint(60, 120))\n",
    "\n",
    "    "
   ]
  },
  {
   "cell_type": "code",
   "execution_count": 19,
   "metadata": {},
   "outputs": [],
   "source": [
    "# lookup = list()\n",
    "# for s in songs:\n",
    "#     lookup.append((s[0].split(' feat. ')[0], s[1]))\n",
    "# lookup"
   ]
  },
  {
   "cell_type": "code",
   "execution_count": null,
   "metadata": {},
   "outputs": [],
   "source": []
  }
 ],
 "metadata": {
  "kernelspec": {
   "display_name": "Python 3",
   "language": "python",
   "name": "python3"
  },
  "language_info": {
   "codemirror_mode": {
    "name": "ipython",
    "version": 3
   },
   "file_extension": ".py",
   "mimetype": "text/x-python",
   "name": "python",
   "nbconvert_exporter": "python",
   "pygments_lexer": "ipython3",
   "version": "3.7.7"
  }
 },
 "nbformat": 4,
 "nbformat_minor": 4
}
